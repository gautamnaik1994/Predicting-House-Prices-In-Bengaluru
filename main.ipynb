{
 "cells": [
  {
   "cell_type": "markdown",
   "metadata": {},
   "source": [
    "# Predicting House Prices In Bengaluru"
   ]
  },
  {
   "cell_type": "markdown",
   "metadata": {},
   "source": [
    "## Overview\n",
    "What are the things that a potential home buyer considers before purchasing a house? The location, the size of the property, vicinity to offices, schools, parks, restaurants, hospitals or the stereotypical white picket fence? What about the most important factor -- the price? Now with the lingering impact of demonetization, the enforcement of the Real Estate (Regulation and Development) Act (RERA), and the lack of trust in property developers in the city, housing units sold across India in 2017 dropped by 7 percent. In fact, the property prices in Bengaluru fell by almost 5 percent in the second half of 2017, said a study published by property consultancy Knight Frank. For example, for a potential homeowner, over 9,000 apartment projects and flats for sale are available in the range of ₹42-52 lakh, followed by over 7,100 apartments that are in the ₹52-62 lakh budget segment, says a report by property website Makaan. According to the study, there are over 5,000 projects in the ₹15-25 lakh budget segment followed by those in the ₹34-43 lakh budget category. Buying a home, especially in a city like Bengaluru, is a tricky choice. While the major factors are usually the same for all metros, there are others to be considered for the Silicon Valley of India. With its help millennial crowd, vibrant culture, great climate and a slew of job opportunities, it is difficult to ascertain the price of a house in Bengaluru.   So what determines the property prices in Namma Bengaluru?\n",
    "\n",
    "##### Data \n",
    "\n",
    "The train and test data will consist of various features that describe that property in Bengaluru. This is an actual data set that is curated over months of primary & secondary research by our team. Each row contains fixed size object of features. There are 9 features and each feature can be accessed by its name. \n",
    "- Features Area_type - describes the area \n",
    "- Availability - when it can be possessed or when it is ready(categorical and time-series) \n",
    "- Location - where it is located in Bengaluru \n",
    "- Price - Value of the property in lakhs(INR) \n",
    "- Size - in BHK or Bedroom (1-10 or more)\n",
    "- Society - to which society it belongs\n",
    "- Total_sqft - size of the property in sq.ft\n",
    "- Bath - No. of bathrooms \n",
    "- Balcony - No. of the balcony \n",
    "\n",
    "##### Problem Statement \n",
    "\n",
    "With the given 9 features(categorical and continuous) build a model to predict the price of houses in Bengaluru.\n"
   ]
  },
  {
   "cell_type": "markdown",
   "metadata": {},
   "source": [
    "## Evaluation\n",
    "```python\n",
    "1 - np.sqrt(np.square(np.log10(y_pred +1) - np.log10(y_true +1)).mean())\n",
    "```"
   ]
  },
  {
   "cell_type": "markdown",
   "metadata": {},
   "source": [
    "## Imports"
   ]
  },
  {
   "cell_type": "code",
   "execution_count": 164,
   "metadata": {},
   "outputs": [],
   "source": [
    "import pandas as pd\n",
    "import seaborn as sns\n",
    "from IPython.core.interactiveshell import InteractiveShell\n",
    "import matplotlib.pyplot as plt\n",
    "InteractiveShell.ast_node_interactivity = \"all\"\n",
    "from IPython.core.pylabtools import figsize\n",
    "import numpy as np\n",
    "import pickle\n",
    "from sklearn.metrics import confusion_matrix,classification_report,accuracy_score, log_loss\n",
    "from sklearn.model_selection import cross_val_score\n",
    "from sklearn.preprocessing import StandardScaler\n",
    "from sklearn.model_selection import train_test_split, GridSearchCV,RandomizedSearchCV\n",
    "from sklearn.ensemble import RandomForestClassifier\n",
    "\n",
    "from hyperopt import hp,fmin,Trials,tpe,SparkTrials\n",
    "import xgboost as xgb\n",
    "from scipy.stats import uniform, randint\n",
    "from scipy import stats\n",
    "from sklearn import tree\n",
    "from sklearn.metrics import mean_squared_error\n",
    "import string\n",
    "import re\n",
    "from catboost import CatBoost, CatBoostRegressor, Pool\n",
    "from sklearn.preprocessing import PowerTransformer"
   ]
  },
  {
   "cell_type": "code",
   "execution_count": 155,
   "metadata": {},
   "outputs": [],
   "source": [
    "train=pd.read_csv(\"./Data/Train.csv\")\n",
    "test=pd.read_csv(\"./Data/Test.csv\")\n",
    "seed=42"
   ]
  },
  {
   "cell_type": "code",
   "execution_count": 3,
   "metadata": {},
   "outputs": [],
   "source": [
    "train_orig=train.copy()\n",
    "test_orig=test.copy()"
   ]
  },
  {
   "cell_type": "code",
   "execution_count": 103,
   "metadata": {},
   "outputs": [],
   "source": [
    "def value_counts_df(df, col):\n",
    "    \"\"\"\n",
    "    Returns pd.value_counts() as a DataFrame\n",
    "\n",
    "    Parameters\n",
    "    ----------\n",
    "    df : Pandas Dataframe\n",
    "        Dataframe on which to run value_counts(), must have column `col`.\n",
    "    col : str\n",
    "        Name of column in `df` for which to generate counts\n",
    "\n",
    "    Returns\n",
    "    -------\n",
    "    Pandas Dataframe\n",
    "        Returned dataframe will have a single column named \"count\" which contains the count_values()\n",
    "        for each unique value of df[col]. The index name of this dataframe is `col`.\n",
    "\n",
    "    Example\n",
    "    -------\n",
    "    >>> value_counts_df(pd.DataFrame({'a':[1, 1, 2, 2, 2]}), 'a')\n",
    "       count\n",
    "    a\n",
    "    2      3\n",
    "    1      2\n",
    "    \"\"\"\n",
    "    df = pd.DataFrame(df[col].value_counts())\n",
    "    df.index.name = col\n",
    "    df.columns = ['count']\n",
    "    return df\n",
    "\n",
    "def cleanLocationSociety(data):\n",
    "    if (type(data) != str):\n",
    "        data=str(data)\n",
    "    data=data.translate(str.maketrans('', '', string.punctuation))\n",
    "    data=' '.join(data.split())\n",
    "    data=data.lower()\n",
    "    arr=data.split(\" \")\n",
    "    return data\n",
    "\n",
    "def clean_availabilty(data):\n",
    "    pattern = '^\\d'\n",
    "    result = re.match(pattern, data)\n",
    "    if result:\n",
    "        return \"Not Available\"\n",
    "    else:\n",
    "        return data\n",
    "    \n",
    "def show_missing_count(data):\n",
    "    miss_percent = (data.isnull().sum() / len(data)) * 100\n",
    "    missing = pd.DataFrame({\"Percent\":miss_percent, 'Count':data.isnull().sum()}).sort_values(by=\"Percent\", ascending=False)\n",
    "    missing=missing.loc[missing['Percent'] > 0]\n",
    "    return missing\n",
    "    "
   ]
  },
  {
   "cell_type": "markdown",
   "metadata": {},
   "source": [
    "## Data Cleaning"
   ]
  },
  {
   "cell_type": "code",
   "execution_count": 8,
   "metadata": {},
   "outputs": [
    {
     "data": {
      "text/html": [
       "<div>\n",
       "<style scoped>\n",
       "    .dataframe tbody tr th:only-of-type {\n",
       "        vertical-align: middle;\n",
       "    }\n",
       "\n",
       "    .dataframe tbody tr th {\n",
       "        vertical-align: top;\n",
       "    }\n",
       "\n",
       "    .dataframe thead th {\n",
       "        text-align: right;\n",
       "    }\n",
       "</style>\n",
       "<table border=\"1\" class=\"dataframe\">\n",
       "  <thead>\n",
       "    <tr style=\"text-align: right;\">\n",
       "      <th></th>\n",
       "      <th>area_type</th>\n",
       "      <th>availability</th>\n",
       "      <th>location</th>\n",
       "      <th>size</th>\n",
       "      <th>society</th>\n",
       "      <th>total_sqft</th>\n",
       "      <th>bath</th>\n",
       "      <th>balcony</th>\n",
       "      <th>price</th>\n",
       "    </tr>\n",
       "  </thead>\n",
       "  <tbody>\n",
       "    <tr>\n",
       "      <th>0</th>\n",
       "      <td>Super built-up  Area</td>\n",
       "      <td>19-Dec</td>\n",
       "      <td>Electronic City Phase II</td>\n",
       "      <td>2 BHK</td>\n",
       "      <td>Coomee</td>\n",
       "      <td>1056</td>\n",
       "      <td>2.0</td>\n",
       "      <td>1.0</td>\n",
       "      <td>39.07</td>\n",
       "    </tr>\n",
       "    <tr>\n",
       "      <th>1</th>\n",
       "      <td>Plot  Area</td>\n",
       "      <td>Ready To Move</td>\n",
       "      <td>Chikka Tirupathi</td>\n",
       "      <td>4 Bedroom</td>\n",
       "      <td>Theanmp</td>\n",
       "      <td>2600</td>\n",
       "      <td>5.0</td>\n",
       "      <td>3.0</td>\n",
       "      <td>120.00</td>\n",
       "    </tr>\n",
       "    <tr>\n",
       "      <th>2</th>\n",
       "      <td>Built-up  Area</td>\n",
       "      <td>Ready To Move</td>\n",
       "      <td>Uttarahalli</td>\n",
       "      <td>3 BHK</td>\n",
       "      <td>NaN</td>\n",
       "      <td>1440</td>\n",
       "      <td>2.0</td>\n",
       "      <td>3.0</td>\n",
       "      <td>62.00</td>\n",
       "    </tr>\n",
       "    <tr>\n",
       "      <th>3</th>\n",
       "      <td>Super built-up  Area</td>\n",
       "      <td>Ready To Move</td>\n",
       "      <td>Lingadheeranahalli</td>\n",
       "      <td>3 BHK</td>\n",
       "      <td>Soiewre</td>\n",
       "      <td>1521</td>\n",
       "      <td>3.0</td>\n",
       "      <td>1.0</td>\n",
       "      <td>95.00</td>\n",
       "    </tr>\n",
       "    <tr>\n",
       "      <th>4</th>\n",
       "      <td>Super built-up  Area</td>\n",
       "      <td>Ready To Move</td>\n",
       "      <td>Kothanur</td>\n",
       "      <td>2 BHK</td>\n",
       "      <td>NaN</td>\n",
       "      <td>1200</td>\n",
       "      <td>2.0</td>\n",
       "      <td>1.0</td>\n",
       "      <td>51.00</td>\n",
       "    </tr>\n",
       "    <tr>\n",
       "      <th>5</th>\n",
       "      <td>Super built-up  Area</td>\n",
       "      <td>Ready To Move</td>\n",
       "      <td>Whitefield</td>\n",
       "      <td>2 BHK</td>\n",
       "      <td>DuenaTa</td>\n",
       "      <td>1170</td>\n",
       "      <td>2.0</td>\n",
       "      <td>1.0</td>\n",
       "      <td>38.00</td>\n",
       "    </tr>\n",
       "    <tr>\n",
       "      <th>6</th>\n",
       "      <td>Super built-up  Area</td>\n",
       "      <td>18-May</td>\n",
       "      <td>Old Airport Road</td>\n",
       "      <td>4 BHK</td>\n",
       "      <td>Jaades</td>\n",
       "      <td>2732</td>\n",
       "      <td>4.0</td>\n",
       "      <td>NaN</td>\n",
       "      <td>204.00</td>\n",
       "    </tr>\n",
       "    <tr>\n",
       "      <th>7</th>\n",
       "      <td>Super built-up  Area</td>\n",
       "      <td>Ready To Move</td>\n",
       "      <td>Rajaji Nagar</td>\n",
       "      <td>4 BHK</td>\n",
       "      <td>Brway G</td>\n",
       "      <td>3300</td>\n",
       "      <td>4.0</td>\n",
       "      <td>NaN</td>\n",
       "      <td>600.00</td>\n",
       "    </tr>\n",
       "    <tr>\n",
       "      <th>8</th>\n",
       "      <td>Super built-up  Area</td>\n",
       "      <td>Ready To Move</td>\n",
       "      <td>Marathahalli</td>\n",
       "      <td>3 BHK</td>\n",
       "      <td>NaN</td>\n",
       "      <td>1310</td>\n",
       "      <td>3.0</td>\n",
       "      <td>1.0</td>\n",
       "      <td>63.25</td>\n",
       "    </tr>\n",
       "    <tr>\n",
       "      <th>9</th>\n",
       "      <td>Plot  Area</td>\n",
       "      <td>Ready To Move</td>\n",
       "      <td>Gandhi Bazar</td>\n",
       "      <td>6 Bedroom</td>\n",
       "      <td>NaN</td>\n",
       "      <td>1020</td>\n",
       "      <td>6.0</td>\n",
       "      <td>NaN</td>\n",
       "      <td>370.00</td>\n",
       "    </tr>\n",
       "  </tbody>\n",
       "</table>\n",
       "</div>"
      ],
      "text/plain": [
       "              area_type   availability                  location       size  \\\n",
       "0  Super built-up  Area         19-Dec  Electronic City Phase II      2 BHK   \n",
       "1            Plot  Area  Ready To Move          Chikka Tirupathi  4 Bedroom   \n",
       "2        Built-up  Area  Ready To Move               Uttarahalli      3 BHK   \n",
       "3  Super built-up  Area  Ready To Move        Lingadheeranahalli      3 BHK   \n",
       "4  Super built-up  Area  Ready To Move                  Kothanur      2 BHK   \n",
       "5  Super built-up  Area  Ready To Move                Whitefield      2 BHK   \n",
       "6  Super built-up  Area         18-May          Old Airport Road      4 BHK   \n",
       "7  Super built-up  Area  Ready To Move              Rajaji Nagar      4 BHK   \n",
       "8  Super built-up  Area  Ready To Move              Marathahalli      3 BHK   \n",
       "9            Plot  Area  Ready To Move              Gandhi Bazar  6 Bedroom   \n",
       "\n",
       "   society total_sqft  bath  balcony   price  \n",
       "0  Coomee        1056   2.0      1.0   39.07  \n",
       "1  Theanmp       2600   5.0      3.0  120.00  \n",
       "2      NaN       1440   2.0      3.0   62.00  \n",
       "3  Soiewre       1521   3.0      1.0   95.00  \n",
       "4      NaN       1200   2.0      1.0   51.00  \n",
       "5  DuenaTa       1170   2.0      1.0   38.00  \n",
       "6  Jaades        2732   4.0      NaN  204.00  \n",
       "7  Brway G       3300   4.0      NaN  600.00  \n",
       "8      NaN       1310   3.0      1.0   63.25  \n",
       "9      NaN       1020   6.0      NaN  370.00  "
      ]
     },
     "execution_count": 8,
     "metadata": {},
     "output_type": "execute_result"
    },
    {
     "data": {
      "text/html": [
       "<div>\n",
       "<style scoped>\n",
       "    .dataframe tbody tr th:only-of-type {\n",
       "        vertical-align: middle;\n",
       "    }\n",
       "\n",
       "    .dataframe tbody tr th {\n",
       "        vertical-align: top;\n",
       "    }\n",
       "\n",
       "    .dataframe thead th {\n",
       "        text-align: right;\n",
       "    }\n",
       "</style>\n",
       "<table border=\"1\" class=\"dataframe\">\n",
       "  <thead>\n",
       "    <tr style=\"text-align: right;\">\n",
       "      <th></th>\n",
       "      <th>area_type</th>\n",
       "      <th>availability</th>\n",
       "      <th>location</th>\n",
       "      <th>size</th>\n",
       "      <th>society</th>\n",
       "      <th>total_sqft</th>\n",
       "      <th>bath</th>\n",
       "      <th>balcony</th>\n",
       "      <th>price</th>\n",
       "    </tr>\n",
       "  </thead>\n",
       "  <tbody>\n",
       "    <tr>\n",
       "      <th>0</th>\n",
       "      <td>Super built-up  Area</td>\n",
       "      <td>Ready To Move</td>\n",
       "      <td>Brookefield</td>\n",
       "      <td>2 BHK</td>\n",
       "      <td>Roeekbl</td>\n",
       "      <td>1225</td>\n",
       "      <td>2.0</td>\n",
       "      <td>2.0</td>\n",
       "      <td>NaN</td>\n",
       "    </tr>\n",
       "    <tr>\n",
       "      <th>1</th>\n",
       "      <td>Plot  Area</td>\n",
       "      <td>Ready To Move</td>\n",
       "      <td>Akshaya Nagar</td>\n",
       "      <td>9 Bedroom</td>\n",
       "      <td>NaN</td>\n",
       "      <td>2400</td>\n",
       "      <td>9.0</td>\n",
       "      <td>2.0</td>\n",
       "      <td>NaN</td>\n",
       "    </tr>\n",
       "    <tr>\n",
       "      <th>2</th>\n",
       "      <td>Plot  Area</td>\n",
       "      <td>18-Apr</td>\n",
       "      <td>Hennur Road</td>\n",
       "      <td>4 Bedroom</td>\n",
       "      <td>Saandtt</td>\n",
       "      <td>1650</td>\n",
       "      <td>5.0</td>\n",
       "      <td>2.0</td>\n",
       "      <td>NaN</td>\n",
       "    </tr>\n",
       "    <tr>\n",
       "      <th>3</th>\n",
       "      <td>Super built-up  Area</td>\n",
       "      <td>Ready To Move</td>\n",
       "      <td>Kodichikkanahalli</td>\n",
       "      <td>3 BHK</td>\n",
       "      <td>Winerri</td>\n",
       "      <td>1322</td>\n",
       "      <td>3.0</td>\n",
       "      <td>1.0</td>\n",
       "      <td>NaN</td>\n",
       "    </tr>\n",
       "    <tr>\n",
       "      <th>4</th>\n",
       "      <td>Super built-up  Area</td>\n",
       "      <td>Ready To Move</td>\n",
       "      <td>Konanakunte</td>\n",
       "      <td>2 BHK</td>\n",
       "      <td>AmageSa</td>\n",
       "      <td>1161</td>\n",
       "      <td>2.0</td>\n",
       "      <td>1.0</td>\n",
       "      <td>NaN</td>\n",
       "    </tr>\n",
       "  </tbody>\n",
       "</table>\n",
       "</div>"
      ],
      "text/plain": [
       "              area_type   availability           location       size  society  \\\n",
       "0  Super built-up  Area  Ready To Move        Brookefield      2 BHK  Roeekbl   \n",
       "1            Plot  Area  Ready To Move      Akshaya Nagar  9 Bedroom      NaN   \n",
       "2            Plot  Area         18-Apr        Hennur Road  4 Bedroom  Saandtt   \n",
       "3  Super built-up  Area  Ready To Move  Kodichikkanahalli      3 BHK  Winerri   \n",
       "4  Super built-up  Area  Ready To Move        Konanakunte      2 BHK  AmageSa   \n",
       "\n",
       "  total_sqft  bath  balcony  price  \n",
       "0       1225   2.0      2.0    NaN  \n",
       "1       2400   9.0      2.0    NaN  \n",
       "2       1650   5.0      2.0    NaN  \n",
       "3       1322   3.0      1.0    NaN  \n",
       "4       1161   2.0      1.0    NaN  "
      ]
     },
     "execution_count": 8,
     "metadata": {},
     "output_type": "execute_result"
    }
   ],
   "source": [
    "train.head(10)\n",
    "test.head()"
   ]
  },
  {
   "cell_type": "code",
   "execution_count": 59,
   "metadata": {},
   "outputs": [
    {
     "name": "stdout",
     "output_type": "stream",
     "text": [
      "<class 'pandas.core.frame.DataFrame'>\n",
      "RangeIndex: 13320 entries, 0 to 13319\n",
      "Data columns (total 10 columns):\n",
      " #   Column        Non-Null Count  Dtype  \n",
      "---  ------        --------------  -----  \n",
      " 0   area_type     13320 non-null  object \n",
      " 1   availability  13320 non-null  object \n",
      " 2   location      13319 non-null  object \n",
      " 3   size          13304 non-null  object \n",
      " 4   society       7818 non-null   object \n",
      " 5   total_sqft    13320 non-null  object \n",
      " 6   bath          13247 non-null  float64\n",
      " 7   balcony       12711 non-null  float64\n",
      " 8   price         13320 non-null  float64\n",
      " 9   source        13320 non-null  object \n",
      "dtypes: float64(3), object(7)\n",
      "memory usage: 1.0+ MB\n"
     ]
    }
   ],
   "source": [
    "train.info()"
   ]
  },
  {
   "cell_type": "code",
   "execution_count": 10,
   "metadata": {},
   "outputs": [
    {
     "data": {
      "text/html": [
       "<div>\n",
       "<style scoped>\n",
       "    .dataframe tbody tr th:only-of-type {\n",
       "        vertical-align: middle;\n",
       "    }\n",
       "\n",
       "    .dataframe tbody tr th {\n",
       "        vertical-align: top;\n",
       "    }\n",
       "\n",
       "    .dataframe thead th {\n",
       "        text-align: right;\n",
       "    }\n",
       "</style>\n",
       "<table border=\"1\" class=\"dataframe\">\n",
       "  <thead>\n",
       "    <tr style=\"text-align: right;\">\n",
       "      <th></th>\n",
       "      <th>Percent</th>\n",
       "      <th>Count</th>\n",
       "    </tr>\n",
       "  </thead>\n",
       "  <tbody>\n",
       "    <tr>\n",
       "      <th>society</th>\n",
       "      <td>41.306306</td>\n",
       "      <td>5502</td>\n",
       "    </tr>\n",
       "    <tr>\n",
       "      <th>balcony</th>\n",
       "      <td>4.572072</td>\n",
       "      <td>609</td>\n",
       "    </tr>\n",
       "    <tr>\n",
       "      <th>bath</th>\n",
       "      <td>0.548048</td>\n",
       "      <td>73</td>\n",
       "    </tr>\n",
       "    <tr>\n",
       "      <th>size</th>\n",
       "      <td>0.120120</td>\n",
       "      <td>16</td>\n",
       "    </tr>\n",
       "    <tr>\n",
       "      <th>location</th>\n",
       "      <td>0.007508</td>\n",
       "      <td>1</td>\n",
       "    </tr>\n",
       "  </tbody>\n",
       "</table>\n",
       "</div>"
      ],
      "text/plain": [
       "            Percent  Count\n",
       "society   41.306306   5502\n",
       "balcony    4.572072    609\n",
       "bath       0.548048     73\n",
       "size       0.120120     16\n",
       "location   0.007508      1"
      ]
     },
     "execution_count": 10,
     "metadata": {},
     "output_type": "execute_result"
    },
    {
     "data": {
      "text/html": [
       "<div>\n",
       "<style scoped>\n",
       "    .dataframe tbody tr th:only-of-type {\n",
       "        vertical-align: middle;\n",
       "    }\n",
       "\n",
       "    .dataframe tbody tr th {\n",
       "        vertical-align: top;\n",
       "    }\n",
       "\n",
       "    .dataframe thead th {\n",
       "        text-align: right;\n",
       "    }\n",
       "</style>\n",
       "<table border=\"1\" class=\"dataframe\">\n",
       "  <thead>\n",
       "    <tr style=\"text-align: right;\">\n",
       "      <th></th>\n",
       "      <th>Percent</th>\n",
       "      <th>Count</th>\n",
       "    </tr>\n",
       "  </thead>\n",
       "  <tbody>\n",
       "    <tr>\n",
       "      <th>price</th>\n",
       "      <td>100.000000</td>\n",
       "      <td>1480</td>\n",
       "    </tr>\n",
       "    <tr>\n",
       "      <th>society</th>\n",
       "      <td>42.297297</td>\n",
       "      <td>626</td>\n",
       "    </tr>\n",
       "    <tr>\n",
       "      <th>balcony</th>\n",
       "      <td>4.662162</td>\n",
       "      <td>69</td>\n",
       "    </tr>\n",
       "    <tr>\n",
       "      <th>bath</th>\n",
       "      <td>0.472973</td>\n",
       "      <td>7</td>\n",
       "    </tr>\n",
       "    <tr>\n",
       "      <th>size</th>\n",
       "      <td>0.135135</td>\n",
       "      <td>2</td>\n",
       "    </tr>\n",
       "  </tbody>\n",
       "</table>\n",
       "</div>"
      ],
      "text/plain": [
       "            Percent  Count\n",
       "price    100.000000   1480\n",
       "society   42.297297    626\n",
       "balcony    4.662162     69\n",
       "bath       0.472973      7\n",
       "size       0.135135      2"
      ]
     },
     "execution_count": 10,
     "metadata": {},
     "output_type": "execute_result"
    }
   ],
   "source": [
    "show_missing_count(train)\n",
    "show_missing_count(test)"
   ]
  },
  {
   "cell_type": "code",
   "execution_count": 40,
   "metadata": {},
   "outputs": [
    {
     "data": {
      "text/html": [
       "<div>\n",
       "<style scoped>\n",
       "    .dataframe tbody tr th:only-of-type {\n",
       "        vertical-align: middle;\n",
       "    }\n",
       "\n",
       "    .dataframe tbody tr th {\n",
       "        vertical-align: top;\n",
       "    }\n",
       "\n",
       "    .dataframe thead th {\n",
       "        text-align: right;\n",
       "    }\n",
       "</style>\n",
       "<table border=\"1\" class=\"dataframe\">\n",
       "  <thead>\n",
       "    <tr style=\"text-align: right;\">\n",
       "      <th></th>\n",
       "      <th>bath</th>\n",
       "      <th>balcony</th>\n",
       "      <th>price</th>\n",
       "    </tr>\n",
       "  </thead>\n",
       "  <tbody>\n",
       "    <tr>\n",
       "      <th>count</th>\n",
       "      <td>13247.000000</td>\n",
       "      <td>12711.000000</td>\n",
       "      <td>13320.000000</td>\n",
       "    </tr>\n",
       "    <tr>\n",
       "      <th>mean</th>\n",
       "      <td>2.692610</td>\n",
       "      <td>1.584376</td>\n",
       "      <td>112.565627</td>\n",
       "    </tr>\n",
       "    <tr>\n",
       "      <th>std</th>\n",
       "      <td>1.341458</td>\n",
       "      <td>0.817263</td>\n",
       "      <td>148.971674</td>\n",
       "    </tr>\n",
       "    <tr>\n",
       "      <th>min</th>\n",
       "      <td>1.000000</td>\n",
       "      <td>0.000000</td>\n",
       "      <td>8.000000</td>\n",
       "    </tr>\n",
       "    <tr>\n",
       "      <th>25%</th>\n",
       "      <td>2.000000</td>\n",
       "      <td>1.000000</td>\n",
       "      <td>50.000000</td>\n",
       "    </tr>\n",
       "    <tr>\n",
       "      <th>50%</th>\n",
       "      <td>2.000000</td>\n",
       "      <td>2.000000</td>\n",
       "      <td>72.000000</td>\n",
       "    </tr>\n",
       "    <tr>\n",
       "      <th>75%</th>\n",
       "      <td>3.000000</td>\n",
       "      <td>2.000000</td>\n",
       "      <td>120.000000</td>\n",
       "    </tr>\n",
       "    <tr>\n",
       "      <th>max</th>\n",
       "      <td>40.000000</td>\n",
       "      <td>3.000000</td>\n",
       "      <td>3600.000000</td>\n",
       "    </tr>\n",
       "  </tbody>\n",
       "</table>\n",
       "</div>"
      ],
      "text/plain": [
       "               bath       balcony         price\n",
       "count  13247.000000  12711.000000  13320.000000\n",
       "mean       2.692610      1.584376    112.565627\n",
       "std        1.341458      0.817263    148.971674\n",
       "min        1.000000      0.000000      8.000000\n",
       "25%        2.000000      1.000000     50.000000\n",
       "50%        2.000000      2.000000     72.000000\n",
       "75%        3.000000      2.000000    120.000000\n",
       "max       40.000000      3.000000   3600.000000"
      ]
     },
     "execution_count": 40,
     "metadata": {},
     "output_type": "execute_result"
    }
   ],
   "source": [
    "train.describe()"
   ]
  },
  {
   "cell_type": "code",
   "execution_count": null,
   "metadata": {},
   "outputs": [],
   "source": [
    "# def prepare_data(data):"
   ]
  },
  {
   "cell_type": "markdown",
   "metadata": {},
   "source": [
    "#### Concat data to clean data on both sets"
   ]
  },
  {
   "cell_type": "code",
   "execution_count": 109,
   "metadata": {},
   "outputs": [
    {
     "data": {
      "text/html": [
       "<div>\n",
       "<style scoped>\n",
       "    .dataframe tbody tr th:only-of-type {\n",
       "        vertical-align: middle;\n",
       "    }\n",
       "\n",
       "    .dataframe tbody tr th {\n",
       "        vertical-align: top;\n",
       "    }\n",
       "\n",
       "    .dataframe thead th {\n",
       "        text-align: right;\n",
       "    }\n",
       "</style>\n",
       "<table border=\"1\" class=\"dataframe\">\n",
       "  <thead>\n",
       "    <tr style=\"text-align: right;\">\n",
       "      <th></th>\n",
       "      <th>index</th>\n",
       "      <th>area_type</th>\n",
       "      <th>availability</th>\n",
       "      <th>location</th>\n",
       "      <th>size</th>\n",
       "      <th>society</th>\n",
       "      <th>total_sqft</th>\n",
       "      <th>bath</th>\n",
       "      <th>balcony</th>\n",
       "      <th>price</th>\n",
       "      <th>source</th>\n",
       "    </tr>\n",
       "  </thead>\n",
       "  <tbody>\n",
       "    <tr>\n",
       "      <th>0</th>\n",
       "      <td>0</td>\n",
       "      <td>Super built-up  Area</td>\n",
       "      <td>19-Dec</td>\n",
       "      <td>Electronic City Phase II</td>\n",
       "      <td>2 BHK</td>\n",
       "      <td>Coomee</td>\n",
       "      <td>1056</td>\n",
       "      <td>2.0</td>\n",
       "      <td>1.0</td>\n",
       "      <td>39.07</td>\n",
       "      <td>train</td>\n",
       "    </tr>\n",
       "    <tr>\n",
       "      <th>1</th>\n",
       "      <td>1</td>\n",
       "      <td>Plot  Area</td>\n",
       "      <td>Ready To Move</td>\n",
       "      <td>Chikka Tirupathi</td>\n",
       "      <td>4 Bedroom</td>\n",
       "      <td>Theanmp</td>\n",
       "      <td>2600</td>\n",
       "      <td>5.0</td>\n",
       "      <td>3.0</td>\n",
       "      <td>120.00</td>\n",
       "      <td>train</td>\n",
       "    </tr>\n",
       "    <tr>\n",
       "      <th>2</th>\n",
       "      <td>2</td>\n",
       "      <td>Built-up  Area</td>\n",
       "      <td>Ready To Move</td>\n",
       "      <td>Uttarahalli</td>\n",
       "      <td>3 BHK</td>\n",
       "      <td>NaN</td>\n",
       "      <td>1440</td>\n",
       "      <td>2.0</td>\n",
       "      <td>3.0</td>\n",
       "      <td>62.00</td>\n",
       "      <td>train</td>\n",
       "    </tr>\n",
       "    <tr>\n",
       "      <th>3</th>\n",
       "      <td>3</td>\n",
       "      <td>Super built-up  Area</td>\n",
       "      <td>Ready To Move</td>\n",
       "      <td>Lingadheeranahalli</td>\n",
       "      <td>3 BHK</td>\n",
       "      <td>Soiewre</td>\n",
       "      <td>1521</td>\n",
       "      <td>3.0</td>\n",
       "      <td>1.0</td>\n",
       "      <td>95.00</td>\n",
       "      <td>train</td>\n",
       "    </tr>\n",
       "    <tr>\n",
       "      <th>4</th>\n",
       "      <td>4</td>\n",
       "      <td>Super built-up  Area</td>\n",
       "      <td>Ready To Move</td>\n",
       "      <td>Kothanur</td>\n",
       "      <td>2 BHK</td>\n",
       "      <td>NaN</td>\n",
       "      <td>1200</td>\n",
       "      <td>2.0</td>\n",
       "      <td>1.0</td>\n",
       "      <td>51.00</td>\n",
       "      <td>train</td>\n",
       "    </tr>\n",
       "  </tbody>\n",
       "</table>\n",
       "</div>"
      ],
      "text/plain": [
       "   index             area_type   availability                  location  \\\n",
       "0      0  Super built-up  Area         19-Dec  Electronic City Phase II   \n",
       "1      1            Plot  Area  Ready To Move          Chikka Tirupathi   \n",
       "2      2        Built-up  Area  Ready To Move               Uttarahalli   \n",
       "3      3  Super built-up  Area  Ready To Move        Lingadheeranahalli   \n",
       "4      4  Super built-up  Area  Ready To Move                  Kothanur   \n",
       "\n",
       "        size  society total_sqft  bath  balcony   price source  \n",
       "0      2 BHK  Coomee        1056   2.0      1.0   39.07  train  \n",
       "1  4 Bedroom  Theanmp       2600   5.0      3.0  120.00  train  \n",
       "2      3 BHK      NaN       1440   2.0      3.0   62.00  train  \n",
       "3      3 BHK  Soiewre       1521   3.0      1.0   95.00  train  \n",
       "4      2 BHK      NaN       1200   2.0      1.0   51.00  train  "
      ]
     },
     "execution_count": 109,
     "metadata": {},
     "output_type": "execute_result"
    },
    {
     "data": {
      "text/html": [
       "<div>\n",
       "<style scoped>\n",
       "    .dataframe tbody tr th:only-of-type {\n",
       "        vertical-align: middle;\n",
       "    }\n",
       "\n",
       "    .dataframe tbody tr th {\n",
       "        vertical-align: top;\n",
       "    }\n",
       "\n",
       "    .dataframe thead th {\n",
       "        text-align: right;\n",
       "    }\n",
       "</style>\n",
       "<table border=\"1\" class=\"dataframe\">\n",
       "  <thead>\n",
       "    <tr style=\"text-align: right;\">\n",
       "      <th></th>\n",
       "      <th>index</th>\n",
       "      <th>area_type</th>\n",
       "      <th>availability</th>\n",
       "      <th>location</th>\n",
       "      <th>size</th>\n",
       "      <th>society</th>\n",
       "      <th>total_sqft</th>\n",
       "      <th>bath</th>\n",
       "      <th>balcony</th>\n",
       "      <th>price</th>\n",
       "      <th>source</th>\n",
       "    </tr>\n",
       "  </thead>\n",
       "  <tbody>\n",
       "    <tr>\n",
       "      <th>6582</th>\n",
       "      <td>6582</td>\n",
       "      <td>Built-up  Area</td>\n",
       "      <td>Ready To Move</td>\n",
       "      <td>7th Phase JP Nagar</td>\n",
       "      <td>2 BHK</td>\n",
       "      <td>NaN</td>\n",
       "      <td>1000</td>\n",
       "      <td>2.0</td>\n",
       "      <td>1.0</td>\n",
       "      <td>61.0</td>\n",
       "      <td>train</td>\n",
       "    </tr>\n",
       "    <tr>\n",
       "      <th>13547</th>\n",
       "      <td>227</td>\n",
       "      <td>Super built-up  Area</td>\n",
       "      <td>Ready To Move</td>\n",
       "      <td>Gottigere</td>\n",
       "      <td>3 BHK</td>\n",
       "      <td>KSicaxo</td>\n",
       "      <td>1500</td>\n",
       "      <td>3.0</td>\n",
       "      <td>2.0</td>\n",
       "      <td>NaN</td>\n",
       "      <td>test</td>\n",
       "    </tr>\n",
       "    <tr>\n",
       "      <th>10702</th>\n",
       "      <td>10702</td>\n",
       "      <td>Super built-up  Area</td>\n",
       "      <td>Ready To Move</td>\n",
       "      <td>Sarjapur</td>\n",
       "      <td>2 BHK</td>\n",
       "      <td>NaN</td>\n",
       "      <td>1150</td>\n",
       "      <td>2.0</td>\n",
       "      <td>1.0</td>\n",
       "      <td>41.0</td>\n",
       "      <td>train</td>\n",
       "    </tr>\n",
       "    <tr>\n",
       "      <th>3251</th>\n",
       "      <td>3251</td>\n",
       "      <td>Super built-up  Area</td>\n",
       "      <td>Ready To Move</td>\n",
       "      <td>Harlur</td>\n",
       "      <td>3 BHK</td>\n",
       "      <td>Prncyrn</td>\n",
       "      <td>1749</td>\n",
       "      <td>3.0</td>\n",
       "      <td>2.0</td>\n",
       "      <td>115.0</td>\n",
       "      <td>train</td>\n",
       "    </tr>\n",
       "    <tr>\n",
       "      <th>654</th>\n",
       "      <td>654</td>\n",
       "      <td>Super built-up  Area</td>\n",
       "      <td>20-Oct</td>\n",
       "      <td>Kanakpura Road</td>\n",
       "      <td>3 BHK</td>\n",
       "      <td>PrarePa</td>\n",
       "      <td>1100</td>\n",
       "      <td>2.0</td>\n",
       "      <td>1.0</td>\n",
       "      <td>58.0</td>\n",
       "      <td>train</td>\n",
       "    </tr>\n",
       "  </tbody>\n",
       "</table>\n",
       "</div>"
      ],
      "text/plain": [
       "       index             area_type   availability            location   size  \\\n",
       "6582    6582        Built-up  Area  Ready To Move  7th Phase JP Nagar  2 BHK   \n",
       "13547    227  Super built-up  Area  Ready To Move           Gottigere  3 BHK   \n",
       "10702  10702  Super built-up  Area  Ready To Move            Sarjapur  2 BHK   \n",
       "3251    3251  Super built-up  Area  Ready To Move              Harlur  3 BHK   \n",
       "654      654  Super built-up  Area         20-Oct      Kanakpura Road  3 BHK   \n",
       "\n",
       "       society total_sqft  bath  balcony  price source  \n",
       "6582       NaN       1000   2.0      1.0   61.0  train  \n",
       "13547  KSicaxo       1500   3.0      2.0    NaN   test  \n",
       "10702      NaN       1150   2.0      1.0   41.0  train  \n",
       "3251   Prncyrn       1749   3.0      2.0  115.0  train  \n",
       "654    PrarePa       1100   2.0      1.0   58.0  train  "
      ]
     },
     "execution_count": 109,
     "metadata": {},
     "output_type": "execute_result"
    }
   ],
   "source": [
    "train[\"source\"]=\"train\"\n",
    "test[\"source\"]=\"test\"\n",
    "fulldata=pd.concat([train,test]).reset_index()\n",
    "fulldata.head()\n",
    "fulldata.sample(5)"
   ]
  },
  {
   "cell_type": "code",
   "execution_count": 150,
   "metadata": {},
   "outputs": [
    {
     "data": {
      "text/html": [
       "<div>\n",
       "<style scoped>\n",
       "    .dataframe tbody tr th:only-of-type {\n",
       "        vertical-align: middle;\n",
       "    }\n",
       "\n",
       "    .dataframe tbody tr th {\n",
       "        vertical-align: top;\n",
       "    }\n",
       "\n",
       "    .dataframe thead th {\n",
       "        text-align: right;\n",
       "    }\n",
       "</style>\n",
       "<table border=\"1\" class=\"dataframe\">\n",
       "  <thead>\n",
       "    <tr style=\"text-align: right;\">\n",
       "      <th></th>\n",
       "      <th>index</th>\n",
       "      <th>area_type</th>\n",
       "      <th>availability</th>\n",
       "      <th>location</th>\n",
       "      <th>size</th>\n",
       "      <th>society</th>\n",
       "      <th>total_sqft</th>\n",
       "      <th>bath</th>\n",
       "      <th>balcony</th>\n",
       "      <th>price</th>\n",
       "      <th>source</th>\n",
       "      <th>belongs_to_society</th>\n",
       "      <th>total_area</th>\n",
       "    </tr>\n",
       "  </thead>\n",
       "  <tbody>\n",
       "    <tr>\n",
       "      <th>4997</th>\n",
       "      <td>4997</td>\n",
       "      <td>Super built-up  Area</td>\n",
       "      <td>Ready To Move</td>\n",
       "      <td>raja rajeshwari nagar</td>\n",
       "      <td>2.0</td>\n",
       "      <td>no_society</td>\n",
       "      <td>1095</td>\n",
       "      <td>2.0</td>\n",
       "      <td>1.0</td>\n",
       "      <td>38.33</td>\n",
       "      <td>train</td>\n",
       "      <td>0</td>\n",
       "      <td>1095</td>\n",
       "    </tr>\n",
       "    <tr>\n",
       "      <th>8825</th>\n",
       "      <td>8825</td>\n",
       "      <td>Built-up  Area</td>\n",
       "      <td>Ready To Move</td>\n",
       "      <td>sector 1 hsr layout</td>\n",
       "      <td>3.0</td>\n",
       "      <td>no_society</td>\n",
       "      <td>1720</td>\n",
       "      <td>3.0</td>\n",
       "      <td>3.0</td>\n",
       "      <td>83.00</td>\n",
       "      <td>train</td>\n",
       "      <td>0</td>\n",
       "      <td>1720</td>\n",
       "    </tr>\n",
       "    <tr>\n",
       "      <th>13534</th>\n",
       "      <td>214</td>\n",
       "      <td>Plot  Area</td>\n",
       "      <td>Ready To Move</td>\n",
       "      <td>rt nagar</td>\n",
       "      <td>7.0</td>\n",
       "      <td>no_society</td>\n",
       "      <td>2400</td>\n",
       "      <td>8.0</td>\n",
       "      <td>NaN</td>\n",
       "      <td>NaN</td>\n",
       "      <td>test</td>\n",
       "      <td>0</td>\n",
       "      <td>2400</td>\n",
       "    </tr>\n",
       "    <tr>\n",
       "      <th>7700</th>\n",
       "      <td>7700</td>\n",
       "      <td>Plot  Area</td>\n",
       "      <td>Ready To Move</td>\n",
       "      <td>nagawara junction</td>\n",
       "      <td>3.0</td>\n",
       "      <td>no_society</td>\n",
       "      <td>1200</td>\n",
       "      <td>3.0</td>\n",
       "      <td>2.0</td>\n",
       "      <td>200.00</td>\n",
       "      <td>train</td>\n",
       "      <td>0</td>\n",
       "      <td>1200</td>\n",
       "    </tr>\n",
       "    <tr>\n",
       "      <th>7016</th>\n",
       "      <td>7016</td>\n",
       "      <td>Plot  Area</td>\n",
       "      <td>Ready To Move</td>\n",
       "      <td>kengeri</td>\n",
       "      <td>2.0</td>\n",
       "      <td>no_society</td>\n",
       "      <td>1200</td>\n",
       "      <td>2.0</td>\n",
       "      <td>0.0</td>\n",
       "      <td>58.00</td>\n",
       "      <td>train</td>\n",
       "      <td>0</td>\n",
       "      <td>1200</td>\n",
       "    </tr>\n",
       "  </tbody>\n",
       "</table>\n",
       "</div>"
      ],
      "text/plain": [
       "       index             area_type   availability               location  \\\n",
       "4997    4997  Super built-up  Area  Ready To Move  raja rajeshwari nagar   \n",
       "8825    8825        Built-up  Area  Ready To Move    sector 1 hsr layout   \n",
       "13534    214            Plot  Area  Ready To Move               rt nagar   \n",
       "7700    7700            Plot  Area  Ready To Move      nagawara junction   \n",
       "7016    7016            Plot  Area  Ready To Move                kengeri   \n",
       "\n",
       "       size     society total_sqft  bath  balcony   price source  \\\n",
       "4997    2.0  no_society       1095   2.0      1.0   38.33  train   \n",
       "8825    3.0  no_society       1720   3.0      3.0   83.00  train   \n",
       "13534   7.0  no_society       2400   8.0      NaN     NaN   test   \n",
       "7700    3.0  no_society       1200   3.0      2.0  200.00  train   \n",
       "7016    2.0  no_society       1200   2.0      0.0   58.00  train   \n",
       "\n",
       "       belongs_to_society total_area  \n",
       "4997                    0       1095  \n",
       "8825                    0       1720  \n",
       "13534                   0       2400  \n",
       "7700                    0       1200  \n",
       "7016                    0       1200  "
      ]
     },
     "execution_count": 150,
     "metadata": {},
     "output_type": "execute_result"
    }
   ],
   "source": [
    "fulldata.sample(5)"
   ]
  },
  {
   "cell_type": "code",
   "execution_count": 110,
   "metadata": {},
   "outputs": [],
   "source": [
    "fulldata[\"size\"]=fulldata[\"size\"].apply(lambda x:x.split(\" \")[0] if pd.notnull(x) else x) "
   ]
  },
  {
   "cell_type": "code",
   "execution_count": 111,
   "metadata": {},
   "outputs": [],
   "source": [
    "fulldata[\"size\"] =pd.to_numeric(fulldata[\"size\"])"
   ]
  },
  {
   "cell_type": "code",
   "execution_count": 112,
   "metadata": {},
   "outputs": [
    {
     "data": {
      "text/plain": [
       "Whitefield                                591\n",
       "Sarjapur  Road                            437\n",
       "Electronic City                           337\n",
       "Kanakpura Road                            298\n",
       "Thanisandra                               277\n",
       "                                         ... \n",
       "Shettihalli                                 1\n",
       "Banashankari 6th Stage ,Subramanyapura      1\n",
       "nynappanahalli                              1\n",
       "KAS Officers Colony                         1\n",
       "Abshot Layout                               1\n",
       "Name: location, Length: 1358, dtype: int64"
      ]
     },
     "execution_count": 112,
     "metadata": {},
     "output_type": "execute_result"
    }
   ],
   "source": [
    "fulldata[\"location\"].value_counts()"
   ]
  },
  {
   "cell_type": "markdown",
   "metadata": {},
   "source": [
    "#### Clean location"
   ]
  },
  {
   "cell_type": "code",
   "execution_count": 113,
   "metadata": {},
   "outputs": [
    {
     "name": "stdout",
     "output_type": "stream",
     "text": [
      "Wall time: 59 ms\n"
     ]
    }
   ],
   "source": [
    "%%time\n",
    "fulldata[\"location\"] = fulldata[\"location\"].apply(lambda x:cleanLocationSociety(x))"
   ]
  },
  {
   "cell_type": "code",
   "execution_count": 114,
   "metadata": {},
   "outputs": [
    {
     "data": {
      "text/plain": [
       "whitefield               594\n",
       "sarjapur road            448\n",
       "electronic city          339\n",
       "kanakpura road           299\n",
       "thanisandra              280\n",
       "                        ... \n",
       "vinayakanagar              1\n",
       "mg road                    1\n",
       "sri kanteshwara nagar      1\n",
       "bapuji layout              1\n",
       "sipcot 1                   1\n",
       "Name: location, Length: 1319, dtype: int64"
      ]
     },
     "execution_count": 114,
     "metadata": {},
     "output_type": "execute_result"
    }
   ],
   "source": [
    "fulldata[\"location\"].value_counts()"
   ]
  },
  {
   "cell_type": "code",
   "execution_count": 115,
   "metadata": {},
   "outputs": [],
   "source": [
    "# fulldata.drop(\"index\",axis=1,inplace=True)"
   ]
  },
  {
   "cell_type": "code",
   "execution_count": 116,
   "metadata": {},
   "outputs": [],
   "source": [
    "pickle.dump(fulldata,open('fulldata.pk', 'wb'))"
   ]
  },
  {
   "cell_type": "code",
   "execution_count": 65,
   "metadata": {},
   "outputs": [],
   "source": [
    "with open('fulldata.pk','rb') as f:\n",
    "    fulldata = pickle.load(f)"
   ]
  },
  {
   "cell_type": "code",
   "execution_count": 117,
   "metadata": {},
   "outputs": [
    {
     "data": {
      "text/plain": [
       "Super built-up  Area    9736\n",
       "Built-up  Area          2688\n",
       "Plot  Area              2279\n",
       "Carpet  Area              97\n",
       "Name: area_type, dtype: int64"
      ]
     },
     "execution_count": 117,
     "metadata": {},
     "output_type": "execute_result"
    }
   ],
   "source": [
    "fulldata[\"area_type\"].value_counts()"
   ]
  },
  {
   "cell_type": "code",
   "execution_count": 118,
   "metadata": {},
   "outputs": [
    {
     "data": {
      "text/plain": [
       "GrrvaGr    92\n",
       "PrarePa    78\n",
       "Prtates    64\n",
       "Bhmesy     63\n",
       "Sryalan    63\n",
       "           ..\n",
       "Gentson     1\n",
       "Fleepi      1\n",
       "NianaKe     1\n",
       "Saeraep     1\n",
       "S onsMa     1\n",
       "Name: society, Length: 2832, dtype: int64"
      ]
     },
     "execution_count": 118,
     "metadata": {},
     "output_type": "execute_result"
    }
   ],
   "source": [
    "fulldata[\"society\"].value_counts()"
   ]
  },
  {
   "cell_type": "markdown",
   "metadata": {},
   "source": [
    "#### Clean Society"
   ]
  },
  {
   "cell_type": "code",
   "execution_count": 119,
   "metadata": {},
   "outputs": [
    {
     "name": "stdout",
     "output_type": "stream",
     "text": [
      "Wall time: 45 ms\n"
     ]
    }
   ],
   "source": [
    "%%time\n",
    "fulldata[\"society\"] = fulldata[\"society\"].apply(lambda x:cleanLocationSociety(x) if pd.notnull(x) else x )"
   ]
  },
  {
   "cell_type": "code",
   "execution_count": 120,
   "metadata": {},
   "outputs": [
    {
     "data": {
      "text/plain": [
       "False    8672\n",
       "True     6128\n",
       "Name: society, dtype: int64"
      ]
     },
     "execution_count": 120,
     "metadata": {},
     "output_type": "execute_result"
    }
   ],
   "source": [
    "fulldata[\"society\"].isnull().value_counts()"
   ]
  },
  {
   "cell_type": "code",
   "execution_count": 121,
   "metadata": {},
   "outputs": [
    {
     "data": {
      "text/plain": [
       "grrvagr    92\n",
       "prarepa    78\n",
       "prtates    64\n",
       "sryalan    63\n",
       "bhmesy     63\n",
       "           ..\n",
       "jainaht     1\n",
       "vancya      1\n",
       "srncykh     1\n",
       "srntssh     1\n",
       "brsic c     1\n",
       "Name: society, Length: 2829, dtype: int64"
      ]
     },
     "execution_count": 121,
     "metadata": {},
     "output_type": "execute_result"
    }
   ],
   "source": [
    "fulldata[\"society\"].value_counts()"
   ]
  },
  {
   "cell_type": "code",
   "execution_count": 122,
   "metadata": {},
   "outputs": [],
   "source": [
    "fulldata[\"belongs_to_society\"] = fulldata[\"society\"].notnull().astype(int)"
   ]
  },
  {
   "cell_type": "code",
   "execution_count": 123,
   "metadata": {},
   "outputs": [
    {
     "data": {
      "text/plain": [
       "0        1\n",
       "1        1\n",
       "2        0\n",
       "3        1\n",
       "4        0\n",
       "        ..\n",
       "14795    1\n",
       "14796    0\n",
       "14797    1\n",
       "14798    1\n",
       "14799    1\n",
       "Name: belongs_to_society, Length: 14800, dtype: int32"
      ]
     },
     "execution_count": 123,
     "metadata": {},
     "output_type": "execute_result"
    }
   ],
   "source": [
    "fulldata[\"belongs_to_society\"]"
   ]
  },
  {
   "cell_type": "code",
   "execution_count": 124,
   "metadata": {},
   "outputs": [],
   "source": [
    "fulldata[\"society\"].fillna('no_society',inplace=True)"
   ]
  },
  {
   "cell_type": "code",
   "execution_count": 125,
   "metadata": {},
   "outputs": [
    {
     "data": {
      "text/plain": [
       "0            coomee\n",
       "1           theanmp\n",
       "2        no_society\n",
       "3           soiewre\n",
       "4        no_society\n",
       "            ...    \n",
       "14795       prlla c\n",
       "14796    no_society\n",
       "14797       unm 2el\n",
       "14798       sahtsva\n",
       "14799       maicars\n",
       "Name: society, Length: 14800, dtype: object"
      ]
     },
     "execution_count": 125,
     "metadata": {},
     "output_type": "execute_result"
    }
   ],
   "source": [
    "fulldata[\"society\"]"
   ]
  },
  {
   "cell_type": "code",
   "execution_count": 129,
   "metadata": {},
   "outputs": [
    {
     "data": {
      "text/html": [
       "<div>\n",
       "<style scoped>\n",
       "    .dataframe tbody tr th:only-of-type {\n",
       "        vertical-align: middle;\n",
       "    }\n",
       "\n",
       "    .dataframe tbody tr th {\n",
       "        vertical-align: top;\n",
       "    }\n",
       "\n",
       "    .dataframe thead th {\n",
       "        text-align: right;\n",
       "    }\n",
       "</style>\n",
       "<table border=\"1\" class=\"dataframe\">\n",
       "  <thead>\n",
       "    <tr style=\"text-align: right;\">\n",
       "      <th></th>\n",
       "      <th>index</th>\n",
       "      <th>area_type</th>\n",
       "      <th>availability</th>\n",
       "      <th>location</th>\n",
       "      <th>size</th>\n",
       "      <th>society</th>\n",
       "      <th>total_sqft</th>\n",
       "      <th>bath</th>\n",
       "      <th>balcony</th>\n",
       "      <th>price</th>\n",
       "      <th>source</th>\n",
       "      <th>belongs_to_society</th>\n",
       "    </tr>\n",
       "  </thead>\n",
       "  <tbody>\n",
       "    <tr>\n",
       "      <th>0</th>\n",
       "      <td>0</td>\n",
       "      <td>Super built-up  Area</td>\n",
       "      <td>19-Dec</td>\n",
       "      <td>electronic city phase ii</td>\n",
       "      <td>2.0</td>\n",
       "      <td>coomee</td>\n",
       "      <td>1056</td>\n",
       "      <td>2.0</td>\n",
       "      <td>1.0</td>\n",
       "      <td>39.07</td>\n",
       "      <td>train</td>\n",
       "      <td>1</td>\n",
       "    </tr>\n",
       "    <tr>\n",
       "      <th>1</th>\n",
       "      <td>1</td>\n",
       "      <td>Plot  Area</td>\n",
       "      <td>Ready To Move</td>\n",
       "      <td>chikka tirupathi</td>\n",
       "      <td>4.0</td>\n",
       "      <td>theanmp</td>\n",
       "      <td>2600</td>\n",
       "      <td>5.0</td>\n",
       "      <td>3.0</td>\n",
       "      <td>120.00</td>\n",
       "      <td>train</td>\n",
       "      <td>1</td>\n",
       "    </tr>\n",
       "    <tr>\n",
       "      <th>2</th>\n",
       "      <td>2</td>\n",
       "      <td>Built-up  Area</td>\n",
       "      <td>Ready To Move</td>\n",
       "      <td>uttarahalli</td>\n",
       "      <td>3.0</td>\n",
       "      <td>no_society</td>\n",
       "      <td>1440</td>\n",
       "      <td>2.0</td>\n",
       "      <td>3.0</td>\n",
       "      <td>62.00</td>\n",
       "      <td>train</td>\n",
       "      <td>0</td>\n",
       "    </tr>\n",
       "    <tr>\n",
       "      <th>3</th>\n",
       "      <td>3</td>\n",
       "      <td>Super built-up  Area</td>\n",
       "      <td>Ready To Move</td>\n",
       "      <td>lingadheeranahalli</td>\n",
       "      <td>3.0</td>\n",
       "      <td>soiewre</td>\n",
       "      <td>1521</td>\n",
       "      <td>3.0</td>\n",
       "      <td>1.0</td>\n",
       "      <td>95.00</td>\n",
       "      <td>train</td>\n",
       "      <td>1</td>\n",
       "    </tr>\n",
       "    <tr>\n",
       "      <th>4</th>\n",
       "      <td>4</td>\n",
       "      <td>Super built-up  Area</td>\n",
       "      <td>Ready To Move</td>\n",
       "      <td>kothanur</td>\n",
       "      <td>2.0</td>\n",
       "      <td>no_society</td>\n",
       "      <td>1200</td>\n",
       "      <td>2.0</td>\n",
       "      <td>1.0</td>\n",
       "      <td>51.00</td>\n",
       "      <td>train</td>\n",
       "      <td>0</td>\n",
       "    </tr>\n",
       "  </tbody>\n",
       "</table>\n",
       "</div>"
      ],
      "text/plain": [
       "   index             area_type   availability                  location  size  \\\n",
       "0      0  Super built-up  Area         19-Dec  electronic city phase ii   2.0   \n",
       "1      1            Plot  Area  Ready To Move          chikka tirupathi   4.0   \n",
       "2      2        Built-up  Area  Ready To Move               uttarahalli   3.0   \n",
       "3      3  Super built-up  Area  Ready To Move        lingadheeranahalli   3.0   \n",
       "4      4  Super built-up  Area  Ready To Move                  kothanur   2.0   \n",
       "\n",
       "      society total_sqft  bath  balcony   price source  belongs_to_society  \n",
       "0      coomee       1056   2.0      1.0   39.07  train                   1  \n",
       "1     theanmp       2600   5.0      3.0  120.00  train                   1  \n",
       "2  no_society       1440   2.0      3.0   62.00  train                   0  \n",
       "3     soiewre       1521   3.0      1.0   95.00  train                   1  \n",
       "4  no_society       1200   2.0      1.0   51.00  train                   0  "
      ]
     },
     "execution_count": 129,
     "metadata": {},
     "output_type": "execute_result"
    },
    {
     "data": {
      "text/html": [
       "<div>\n",
       "<style scoped>\n",
       "    .dataframe tbody tr th:only-of-type {\n",
       "        vertical-align: middle;\n",
       "    }\n",
       "\n",
       "    .dataframe tbody tr th {\n",
       "        vertical-align: top;\n",
       "    }\n",
       "\n",
       "    .dataframe thead th {\n",
       "        text-align: right;\n",
       "    }\n",
       "</style>\n",
       "<table border=\"1\" class=\"dataframe\">\n",
       "  <thead>\n",
       "    <tr style=\"text-align: right;\">\n",
       "      <th></th>\n",
       "      <th>index</th>\n",
       "      <th>area_type</th>\n",
       "      <th>availability</th>\n",
       "      <th>location</th>\n",
       "      <th>size</th>\n",
       "      <th>society</th>\n",
       "      <th>total_sqft</th>\n",
       "      <th>bath</th>\n",
       "      <th>balcony</th>\n",
       "      <th>price</th>\n",
       "      <th>source</th>\n",
       "      <th>belongs_to_society</th>\n",
       "    </tr>\n",
       "  </thead>\n",
       "  <tbody>\n",
       "    <tr>\n",
       "      <th>8090</th>\n",
       "      <td>8090</td>\n",
       "      <td>Super built-up  Area</td>\n",
       "      <td>Ready To Move</td>\n",
       "      <td>channasandra</td>\n",
       "      <td>2.0</td>\n",
       "      <td>unm 2el</td>\n",
       "      <td>1093</td>\n",
       "      <td>2.0</td>\n",
       "      <td>1.0</td>\n",
       "      <td>34.0</td>\n",
       "      <td>train</td>\n",
       "      <td>1</td>\n",
       "    </tr>\n",
       "    <tr>\n",
       "      <th>10885</th>\n",
       "      <td>10885</td>\n",
       "      <td>Plot  Area</td>\n",
       "      <td>Ready To Move</td>\n",
       "      <td>cooke town</td>\n",
       "      <td>3.0</td>\n",
       "      <td>no_society</td>\n",
       "      <td>2600</td>\n",
       "      <td>3.0</td>\n",
       "      <td>1.0</td>\n",
       "      <td>375.0</td>\n",
       "      <td>train</td>\n",
       "      <td>0</td>\n",
       "    </tr>\n",
       "    <tr>\n",
       "      <th>14071</th>\n",
       "      <td>751</td>\n",
       "      <td>Super built-up  Area</td>\n",
       "      <td>18-Mar</td>\n",
       "      <td>jakkur</td>\n",
       "      <td>3.0</td>\n",
       "      <td>lecco c</td>\n",
       "      <td>4150</td>\n",
       "      <td>5.0</td>\n",
       "      <td>1.0</td>\n",
       "      <td>NaN</td>\n",
       "      <td>test</td>\n",
       "      <td>1</td>\n",
       "    </tr>\n",
       "    <tr>\n",
       "      <th>7320</th>\n",
       "      <td>7320</td>\n",
       "      <td>Plot  Area</td>\n",
       "      <td>Ready To Move</td>\n",
       "      <td>2nd phase jp nagar jp nagar</td>\n",
       "      <td>3.0</td>\n",
       "      <td>no_society</td>\n",
       "      <td>1200</td>\n",
       "      <td>3.0</td>\n",
       "      <td>1.0</td>\n",
       "      <td>205.0</td>\n",
       "      <td>train</td>\n",
       "      <td>0</td>\n",
       "    </tr>\n",
       "    <tr>\n",
       "      <th>624</th>\n",
       "      <td>624</td>\n",
       "      <td>Super built-up  Area</td>\n",
       "      <td>Ready To Move</td>\n",
       "      <td>tumkur road</td>\n",
       "      <td>3.0</td>\n",
       "      <td>sosonga</td>\n",
       "      <td>1500</td>\n",
       "      <td>3.0</td>\n",
       "      <td>3.0</td>\n",
       "      <td>95.0</td>\n",
       "      <td>train</td>\n",
       "      <td>1</td>\n",
       "    </tr>\n",
       "  </tbody>\n",
       "</table>\n",
       "</div>"
      ],
      "text/plain": [
       "       index             area_type   availability  \\\n",
       "8090    8090  Super built-up  Area  Ready To Move   \n",
       "10885  10885            Plot  Area  Ready To Move   \n",
       "14071    751  Super built-up  Area         18-Mar   \n",
       "7320    7320            Plot  Area  Ready To Move   \n",
       "624      624  Super built-up  Area  Ready To Move   \n",
       "\n",
       "                          location  size     society total_sqft  bath  \\\n",
       "8090                  channasandra   2.0     unm 2el       1093   2.0   \n",
       "10885                   cooke town   3.0  no_society       2600   3.0   \n",
       "14071                       jakkur   3.0     lecco c       4150   5.0   \n",
       "7320   2nd phase jp nagar jp nagar   3.0  no_society       1200   3.0   \n",
       "624                    tumkur road   3.0     sosonga       1500   3.0   \n",
       "\n",
       "       balcony  price source  belongs_to_society  \n",
       "8090       1.0   34.0  train                   1  \n",
       "10885      1.0  375.0  train                   0  \n",
       "14071      1.0    NaN   test                   1  \n",
       "7320       1.0  205.0  train                   0  \n",
       "624        3.0   95.0  train                   1  "
      ]
     },
     "execution_count": 129,
     "metadata": {},
     "output_type": "execute_result"
    }
   ],
   "source": [
    "fulldata.head()\n",
    "fulldata.sample(5)"
   ]
  },
  {
   "cell_type": "code",
   "execution_count": 130,
   "metadata": {},
   "outputs": [
    {
     "data": {
      "text/plain": [
       "<matplotlib.axes._subplots.AxesSubplot at 0x2f3d16ace48>"
      ]
     },
     "execution_count": 130,
     "metadata": {},
     "output_type": "execute_result"
    },
    {
     "data": {
      "image/png": "[encoded data removed]",
      "text/plain": [
       "<Figure size 432x288 with 1 Axes>"
      ]
     },
     "metadata": {
      "needs_background": "light"
     },
     "output_type": "display_data"
    }
   ],
   "source": [
    "fulldata[\"price\"].hist(bins=50)"
   ]
  },
  {
   "cell_type": "code",
   "execution_count": 131,
   "metadata": {},
   "outputs": [
    {
     "data": {
      "text/plain": [
       "<matplotlib.axes._subplots.AxesSubplot at 0x2f3d27e18c8>"
      ]
     },
     "execution_count": 131,
     "metadata": {},
     "output_type": "execute_result"
    },
    {
     "data": {
      "image/png": "[encoded data removed]",
      "text/plain": [
       "<Figure size 432x288 with 1 Axes>"
      ]
     },
     "metadata": {
      "needs_background": "light"
     },
     "output_type": "display_data"
    }
   ],
   "source": [
    "fulldata[\"balcony\"].hist()"
   ]
  },
  {
   "cell_type": "code",
   "execution_count": 132,
   "metadata": {},
   "outputs": [
    {
     "data": {
      "text/plain": [
       "2.0     7652\n",
       "3.0     3657\n",
       "4.0     1375\n",
       "1.0      871\n",
       "5.0      586\n",
       "6.0      303\n",
       "7.0      113\n",
       "8.0       73\n",
       "9.0       52\n",
       "10.0      17\n",
       "12.0       7\n",
       "13.0       3\n",
       "11.0       3\n",
       "16.0       3\n",
       "27.0       1\n",
       "18.0       1\n",
       "40.0       1\n",
       "15.0       1\n",
       "14.0       1\n",
       "Name: bath, dtype: int64"
      ]
     },
     "execution_count": 132,
     "metadata": {},
     "output_type": "execute_result"
    }
   ],
   "source": [
    "fulldata[\"bath\"].value_counts()"
   ]
  },
  {
   "cell_type": "code",
   "execution_count": 133,
   "metadata": {},
   "outputs": [
    {
     "data": {
      "text/html": [
       "<div>\n",
       "<style scoped>\n",
       "    .dataframe tbody tr th:only-of-type {\n",
       "        vertical-align: middle;\n",
       "    }\n",
       "\n",
       "    .dataframe tbody tr th {\n",
       "        vertical-align: top;\n",
       "    }\n",
       "\n",
       "    .dataframe thead th {\n",
       "        text-align: right;\n",
       "    }\n",
       "</style>\n",
       "<table border=\"1\" class=\"dataframe\">\n",
       "  <thead>\n",
       "    <tr style=\"text-align: right;\">\n",
       "      <th></th>\n",
       "      <th>index</th>\n",
       "      <th>area_type</th>\n",
       "      <th>availability</th>\n",
       "      <th>location</th>\n",
       "      <th>size</th>\n",
       "      <th>society</th>\n",
       "      <th>total_sqft</th>\n",
       "      <th>bath</th>\n",
       "      <th>balcony</th>\n",
       "      <th>price</th>\n",
       "      <th>source</th>\n",
       "      <th>belongs_to_society</th>\n",
       "    </tr>\n",
       "  </thead>\n",
       "  <tbody>\n",
       "    <tr>\n",
       "      <th>4684</th>\n",
       "      <td>4684</td>\n",
       "      <td>Plot  Area</td>\n",
       "      <td>Ready To Move</td>\n",
       "      <td>munnekollal</td>\n",
       "      <td>43.0</td>\n",
       "      <td>no_society</td>\n",
       "      <td>2400</td>\n",
       "      <td>40.0</td>\n",
       "      <td>0.0</td>\n",
       "      <td>660.0</td>\n",
       "      <td>train</td>\n",
       "      <td>0</td>\n",
       "    </tr>\n",
       "  </tbody>\n",
       "</table>\n",
       "</div>"
      ],
      "text/plain": [
       "      index   area_type   availability     location  size     society  \\\n",
       "4684   4684  Plot  Area  Ready To Move  munnekollal  43.0  no_society   \n",
       "\n",
       "     total_sqft  bath  balcony  price source  belongs_to_society  \n",
       "4684       2400  40.0      0.0  660.0  train                   0  "
      ]
     },
     "execution_count": 133,
     "metadata": {},
     "output_type": "execute_result"
    }
   ],
   "source": [
    "fulldata.loc[fulldata[\"bath\"]==40]"
   ]
  },
  {
   "cell_type": "code",
   "execution_count": 134,
   "metadata": {},
   "outputs": [
    {
     "data": {
      "text/plain": [
       "Ready To Move    11743\n",
       "18-Dec             351\n",
       "18-May             324\n",
       "18-Apr             296\n",
       "18-Aug             225\n",
       "                 ...  \n",
       "15-Dec               1\n",
       "15-Jun               1\n",
       "16-Apr               1\n",
       "14-Jul               1\n",
       "16-Jan               1\n",
       "Name: availability, Length: 82, dtype: int64"
      ]
     },
     "execution_count": 134,
     "metadata": {},
     "output_type": "execute_result"
    }
   ],
   "source": [
    "fulldata[\"availability\"].value_counts()"
   ]
  },
  {
   "cell_type": "code",
   "execution_count": 135,
   "metadata": {},
   "outputs": [],
   "source": [
    "availability=value_counts_df(fulldata,\"availability\")"
   ]
  },
  {
   "cell_type": "code",
   "execution_count": 57,
   "metadata": {
    "collapsed": true,
    "jupyter": {
     "outputs_hidden": true
    }
   },
   "outputs": [
    {
     "data": {
      "text/html": [
       "<div>\n",
       "<style scoped>\n",
       "    .dataframe tbody tr th:only-of-type {\n",
       "        vertical-align: middle;\n",
       "    }\n",
       "\n",
       "    .dataframe tbody tr th {\n",
       "        vertical-align: top;\n",
       "    }\n",
       "\n",
       "    .dataframe thead th {\n",
       "        text-align: right;\n",
       "    }\n",
       "</style>\n",
       "<table border=\"1\" class=\"dataframe\">\n",
       "  <thead>\n",
       "    <tr style=\"text-align: right;\">\n",
       "      <th></th>\n",
       "      <th>count</th>\n",
       "    </tr>\n",
       "    <tr>\n",
       "      <th>availability</th>\n",
       "      <th></th>\n",
       "    </tr>\n",
       "  </thead>\n",
       "  <tbody>\n",
       "    <tr>\n",
       "      <th>Ready To Move</th>\n",
       "      <td>11743</td>\n",
       "    </tr>\n",
       "    <tr>\n",
       "      <th>18-Dec</th>\n",
       "      <td>351</td>\n",
       "    </tr>\n",
       "    <tr>\n",
       "      <th>18-May</th>\n",
       "      <td>324</td>\n",
       "    </tr>\n",
       "    <tr>\n",
       "      <th>18-Apr</th>\n",
       "      <td>296</td>\n",
       "    </tr>\n",
       "    <tr>\n",
       "      <th>18-Aug</th>\n",
       "      <td>225</td>\n",
       "    </tr>\n",
       "    <tr>\n",
       "      <th>19-Dec</th>\n",
       "      <td>218</td>\n",
       "    </tr>\n",
       "    <tr>\n",
       "      <th>18-Jul</th>\n",
       "      <td>160</td>\n",
       "    </tr>\n",
       "    <tr>\n",
       "      <th>18-Mar</th>\n",
       "      <td>147</td>\n",
       "    </tr>\n",
       "    <tr>\n",
       "      <th>20-Dec</th>\n",
       "      <td>109</td>\n",
       "    </tr>\n",
       "    <tr>\n",
       "      <th>18-Jun</th>\n",
       "      <td>105</td>\n",
       "    </tr>\n",
       "    <tr>\n",
       "      <th>21-Dec</th>\n",
       "      <td>103</td>\n",
       "    </tr>\n",
       "    <tr>\n",
       "      <th>19-Mar</th>\n",
       "      <td>95</td>\n",
       "    </tr>\n",
       "    <tr>\n",
       "      <th>18-Feb</th>\n",
       "      <td>70</td>\n",
       "    </tr>\n",
       "    <tr>\n",
       "      <th>18-Nov</th>\n",
       "      <td>55</td>\n",
       "    </tr>\n",
       "    <tr>\n",
       "      <th>18-Jan</th>\n",
       "      <td>49</td>\n",
       "    </tr>\n",
       "    <tr>\n",
       "      <th>18-Sep</th>\n",
       "      <td>46</td>\n",
       "    </tr>\n",
       "    <tr>\n",
       "      <th>19-Jan</th>\n",
       "      <td>43</td>\n",
       "    </tr>\n",
       "    <tr>\n",
       "      <th>19-Jun</th>\n",
       "      <td>43</td>\n",
       "    </tr>\n",
       "    <tr>\n",
       "      <th>18-Oct</th>\n",
       "      <td>43</td>\n",
       "    </tr>\n",
       "    <tr>\n",
       "      <th>19-Jul</th>\n",
       "      <td>38</td>\n",
       "    </tr>\n",
       "    <tr>\n",
       "      <th>17-Dec</th>\n",
       "      <td>34</td>\n",
       "    </tr>\n",
       "    <tr>\n",
       "      <th>20-Jan</th>\n",
       "      <td>27</td>\n",
       "    </tr>\n",
       "    <tr>\n",
       "      <th>22-Jun</th>\n",
       "      <td>23</td>\n",
       "    </tr>\n",
       "    <tr>\n",
       "      <th>19-Sep</th>\n",
       "      <td>22</td>\n",
       "    </tr>\n",
       "    <tr>\n",
       "      <th>17-Oct</th>\n",
       "      <td>21</td>\n",
       "    </tr>\n",
       "    <tr>\n",
       "      <th>19-Aug</th>\n",
       "      <td>19</td>\n",
       "    </tr>\n",
       "    <tr>\n",
       "      <th>19-Oct</th>\n",
       "      <td>19</td>\n",
       "    </tr>\n",
       "    <tr>\n",
       "      <th>21-Jun</th>\n",
       "      <td>18</td>\n",
       "    </tr>\n",
       "    <tr>\n",
       "      <th>Immediate Possession</th>\n",
       "      <td>18</td>\n",
       "    </tr>\n",
       "    <tr>\n",
       "      <th>20-Aug</th>\n",
       "      <td>17</td>\n",
       "    </tr>\n",
       "    <tr>\n",
       "      <th>17-Nov</th>\n",
       "      <td>16</td>\n",
       "    </tr>\n",
       "    <tr>\n",
       "      <th>19-Apr</th>\n",
       "      <td>16</td>\n",
       "    </tr>\n",
       "    <tr>\n",
       "      <th>17-Jun</th>\n",
       "      <td>15</td>\n",
       "    </tr>\n",
       "    <tr>\n",
       "      <th>21-Mar</th>\n",
       "      <td>15</td>\n",
       "    </tr>\n",
       "    <tr>\n",
       "      <th>21-Jan</th>\n",
       "      <td>14</td>\n",
       "    </tr>\n",
       "    <tr>\n",
       "      <th>17-Jul</th>\n",
       "      <td>13</td>\n",
       "    </tr>\n",
       "    <tr>\n",
       "      <th>21-May</th>\n",
       "      <td>13</td>\n",
       "    </tr>\n",
       "    <tr>\n",
       "      <th>19-May</th>\n",
       "      <td>12</td>\n",
       "    </tr>\n",
       "    <tr>\n",
       "      <th>17-Sep</th>\n",
       "      <td>12</td>\n",
       "    </tr>\n",
       "    <tr>\n",
       "      <th>22-May</th>\n",
       "      <td>12</td>\n",
       "    </tr>\n",
       "    <tr>\n",
       "      <th>20-Jun</th>\n",
       "      <td>12</td>\n",
       "    </tr>\n",
       "    <tr>\n",
       "      <th>22-Dec</th>\n",
       "      <td>11</td>\n",
       "    </tr>\n",
       "  </tbody>\n",
       "</table>\n",
       "</div>"
      ],
      "text/plain": [
       "                      count\n",
       "availability               \n",
       "Ready To Move         11743\n",
       "18-Dec                  351\n",
       "18-May                  324\n",
       "18-Apr                  296\n",
       "18-Aug                  225\n",
       "19-Dec                  218\n",
       "18-Jul                  160\n",
       "18-Mar                  147\n",
       "20-Dec                  109\n",
       "18-Jun                  105\n",
       "21-Dec                  103\n",
       "19-Mar                   95\n",
       "18-Feb                   70\n",
       "18-Nov                   55\n",
       "18-Jan                   49\n",
       "18-Sep                   46\n",
       "19-Jan                   43\n",
       "19-Jun                   43\n",
       "18-Oct                   43\n",
       "19-Jul                   38\n",
       "17-Dec                   34\n",
       "20-Jan                   27\n",
       "22-Jun                   23\n",
       "19-Sep                   22\n",
       "17-Oct                   21\n",
       "19-Aug                   19\n",
       "19-Oct                   19\n",
       "21-Jun                   18\n",
       "Immediate Possession     18\n",
       "20-Aug                   17\n",
       "17-Nov                   16\n",
       "19-Apr                   16\n",
       "17-Jun                   15\n",
       "21-Mar                   15\n",
       "21-Jan                   14\n",
       "17-Jul                   13\n",
       "21-May                   13\n",
       "19-May                   12\n",
       "17-Sep                   12\n",
       "22-May                   12\n",
       "20-Jun                   12\n",
       "22-Dec                   11"
      ]
     },
     "execution_count": 57,
     "metadata": {},
     "output_type": "execute_result"
    }
   ],
   "source": [
    "availability.loc[availability[\"count\"]>10]"
   ]
  },
  {
   "cell_type": "code",
   "execution_count": 136,
   "metadata": {},
   "outputs": [],
   "source": [
    "fulldata[\"availability\"]=fulldata[\"availability\"].apply(lambda x: clean_availabilty(x))"
   ]
  },
  {
   "cell_type": "code",
   "execution_count": 137,
   "metadata": {},
   "outputs": [
    {
     "data": {
      "text/plain": [
       "0        Not Available\n",
       "1        Ready To Move\n",
       "2        Ready To Move\n",
       "3        Ready To Move\n",
       "4        Ready To Move\n",
       "             ...      \n",
       "14795    Ready To Move\n",
       "14796    Ready To Move\n",
       "14797    Ready To Move\n",
       "14798    Not Available\n",
       "14799    Ready To Move\n",
       "Name: availability, Length: 14800, dtype: object"
      ]
     },
     "execution_count": 137,
     "metadata": {},
     "output_type": "execute_result"
    }
   ],
   "source": [
    "fulldata[\"availability\"]"
   ]
  },
  {
   "cell_type": "markdown",
   "metadata": {},
   "source": [
    "#### Cleaning Area(total_sqft)"
   ]
  },
  {
   "cell_type": "code",
   "execution_count": 85,
   "metadata": {},
   "outputs": [
    {
     "data": {
      "text/plain": [
       "True"
      ]
     },
     "execution_count": 85,
     "metadata": {},
     "output_type": "execute_result"
    }
   ],
   "source": [
    "\"454.33\".replace('.', '', 1).isdigit() "
   ]
  },
  {
   "cell_type": "code",
   "execution_count": 86,
   "metadata": {},
   "outputs": [
    {
     "data": {
      "text/plain": [
       "454.33"
      ]
     },
     "execution_count": 86,
     "metadata": {},
     "output_type": "execute_result"
    }
   ],
   "source": [
    "def initialAreaCleanup(data):\n",
    "    if(data.replace('.', '', 1).isdigit()):\n",
    "        return pd.to_numeric(data)\n",
    "    elif ('-' in data):\n",
    "        arr=data.split(\"-\")\n",
    "        arr=[pd.to_numeric(x) for x in arr]\n",
    "        avg=np.mean(arr)\n",
    "        return avg\n",
    "    else:return data\n",
    "    \n",
    "\n",
    "\n",
    "initialAreaCleanup(\"454.33\")"
   ]
  },
  {
   "cell_type": "code",
   "execution_count": 212,
   "metadata": {},
   "outputs": [],
   "source": [
    "total_sqft_inital=fulldata[\"total_sqft\"].apply(lambda x: initialAreaCleanup(x) )"
   ]
  },
  {
   "cell_type": "code",
   "execution_count": 213,
   "metadata": {},
   "outputs": [
    {
     "data": {
      "text/plain": [
       "8310     1200\n",
       "5632     1200\n",
       "1673     1306\n",
       "8501     1125\n",
       "11074     860\n",
       "14520    1700\n",
       "7555     1458\n",
       "7540     1350\n",
       "12573    1195\n",
       "12594    1200\n",
       "Name: total_sqft, dtype: object"
      ]
     },
     "execution_count": 213,
     "metadata": {},
     "output_type": "execute_result"
    }
   ],
   "source": [
    "total_sqft_inital.sample(10)"
   ]
  },
  {
   "cell_type": "code",
   "execution_count": 215,
   "metadata": {},
   "outputs": [
    {
     "data": {
      "text/plain": [
       "index                                 7555\n",
       "area_type             Super built-up  Area\n",
       "availability                 Ready To Move\n",
       "location                        whitefield\n",
       "size                                     3\n",
       "society                            bmttaor\n",
       "total_sqft                            1458\n",
       "bath                                     2\n",
       "balcony                                  2\n",
       "price                                   62\n",
       "source                               train\n",
       "belongs_to_society                       1\n",
       "total_area                            1458\n",
       "Name: 7555, dtype: object"
      ]
     },
     "execution_count": 215,
     "metadata": {},
     "output_type": "execute_result"
    }
   ],
   "source": [
    "fulldata.iloc[7555]"
   ]
  },
  {
   "cell_type": "code",
   "execution_count": 141,
   "metadata": {},
   "outputs": [],
   "source": [
    "only_string_area = total_sqft_inital[total_sqft_inital.apply(lambda x: isinstance(x, str))]"
   ]
  },
  {
   "cell_type": "code",
   "execution_count": 194,
   "metadata": {},
   "outputs": [
    {
     "data": {
      "text/plain": [
       "410       34.46Sq. Meter\n",
       "648            4125Perch\n",
       "775        1000Sq. Meter\n",
       "872        1100Sq. Yards\n",
       "1019           5.31Acres\n",
       "1086             30Acres\n",
       "1400        716Sq. Meter\n",
       "1712       1500Sq. Meter\n",
       "1743     142.61Sq. Meter\n",
       "1821       1574Sq. Yards\n",
       "2310     361.33Sq. Yards\n",
       "2881        117Sq. Yards\n",
       "3228       3040Sq. Meter\n",
       "3285        500Sq. Yards\n",
       "4113        167Sq. Meter\n",
       "4293        315Sq. Yards\n",
       "5453              3Cents\n",
       "5537     188.89Sq. Yards\n",
       "5631        204Sq. Meter\n",
       "5668         45Sq. Yards\n",
       "5708      133.3Sq. Yards\n",
       "5976      78.03Sq. Meter\n",
       "6268        122Sq. Yards\n",
       "6303      84.53Sq. Meter\n",
       "6333           2.09Acres\n",
       "6552            24Guntha\n",
       "6592        697Sq. Meter\n",
       "6953     142.61Sq. Meter\n",
       "7001           1500Cents\n",
       "7248        132Sq. Yards\n",
       "7334              2Acres\n",
       "7520       1100Sq. Meter\n",
       "7607             15Acres\n",
       "7726           1.26Acres\n",
       "8273     151.11Sq. Yards\n",
       "9423            1Grounds\n",
       "9519       2940Sq. Yards\n",
       "9734      45.06Sq. Meter\n",
       "10488          1.25Acres\n",
       "10491     86.72Sq. Meter\n",
       "11320           38Guntha\n",
       "11615             6Acres\n",
       "12186       120Sq. Yards\n",
       "12252        24Sq. Meter\n",
       "12560    142.84Sq. Meter\n",
       "12652       300Sq. Yards\n",
       "13645             5Acres\n",
       "14194       100Sq. Meter\n",
       "Name: total_sqft, dtype: object"
      ]
     },
     "execution_count": 194,
     "metadata": {},
     "output_type": "execute_result"
    }
   ],
   "source": [
    "only_string_area"
   ]
  },
  {
   "cell_type": "code",
   "execution_count": 143,
   "metadata": {},
   "outputs": [
    {
     "data": {
      "text/plain": [
       "2400"
      ]
     },
     "execution_count": 143,
     "metadata": {},
     "output_type": "execute_result"
    }
   ],
   "source": [
    "def extract_units(data):\n",
    "#     return re.findall('\\d*\\.?\\d+', data)\n",
    "    data=data.replace(\" \", \"\")\n",
    "    return re.findall('[a-zA-Z]*\\.?[a-zA-Z]+', data)\n",
    "\n",
    "def extract_number(data):\n",
    "    return re.findall('\\d*\\.?\\d+', data)\n",
    "\n",
    "\n",
    "def covertToSqFeet(data):\n",
    "    unit=extract_units(data)[0]\n",
    "    value=pd.to_numeric(extract_number(data)[0])\n",
    "    if(unit==\"Sq.Meter\"):\n",
    "        return 10.764*value\n",
    "    elif(unit==\"Guntha\"):\n",
    "        return 1088.98*value\n",
    "    elif(unit==\"Acres\"):\n",
    "        return 43559.99*value\n",
    "    elif(unit==\"Sq.Yards\"):\n",
    "        return 9*value\n",
    "    elif(unit==\"Cents\"):\n",
    "        return 435.6*value\n",
    "    elif(unit==\"Perch\"):\n",
    "        return 272.25*value\n",
    "    elif(unit==\"Grounds\"):\n",
    "        return 2400*value\n",
    "\n",
    "\n",
    "covertToSqFeet(\"1Grounds\")"
   ]
  },
  {
   "cell_type": "code",
   "execution_count": 184,
   "metadata": {},
   "outputs": [],
   "source": [
    "only_string_converted=only_string_area.apply(lambda x:covertToSqFeet(x))"
   ]
  },
  {
   "cell_type": "code",
   "execution_count": 192,
   "metadata": {},
   "outputs": [
    {
     "data": {
      "text/plain": [
       "410      3.709274e+02\n",
       "648      1.123031e+06\n",
       "775      1.076400e+04\n",
       "872      9.900000e+03\n",
       "1019     2.313035e+05\n",
       "1086     1.306800e+06\n",
       "1400     7.707024e+03\n",
       "1712     1.614600e+04\n",
       "1743     1.535054e+03\n",
       "1821     1.416600e+04\n",
       "2310     3.251970e+03\n",
       "2881     1.053000e+03\n",
       "3228     3.272256e+04\n",
       "3285     4.500000e+03\n",
       "4113     1.797588e+03\n",
       "4293     2.835000e+03\n",
       "5453     1.306800e+03\n",
       "5537     1.700010e+03\n",
       "5631     2.195856e+03\n",
       "5668     4.050000e+02\n",
       "5708     1.199700e+03\n",
       "5976     8.399149e+02\n",
       "6268     1.098000e+03\n",
       "6303     9.098809e+02\n",
       "6333     9.104038e+04\n",
       "6552     2.613552e+04\n",
       "6592     7.502508e+03\n",
       "6953     1.535054e+03\n",
       "7001     6.534000e+05\n",
       "7248     1.188000e+03\n",
       "7334     8.711998e+04\n",
       "7520     1.184040e+04\n",
       "7607     6.533998e+05\n",
       "7726     5.488559e+04\n",
       "8273     1.359990e+03\n",
       "9423     2.400000e+03\n",
       "9519     2.646000e+04\n",
       "9734     4.850258e+02\n",
       "10488    5.444999e+04\n",
       "10491    9.334541e+02\n",
       "11320    4.138124e+04\n",
       "11615    2.613599e+05\n",
       "12186    1.080000e+03\n",
       "12252    2.583360e+02\n",
       "12560    1.537530e+03\n",
       "12652    2.700000e+03\n",
       "13645    2.177999e+05\n",
       "14194    1.076400e+03\n",
       "Name: total_sqft, dtype: float64"
      ]
     },
     "execution_count": 192,
     "metadata": {},
     "output_type": "execute_result"
    }
   ],
   "source": [
    "only_string_converted"
   ]
  },
  {
   "cell_type": "code",
   "execution_count": 216,
   "metadata": {},
   "outputs": [],
   "source": [
    "a=total_sqft_inital.to_frame()\n",
    "b=only_string_converted.to_frame()"
   ]
  },
  {
   "cell_type": "code",
   "execution_count": 217,
   "metadata": {},
   "outputs": [
    {
     "name": "stdout",
     "output_type": "stream",
     "text": [
      "<class 'pandas.core.frame.DataFrame'>\n",
      "RangeIndex: 14800 entries, 0 to 14799\n",
      "Data columns (total 1 columns):\n",
      " #   Column      Non-Null Count  Dtype \n",
      "---  ------      --------------  ----- \n",
      " 0   total_sqft  14800 non-null  object\n",
      "dtypes: object(1)\n",
      "memory usage: 115.8+ KB\n",
      "<class 'pandas.core.frame.DataFrame'>\n",
      "Int64Index: 48 entries, 410 to 14194\n",
      "Data columns (total 1 columns):\n",
      " #   Column      Non-Null Count  Dtype  \n",
      "---  ------      --------------  -----  \n",
      " 0   total_sqft  48 non-null     float64\n",
      "dtypes: float64(1)\n",
      "memory usage: 2.0 KB\n"
     ]
    }
   ],
   "source": [
    "a.info()\n",
    "b.info()"
   ]
  },
  {
   "cell_type": "code",
   "execution_count": 218,
   "metadata": {},
   "outputs": [],
   "source": [
    "a.update(b)"
   ]
  },
  {
   "cell_type": "code",
   "execution_count": 220,
   "metadata": {},
   "outputs": [
    {
     "data": {
      "text/plain": [
       "total_sqft    370.927\n",
       "Name: 410, dtype: object"
      ]
     },
     "execution_count": 220,
     "metadata": {},
     "output_type": "execute_result"
    }
   ],
   "source": [
    "a.iloc[410]"
   ]
  },
  {
   "cell_type": "code",
   "execution_count": 221,
   "metadata": {},
   "outputs": [],
   "source": [
    "fulldata[\"total_area\"]=a[\"total_sqft\"]"
   ]
  },
  {
   "cell_type": "code",
   "execution_count": 222,
   "metadata": {},
   "outputs": [
    {
     "data": {
      "text/plain": [
       "370.92744"
      ]
     },
     "execution_count": 222,
     "metadata": {},
     "output_type": "execute_result"
    }
   ],
   "source": [
    "fulldata[\"total_area\"][410]"
   ]
  },
  {
   "cell_type": "code",
   "execution_count": 223,
   "metadata": {},
   "outputs": [],
   "source": [
    "fulldata[\"total_area\"]=pd.to_numeric(fulldata[\"total_area\"])"
   ]
  },
  {
   "cell_type": "code",
   "execution_count": 226,
   "metadata": {},
   "outputs": [
    {
     "data": {
      "text/html": [
       "<div>\n",
       "<style scoped>\n",
       "    .dataframe tbody tr th:only-of-type {\n",
       "        vertical-align: middle;\n",
       "    }\n",
       "\n",
       "    .dataframe tbody tr th {\n",
       "        vertical-align: top;\n",
       "    }\n",
       "\n",
       "    .dataframe thead th {\n",
       "        text-align: right;\n",
       "    }\n",
       "</style>\n",
       "<table border=\"1\" class=\"dataframe\">\n",
       "  <thead>\n",
       "    <tr style=\"text-align: right;\">\n",
       "      <th></th>\n",
       "      <th>index</th>\n",
       "      <th>area_type</th>\n",
       "      <th>availability</th>\n",
       "      <th>location</th>\n",
       "      <th>size</th>\n",
       "      <th>society</th>\n",
       "      <th>total_sqft</th>\n",
       "      <th>bath</th>\n",
       "      <th>balcony</th>\n",
       "      <th>price</th>\n",
       "      <th>source</th>\n",
       "      <th>belongs_to_society</th>\n",
       "      <th>total_area</th>\n",
       "    </tr>\n",
       "  </thead>\n",
       "  <tbody>\n",
       "    <tr>\n",
       "      <th>1102</th>\n",
       "      <td>1102</td>\n",
       "      <td>Super built-up  Area</td>\n",
       "      <td>Not Available</td>\n",
       "      <td>hennur road</td>\n",
       "      <td>3.0</td>\n",
       "      <td>orens g</td>\n",
       "      <td>1561</td>\n",
       "      <td>3.0</td>\n",
       "      <td>2.0</td>\n",
       "      <td>95.00</td>\n",
       "      <td>train</td>\n",
       "      <td>1</td>\n",
       "      <td>1561.0</td>\n",
       "    </tr>\n",
       "    <tr>\n",
       "      <th>9214</th>\n",
       "      <td>9214</td>\n",
       "      <td>Super built-up  Area</td>\n",
       "      <td>Ready To Move</td>\n",
       "      <td>whitefield</td>\n",
       "      <td>3.0</td>\n",
       "      <td>gotis a</td>\n",
       "      <td>1720</td>\n",
       "      <td>3.0</td>\n",
       "      <td>3.0</td>\n",
       "      <td>98.97</td>\n",
       "      <td>train</td>\n",
       "      <td>1</td>\n",
       "      <td>1720.0</td>\n",
       "    </tr>\n",
       "    <tr>\n",
       "      <th>2167</th>\n",
       "      <td>2167</td>\n",
       "      <td>Built-up  Area</td>\n",
       "      <td>Ready To Move</td>\n",
       "      <td>nelamangala</td>\n",
       "      <td>2.0</td>\n",
       "      <td>no_society</td>\n",
       "      <td>1095</td>\n",
       "      <td>2.0</td>\n",
       "      <td>0.0</td>\n",
       "      <td>40.00</td>\n",
       "      <td>train</td>\n",
       "      <td>0</td>\n",
       "      <td>1095.0</td>\n",
       "    </tr>\n",
       "    <tr>\n",
       "      <th>14445</th>\n",
       "      <td>1125</td>\n",
       "      <td>Plot  Area</td>\n",
       "      <td>Not Available</td>\n",
       "      <td>ardendale</td>\n",
       "      <td>4.0</td>\n",
       "      <td>no_society</td>\n",
       "      <td>2000</td>\n",
       "      <td>4.0</td>\n",
       "      <td>1.0</td>\n",
       "      <td>NaN</td>\n",
       "      <td>test</td>\n",
       "      <td>0</td>\n",
       "      <td>2000.0</td>\n",
       "    </tr>\n",
       "    <tr>\n",
       "      <th>6253</th>\n",
       "      <td>6253</td>\n",
       "      <td>Super built-up  Area</td>\n",
       "      <td>Ready To Move</td>\n",
       "      <td>nagarbhavi</td>\n",
       "      <td>3.0</td>\n",
       "      <td>no_society</td>\n",
       "      <td>1850</td>\n",
       "      <td>2.0</td>\n",
       "      <td>2.0</td>\n",
       "      <td>89.00</td>\n",
       "      <td>train</td>\n",
       "      <td>0</td>\n",
       "      <td>1850.0</td>\n",
       "    </tr>\n",
       "    <tr>\n",
       "      <th>11668</th>\n",
       "      <td>11668</td>\n",
       "      <td>Plot  Area</td>\n",
       "      <td>Ready To Move</td>\n",
       "      <td>bapuji nagar</td>\n",
       "      <td>4.0</td>\n",
       "      <td>no_society</td>\n",
       "      <td>1125</td>\n",
       "      <td>3.0</td>\n",
       "      <td>2.0</td>\n",
       "      <td>126.00</td>\n",
       "      <td>train</td>\n",
       "      <td>0</td>\n",
       "      <td>1125.0</td>\n",
       "    </tr>\n",
       "    <tr>\n",
       "      <th>9756</th>\n",
       "      <td>9756</td>\n",
       "      <td>Super built-up  Area</td>\n",
       "      <td>Ready To Move</td>\n",
       "      <td>haralur road</td>\n",
       "      <td>3.0</td>\n",
       "      <td>no_society</td>\n",
       "      <td>1710</td>\n",
       "      <td>3.0</td>\n",
       "      <td>2.0</td>\n",
       "      <td>85.00</td>\n",
       "      <td>train</td>\n",
       "      <td>0</td>\n",
       "      <td>1710.0</td>\n",
       "    </tr>\n",
       "    <tr>\n",
       "      <th>14125</th>\n",
       "      <td>805</td>\n",
       "      <td>Built-up  Area</td>\n",
       "      <td>Ready To Move</td>\n",
       "      <td>bisuvanahalli</td>\n",
       "      <td>3.0</td>\n",
       "      <td>prityel</td>\n",
       "      <td>1075</td>\n",
       "      <td>3.0</td>\n",
       "      <td>2.0</td>\n",
       "      <td>NaN</td>\n",
       "      <td>test</td>\n",
       "      <td>1</td>\n",
       "      <td>1075.0</td>\n",
       "    </tr>\n",
       "    <tr>\n",
       "      <th>681</th>\n",
       "      <td>681</td>\n",
       "      <td>Plot  Area</td>\n",
       "      <td>Ready To Move</td>\n",
       "      <td>ombr layout</td>\n",
       "      <td>4.0</td>\n",
       "      <td>no_society</td>\n",
       "      <td>2400</td>\n",
       "      <td>4.0</td>\n",
       "      <td>2.0</td>\n",
       "      <td>375.00</td>\n",
       "      <td>train</td>\n",
       "      <td>0</td>\n",
       "      <td>2400.0</td>\n",
       "    </tr>\n",
       "    <tr>\n",
       "      <th>7203</th>\n",
       "      <td>7203</td>\n",
       "      <td>Super built-up  Area</td>\n",
       "      <td>Ready To Move</td>\n",
       "      <td>sarjapura main road</td>\n",
       "      <td>4.0</td>\n",
       "      <td>no_society</td>\n",
       "      <td>2400</td>\n",
       "      <td>4.0</td>\n",
       "      <td>3.0</td>\n",
       "      <td>250.00</td>\n",
       "      <td>train</td>\n",
       "      <td>0</td>\n",
       "      <td>2400.0</td>\n",
       "    </tr>\n",
       "  </tbody>\n",
       "</table>\n",
       "</div>"
      ],
      "text/plain": [
       "       index             area_type   availability             location  size  \\\n",
       "1102    1102  Super built-up  Area  Not Available          hennur road   3.0   \n",
       "9214    9214  Super built-up  Area  Ready To Move           whitefield   3.0   \n",
       "2167    2167        Built-up  Area  Ready To Move          nelamangala   2.0   \n",
       "14445   1125            Plot  Area  Not Available            ardendale   4.0   \n",
       "6253    6253  Super built-up  Area  Ready To Move           nagarbhavi   3.0   \n",
       "11668  11668            Plot  Area  Ready To Move         bapuji nagar   4.0   \n",
       "9756    9756  Super built-up  Area  Ready To Move         haralur road   3.0   \n",
       "14125    805        Built-up  Area  Ready To Move        bisuvanahalli   3.0   \n",
       "681      681            Plot  Area  Ready To Move          ombr layout   4.0   \n",
       "7203    7203  Super built-up  Area  Ready To Move  sarjapura main road   4.0   \n",
       "\n",
       "          society total_sqft  bath  balcony   price source  \\\n",
       "1102      orens g       1561   3.0      2.0   95.00  train   \n",
       "9214      gotis a       1720   3.0      3.0   98.97  train   \n",
       "2167   no_society       1095   2.0      0.0   40.00  train   \n",
       "14445  no_society       2000   4.0      1.0     NaN   test   \n",
       "6253   no_society       1850   2.0      2.0   89.00  train   \n",
       "11668  no_society       1125   3.0      2.0  126.00  train   \n",
       "9756   no_society       1710   3.0      2.0   85.00  train   \n",
       "14125     prityel       1075   3.0      2.0     NaN   test   \n",
       "681    no_society       2400   4.0      2.0  375.00  train   \n",
       "7203   no_society       2400   4.0      3.0  250.00  train   \n",
       "\n",
       "       belongs_to_society  total_area  \n",
       "1102                    1      1561.0  \n",
       "9214                    1      1720.0  \n",
       "2167                    0      1095.0  \n",
       "14445                   0      2000.0  \n",
       "6253                    0      1850.0  \n",
       "11668                   0      1125.0  \n",
       "9756                    0      1710.0  \n",
       "14125                   1      1075.0  \n",
       "681                     0      2400.0  \n",
       "7203                    0      2400.0  "
      ]
     },
     "execution_count": 226,
     "metadata": {},
     "output_type": "execute_result"
    }
   ],
   "source": [
    "fulldata.sample(10)"
   ]
  },
  {
   "cell_type": "code",
   "execution_count": 227,
   "metadata": {},
   "outputs": [
    {
     "name": "stdout",
     "output_type": "stream",
     "text": [
      "<class 'pandas.core.frame.DataFrame'>\n",
      "RangeIndex: 14800 entries, 0 to 14799\n",
      "Data columns (total 13 columns):\n",
      " #   Column              Non-Null Count  Dtype  \n",
      "---  ------              --------------  -----  \n",
      " 0   index               14800 non-null  int64  \n",
      " 1   area_type           14800 non-null  object \n",
      " 2   availability        14800 non-null  object \n",
      " 3   location            14800 non-null  object \n",
      " 4   size                14782 non-null  float64\n",
      " 5   society             14800 non-null  object \n",
      " 6   total_sqft          14800 non-null  object \n",
      " 7   bath                14720 non-null  float64\n",
      " 8   balcony             14122 non-null  float64\n",
      " 9   price               13320 non-null  float64\n",
      " 10  source              14800 non-null  object \n",
      " 11  belongs_to_society  14800 non-null  int32  \n",
      " 12  total_area          14800 non-null  float64\n",
      "dtypes: float64(5), int32(1), int64(1), object(6)\n",
      "memory usage: 1.4+ MB\n"
     ]
    }
   ],
   "source": [
    "fulldata.info()"
   ]
  },
  {
   "cell_type": "code",
   "execution_count": 228,
   "metadata": {},
   "outputs": [],
   "source": [
    "pickle.dump(fulldata,open('fulldata_2.pk', 'wb'))"
   ]
  },
  {
   "cell_type": "code",
   "execution_count": 8,
   "metadata": {},
   "outputs": [],
   "source": [
    "with open('fulldata_2.pk','rb') as f:\n",
    "    fulldata = pickle.load(f)"
   ]
  },
  {
   "cell_type": "code",
   "execution_count": 9,
   "metadata": {},
   "outputs": [
    {
     "data": {
      "text/html": [
       "<div>\n",
       "<style scoped>\n",
       "    .dataframe tbody tr th:only-of-type {\n",
       "        vertical-align: middle;\n",
       "    }\n",
       "\n",
       "    .dataframe tbody tr th {\n",
       "        vertical-align: top;\n",
       "    }\n",
       "\n",
       "    .dataframe thead th {\n",
       "        text-align: right;\n",
       "    }\n",
       "</style>\n",
       "<table border=\"1\" class=\"dataframe\">\n",
       "  <thead>\n",
       "    <tr style=\"text-align: right;\">\n",
       "      <th></th>\n",
       "      <th>index</th>\n",
       "      <th>area_type</th>\n",
       "      <th>availability</th>\n",
       "      <th>location</th>\n",
       "      <th>size</th>\n",
       "      <th>society</th>\n",
       "      <th>total_sqft</th>\n",
       "      <th>bath</th>\n",
       "      <th>balcony</th>\n",
       "      <th>price</th>\n",
       "      <th>source</th>\n",
       "      <th>belongs_to_society</th>\n",
       "      <th>total_area</th>\n",
       "    </tr>\n",
       "  </thead>\n",
       "  <tbody>\n",
       "    <tr>\n",
       "      <th>14330</th>\n",
       "      <td>1010</td>\n",
       "      <td>Built-up  Area</td>\n",
       "      <td>Ready To Move</td>\n",
       "      <td>sarjapur road</td>\n",
       "      <td>1.0</td>\n",
       "      <td>no_society</td>\n",
       "      <td>470</td>\n",
       "      <td>1.0</td>\n",
       "      <td>1.0</td>\n",
       "      <td>NaN</td>\n",
       "      <td>test</td>\n",
       "      <td>0</td>\n",
       "      <td>470.0</td>\n",
       "    </tr>\n",
       "    <tr>\n",
       "      <th>8969</th>\n",
       "      <td>8969</td>\n",
       "      <td>Super built-up  Area</td>\n",
       "      <td>Ready To Move</td>\n",
       "      <td>bhuvaneshwari nagar</td>\n",
       "      <td>2.0</td>\n",
       "      <td>no_society</td>\n",
       "      <td>1000</td>\n",
       "      <td>2.0</td>\n",
       "      <td>2.0</td>\n",
       "      <td>60.00</td>\n",
       "      <td>train</td>\n",
       "      <td>0</td>\n",
       "      <td>1000.0</td>\n",
       "    </tr>\n",
       "    <tr>\n",
       "      <th>9974</th>\n",
       "      <td>9974</td>\n",
       "      <td>Plot  Area</td>\n",
       "      <td>Ready To Move</td>\n",
       "      <td>sector 1 hsr layout</td>\n",
       "      <td>3.0</td>\n",
       "      <td>no_society</td>\n",
       "      <td>2400</td>\n",
       "      <td>6.0</td>\n",
       "      <td>2.0</td>\n",
       "      <td>775.00</td>\n",
       "      <td>train</td>\n",
       "      <td>0</td>\n",
       "      <td>2400.0</td>\n",
       "    </tr>\n",
       "    <tr>\n",
       "      <th>5336</th>\n",
       "      <td>5336</td>\n",
       "      <td>Super built-up  Area</td>\n",
       "      <td>Ready To Move</td>\n",
       "      <td>kundalahalli</td>\n",
       "      <td>3.0</td>\n",
       "      <td>dieldli</td>\n",
       "      <td>1724</td>\n",
       "      <td>3.0</td>\n",
       "      <td>2.0</td>\n",
       "      <td>124.00</td>\n",
       "      <td>train</td>\n",
       "      <td>1</td>\n",
       "      <td>1724.0</td>\n",
       "    </tr>\n",
       "    <tr>\n",
       "      <th>1336</th>\n",
       "      <td>1336</td>\n",
       "      <td>Super built-up  Area</td>\n",
       "      <td>Ready To Move</td>\n",
       "      <td>thanisandra</td>\n",
       "      <td>2.0</td>\n",
       "      <td>bhmesy</td>\n",
       "      <td>1265</td>\n",
       "      <td>2.0</td>\n",
       "      <td>2.0</td>\n",
       "      <td>85.00</td>\n",
       "      <td>train</td>\n",
       "      <td>1</td>\n",
       "      <td>1265.0</td>\n",
       "    </tr>\n",
       "    <tr>\n",
       "      <th>13424</th>\n",
       "      <td>104</td>\n",
       "      <td>Super built-up  Area</td>\n",
       "      <td>Ready To Move</td>\n",
       "      <td>rmv extension</td>\n",
       "      <td>2.0</td>\n",
       "      <td>s alspe</td>\n",
       "      <td>1000</td>\n",
       "      <td>2.0</td>\n",
       "      <td>2.0</td>\n",
       "      <td>NaN</td>\n",
       "      <td>test</td>\n",
       "      <td>1</td>\n",
       "      <td>1000.0</td>\n",
       "    </tr>\n",
       "    <tr>\n",
       "      <th>225</th>\n",
       "      <td>225</td>\n",
       "      <td>Super built-up  Area</td>\n",
       "      <td>Ready To Move</td>\n",
       "      <td>muthurayya swamy layout</td>\n",
       "      <td>3.0</td>\n",
       "      <td>maclek</td>\n",
       "      <td>2405</td>\n",
       "      <td>4.0</td>\n",
       "      <td>2.0</td>\n",
       "      <td>260.00</td>\n",
       "      <td>train</td>\n",
       "      <td>1</td>\n",
       "      <td>2405.0</td>\n",
       "    </tr>\n",
       "    <tr>\n",
       "      <th>5030</th>\n",
       "      <td>5030</td>\n",
       "      <td>Super built-up  Area</td>\n",
       "      <td>Ready To Move</td>\n",
       "      <td>devarachikkanahalli</td>\n",
       "      <td>2.0</td>\n",
       "      <td>no_society</td>\n",
       "      <td>1170</td>\n",
       "      <td>2.0</td>\n",
       "      <td>2.0</td>\n",
       "      <td>40.00</td>\n",
       "      <td>train</td>\n",
       "      <td>0</td>\n",
       "      <td>1170.0</td>\n",
       "    </tr>\n",
       "    <tr>\n",
       "      <th>10816</th>\n",
       "      <td>10816</td>\n",
       "      <td>Super built-up  Area</td>\n",
       "      <td>Ready To Move</td>\n",
       "      <td>uttarahalli</td>\n",
       "      <td>2.0</td>\n",
       "      <td>no_society</td>\n",
       "      <td>1050</td>\n",
       "      <td>2.0</td>\n",
       "      <td>1.0</td>\n",
       "      <td>42.00</td>\n",
       "      <td>train</td>\n",
       "      <td>0</td>\n",
       "      <td>1050.0</td>\n",
       "    </tr>\n",
       "    <tr>\n",
       "      <th>859</th>\n",
       "      <td>859</td>\n",
       "      <td>Super built-up  Area</td>\n",
       "      <td>Ready To Move</td>\n",
       "      <td>talaghattapura</td>\n",
       "      <td>2.0</td>\n",
       "      <td>no_society</td>\n",
       "      <td>1090</td>\n",
       "      <td>2.0</td>\n",
       "      <td>1.0</td>\n",
       "      <td>27.24</td>\n",
       "      <td>train</td>\n",
       "      <td>0</td>\n",
       "      <td>1090.0</td>\n",
       "    </tr>\n",
       "  </tbody>\n",
       "</table>\n",
       "</div>"
      ],
      "text/plain": [
       "       index             area_type   availability                 location  \\\n",
       "14330   1010        Built-up  Area  Ready To Move            sarjapur road   \n",
       "8969    8969  Super built-up  Area  Ready To Move      bhuvaneshwari nagar   \n",
       "9974    9974            Plot  Area  Ready To Move      sector 1 hsr layout   \n",
       "5336    5336  Super built-up  Area  Ready To Move             kundalahalli   \n",
       "1336    1336  Super built-up  Area  Ready To Move              thanisandra   \n",
       "13424    104  Super built-up  Area  Ready To Move            rmv extension   \n",
       "225      225  Super built-up  Area  Ready To Move  muthurayya swamy layout   \n",
       "5030    5030  Super built-up  Area  Ready To Move      devarachikkanahalli   \n",
       "10816  10816  Super built-up  Area  Ready To Move              uttarahalli   \n",
       "859      859  Super built-up  Area  Ready To Move           talaghattapura   \n",
       "\n",
       "       size     society total_sqft  bath  balcony   price source  \\\n",
       "14330   1.0  no_society        470   1.0      1.0     NaN   test   \n",
       "8969    2.0  no_society       1000   2.0      2.0   60.00  train   \n",
       "9974    3.0  no_society       2400   6.0      2.0  775.00  train   \n",
       "5336    3.0     dieldli       1724   3.0      2.0  124.00  train   \n",
       "1336    2.0      bhmesy       1265   2.0      2.0   85.00  train   \n",
       "13424   2.0     s alspe       1000   2.0      2.0     NaN   test   \n",
       "225     3.0      maclek       2405   4.0      2.0  260.00  train   \n",
       "5030    2.0  no_society       1170   2.0      2.0   40.00  train   \n",
       "10816   2.0  no_society       1050   2.0      1.0   42.00  train   \n",
       "859     2.0  no_society       1090   2.0      1.0   27.24  train   \n",
       "\n",
       "       belongs_to_society  total_area  \n",
       "14330                   0       470.0  \n",
       "8969                    0      1000.0  \n",
       "9974                    0      2400.0  \n",
       "5336                    1      1724.0  \n",
       "1336                    1      1265.0  \n",
       "13424                   1      1000.0  \n",
       "225                     1      2405.0  \n",
       "5030                    0      1170.0  \n",
       "10816                   0      1050.0  \n",
       "859                     0      1090.0  "
      ]
     },
     "execution_count": 9,
     "metadata": {},
     "output_type": "execute_result"
    }
   ],
   "source": [
    "fulldata.sample(10)"
   ]
  },
  {
   "cell_type": "code",
   "execution_count": 10,
   "metadata": {},
   "outputs": [
    {
     "data": {
      "text/html": [
       "<div>\n",
       "<style scoped>\n",
       "    .dataframe tbody tr th:only-of-type {\n",
       "        vertical-align: middle;\n",
       "    }\n",
       "\n",
       "    .dataframe tbody tr th {\n",
       "        vertical-align: top;\n",
       "    }\n",
       "\n",
       "    .dataframe thead th {\n",
       "        text-align: right;\n",
       "    }\n",
       "</style>\n",
       "<table border=\"1\" class=\"dataframe\">\n",
       "  <thead>\n",
       "    <tr style=\"text-align: right;\">\n",
       "      <th></th>\n",
       "      <th>Percent</th>\n",
       "      <th>Count</th>\n",
       "    </tr>\n",
       "  </thead>\n",
       "  <tbody>\n",
       "    <tr>\n",
       "      <th>price</th>\n",
       "      <td>10.000000</td>\n",
       "      <td>1480</td>\n",
       "    </tr>\n",
       "    <tr>\n",
       "      <th>balcony</th>\n",
       "      <td>4.581081</td>\n",
       "      <td>678</td>\n",
       "    </tr>\n",
       "    <tr>\n",
       "      <th>bath</th>\n",
       "      <td>0.540541</td>\n",
       "      <td>80</td>\n",
       "    </tr>\n",
       "    <tr>\n",
       "      <th>size</th>\n",
       "      <td>0.121622</td>\n",
       "      <td>18</td>\n",
       "    </tr>\n",
       "  </tbody>\n",
       "</table>\n",
       "</div>"
      ],
      "text/plain": [
       "           Percent  Count\n",
       "price    10.000000   1480\n",
       "balcony   4.581081    678\n",
       "bath      0.540541     80\n",
       "size      0.121622     18"
      ]
     },
     "execution_count": 10,
     "metadata": {},
     "output_type": "execute_result"
    }
   ],
   "source": [
    "show_missing_count(fulldata)"
   ]
  },
  {
   "cell_type": "code",
   "execution_count": 11,
   "metadata": {},
   "outputs": [
    {
     "data": {
      "text/plain": [
       "<matplotlib.axes._subplots.AxesSubplot at 0x1de0b4f0f88>"
      ]
     },
     "execution_count": 11,
     "metadata": {},
     "output_type": "execute_result"
    },
    {
     "data": {
      "image/png": "[encoded data removed]",
      "text/plain": [
       "<Figure size 432x288 with 2 Axes>"
      ]
     },
     "metadata": {
      "needs_background": "light"
     },
     "output_type": "display_data"
    }
   ],
   "source": [
    "sns.heatmap(fulldata.corr(),cmap=\"viridis\")"
   ]
  },
  {
   "cell_type": "code",
   "execution_count": 12,
   "metadata": {},
   "outputs": [],
   "source": [
    "fulldata=pd.concat([fulldata, pd.get_dummies(fulldata[\"area_type\"],prefix=\"area_type\")], axis=1)"
   ]
  },
  {
   "cell_type": "code",
   "execution_count": 13,
   "metadata": {},
   "outputs": [],
   "source": [
    "fulldata=pd.concat([fulldata, pd.get_dummies(fulldata[\"availability\"],prefix=\"availability\")], axis=1)"
   ]
  },
  {
   "cell_type": "code",
   "execution_count": null,
   "metadata": {},
   "outputs": [],
   "source": []
  },
  {
   "cell_type": "code",
   "execution_count": 14,
   "metadata": {},
   "outputs": [],
   "source": [
    "fulldata.drop(\"index\",inplace=True,axis=1)"
   ]
  },
  {
   "cell_type": "code",
   "execution_count": 15,
   "metadata": {},
   "outputs": [
    {
     "data": {
      "text/html": [
       "<div>\n",
       "<style scoped>\n",
       "    .dataframe tbody tr th:only-of-type {\n",
       "        vertical-align: middle;\n",
       "    }\n",
       "\n",
       "    .dataframe tbody tr th {\n",
       "        vertical-align: top;\n",
       "    }\n",
       "\n",
       "    .dataframe thead th {\n",
       "        text-align: right;\n",
       "    }\n",
       "</style>\n",
       "<table border=\"1\" class=\"dataframe\">\n",
       "  <thead>\n",
       "    <tr style=\"text-align: right;\">\n",
       "      <th></th>\n",
       "      <th>area_type</th>\n",
       "      <th>availability</th>\n",
       "      <th>location</th>\n",
       "      <th>size</th>\n",
       "      <th>society</th>\n",
       "      <th>total_sqft</th>\n",
       "      <th>bath</th>\n",
       "      <th>balcony</th>\n",
       "      <th>price</th>\n",
       "      <th>source</th>\n",
       "      <th>belongs_to_society</th>\n",
       "      <th>total_area</th>\n",
       "      <th>area_type_Built-up  Area</th>\n",
       "      <th>area_type_Carpet  Area</th>\n",
       "      <th>area_type_Plot  Area</th>\n",
       "      <th>area_type_Super built-up  Area</th>\n",
       "      <th>availability_Immediate Possession</th>\n",
       "      <th>availability_Not Available</th>\n",
       "      <th>availability_Ready To Move</th>\n",
       "    </tr>\n",
       "  </thead>\n",
       "  <tbody>\n",
       "    <tr>\n",
       "      <th>0</th>\n",
       "      <td>Super built-up  Area</td>\n",
       "      <td>Not Available</td>\n",
       "      <td>electronic city phase ii</td>\n",
       "      <td>2.0</td>\n",
       "      <td>coomee</td>\n",
       "      <td>1056</td>\n",
       "      <td>2.0</td>\n",
       "      <td>1.0</td>\n",
       "      <td>39.07</td>\n",
       "      <td>train</td>\n",
       "      <td>1</td>\n",
       "      <td>1056.0</td>\n",
       "      <td>0</td>\n",
       "      <td>0</td>\n",
       "      <td>0</td>\n",
       "      <td>1</td>\n",
       "      <td>0</td>\n",
       "      <td>1</td>\n",
       "      <td>0</td>\n",
       "    </tr>\n",
       "    <tr>\n",
       "      <th>1</th>\n",
       "      <td>Plot  Area</td>\n",
       "      <td>Ready To Move</td>\n",
       "      <td>chikka tirupathi</td>\n",
       "      <td>4.0</td>\n",
       "      <td>theanmp</td>\n",
       "      <td>2600</td>\n",
       "      <td>5.0</td>\n",
       "      <td>3.0</td>\n",
       "      <td>120.00</td>\n",
       "      <td>train</td>\n",
       "      <td>1</td>\n",
       "      <td>2600.0</td>\n",
       "      <td>0</td>\n",
       "      <td>0</td>\n",
       "      <td>1</td>\n",
       "      <td>0</td>\n",
       "      <td>0</td>\n",
       "      <td>0</td>\n",
       "      <td>1</td>\n",
       "    </tr>\n",
       "    <tr>\n",
       "      <th>2</th>\n",
       "      <td>Built-up  Area</td>\n",
       "      <td>Ready To Move</td>\n",
       "      <td>uttarahalli</td>\n",
       "      <td>3.0</td>\n",
       "      <td>no_society</td>\n",
       "      <td>1440</td>\n",
       "      <td>2.0</td>\n",
       "      <td>3.0</td>\n",
       "      <td>62.00</td>\n",
       "      <td>train</td>\n",
       "      <td>0</td>\n",
       "      <td>1440.0</td>\n",
       "      <td>1</td>\n",
       "      <td>0</td>\n",
       "      <td>0</td>\n",
       "      <td>0</td>\n",
       "      <td>0</td>\n",
       "      <td>0</td>\n",
       "      <td>1</td>\n",
       "    </tr>\n",
       "    <tr>\n",
       "      <th>3</th>\n",
       "      <td>Super built-up  Area</td>\n",
       "      <td>Ready To Move</td>\n",
       "      <td>lingadheeranahalli</td>\n",
       "      <td>3.0</td>\n",
       "      <td>soiewre</td>\n",
       "      <td>1521</td>\n",
       "      <td>3.0</td>\n",
       "      <td>1.0</td>\n",
       "      <td>95.00</td>\n",
       "      <td>train</td>\n",
       "      <td>1</td>\n",
       "      <td>1521.0</td>\n",
       "      <td>0</td>\n",
       "      <td>0</td>\n",
       "      <td>0</td>\n",
       "      <td>1</td>\n",
       "      <td>0</td>\n",
       "      <td>0</td>\n",
       "      <td>1</td>\n",
       "    </tr>\n",
       "    <tr>\n",
       "      <th>4</th>\n",
       "      <td>Super built-up  Area</td>\n",
       "      <td>Ready To Move</td>\n",
       "      <td>kothanur</td>\n",
       "      <td>2.0</td>\n",
       "      <td>no_society</td>\n",
       "      <td>1200</td>\n",
       "      <td>2.0</td>\n",
       "      <td>1.0</td>\n",
       "      <td>51.00</td>\n",
       "      <td>train</td>\n",
       "      <td>0</td>\n",
       "      <td>1200.0</td>\n",
       "      <td>0</td>\n",
       "      <td>0</td>\n",
       "      <td>0</td>\n",
       "      <td>1</td>\n",
       "      <td>0</td>\n",
       "      <td>0</td>\n",
       "      <td>1</td>\n",
       "    </tr>\n",
       "  </tbody>\n",
       "</table>\n",
       "</div>"
      ],
      "text/plain": [
       "              area_type   availability                  location  size  \\\n",
       "0  Super built-up  Area  Not Available  electronic city phase ii   2.0   \n",
       "1            Plot  Area  Ready To Move          chikka tirupathi   4.0   \n",
       "2        Built-up  Area  Ready To Move               uttarahalli   3.0   \n",
       "3  Super built-up  Area  Ready To Move        lingadheeranahalli   3.0   \n",
       "4  Super built-up  Area  Ready To Move                  kothanur   2.0   \n",
       "\n",
       "      society total_sqft  bath  balcony   price source  belongs_to_society  \\\n",
       "0      coomee       1056   2.0      1.0   39.07  train                   1   \n",
       "1     theanmp       2600   5.0      3.0  120.00  train                   1   \n",
       "2  no_society       1440   2.0      3.0   62.00  train                   0   \n",
       "3     soiewre       1521   3.0      1.0   95.00  train                   1   \n",
       "4  no_society       1200   2.0      1.0   51.00  train                   0   \n",
       "\n",
       "   total_area  area_type_Built-up  Area  area_type_Carpet  Area  \\\n",
       "0      1056.0                         0                       0   \n",
       "1      2600.0                         0                       0   \n",
       "2      1440.0                         1                       0   \n",
       "3      1521.0                         0                       0   \n",
       "4      1200.0                         0                       0   \n",
       "\n",
       "   area_type_Plot  Area  area_type_Super built-up  Area  \\\n",
       "0                     0                               1   \n",
       "1                     1                               0   \n",
       "2                     0                               0   \n",
       "3                     0                               1   \n",
       "4                     0                               1   \n",
       "\n",
       "   availability_Immediate Possession  availability_Not Available  \\\n",
       "0                                  0                           1   \n",
       "1                                  0                           0   \n",
       "2                                  0                           0   \n",
       "3                                  0                           0   \n",
       "4                                  0                           0   \n",
       "\n",
       "   availability_Ready To Move  \n",
       "0                           0  \n",
       "1                           1  \n",
       "2                           1  \n",
       "3                           1  \n",
       "4                           1  "
      ]
     },
     "execution_count": 15,
     "metadata": {},
     "output_type": "execute_result"
    }
   ],
   "source": [
    "fulldata.head()"
   ]
  },
  {
   "cell_type": "code",
   "execution_count": 16,
   "metadata": {},
   "outputs": [
    {
     "name": "stdout",
     "output_type": "stream",
     "text": [
      "<class 'pandas.core.frame.DataFrame'>\n",
      "RangeIndex: 14800 entries, 0 to 14799\n",
      "Data columns (total 19 columns):\n",
      " #   Column                             Non-Null Count  Dtype  \n",
      "---  ------                             --------------  -----  \n",
      " 0   area_type                          14800 non-null  object \n",
      " 1   availability                       14800 non-null  object \n",
      " 2   location                           14800 non-null  object \n",
      " 3   size                               14782 non-null  float64\n",
      " 4   society                            14800 non-null  object \n",
      " 5   total_sqft                         14800 non-null  object \n",
      " 6   bath                               14720 non-null  float64\n",
      " 7   balcony                            14122 non-null  float64\n",
      " 8   price                              13320 non-null  float64\n",
      " 9   source                             14800 non-null  object \n",
      " 10  belongs_to_society                 14800 non-null  int32  \n",
      " 11  total_area                         14800 non-null  float64\n",
      " 12  area_type_Built-up  Area           14800 non-null  uint8  \n",
      " 13  area_type_Carpet  Area             14800 non-null  uint8  \n",
      " 14  area_type_Plot  Area               14800 non-null  uint8  \n",
      " 15  area_type_Super built-up  Area     14800 non-null  uint8  \n",
      " 16  availability_Immediate Possession  14800 non-null  uint8  \n",
      " 17  availability_Not Available         14800 non-null  uint8  \n",
      " 18  availability_Ready To Move         14800 non-null  uint8  \n",
      "dtypes: float64(5), int32(1), object(6), uint8(7)\n",
      "memory usage: 1.4+ MB\n"
     ]
    }
   ],
   "source": [
    "fulldata.info()"
   ]
  },
  {
   "cell_type": "code",
   "execution_count": 17,
   "metadata": {},
   "outputs": [],
   "source": [
    "pickle.dump(fulldata,open('fulldata_3.pk', 'wb'))"
   ]
  },
  {
   "cell_type": "code",
   "execution_count": 5,
   "metadata": {},
   "outputs": [],
   "source": [
    "with open('fulldata_3.pk','rb') as f:\n",
    "    fulldata = pickle.load(f)"
   ]
  },
  {
   "cell_type": "code",
   "execution_count": 59,
   "metadata": {},
   "outputs": [
    {
     "data": {
      "text/html": [
       "<div>\n",
       "<style scoped>\n",
       "    .dataframe tbody tr th:only-of-type {\n",
       "        vertical-align: middle;\n",
       "    }\n",
       "\n",
       "    .dataframe tbody tr th {\n",
       "        vertical-align: top;\n",
       "    }\n",
       "\n",
       "    .dataframe thead th {\n",
       "        text-align: right;\n",
       "    }\n",
       "</style>\n",
       "<table border=\"1\" class=\"dataframe\">\n",
       "  <thead>\n",
       "    <tr style=\"text-align: right;\">\n",
       "      <th></th>\n",
       "      <th>area_type</th>\n",
       "      <th>availability</th>\n",
       "      <th>location</th>\n",
       "      <th>size</th>\n",
       "      <th>society</th>\n",
       "      <th>total_sqft</th>\n",
       "      <th>bath</th>\n",
       "      <th>balcony</th>\n",
       "      <th>price</th>\n",
       "      <th>source</th>\n",
       "      <th>belongs_to_society</th>\n",
       "      <th>total_area</th>\n",
       "      <th>area_type_Built-up  Area</th>\n",
       "      <th>area_type_Carpet  Area</th>\n",
       "      <th>area_type_Plot  Area</th>\n",
       "      <th>area_type_Super built-up  Area</th>\n",
       "      <th>availability_Immediate Possession</th>\n",
       "      <th>availability_Not Available</th>\n",
       "      <th>availability_Ready To Move</th>\n",
       "    </tr>\n",
       "  </thead>\n",
       "  <tbody>\n",
       "    <tr>\n",
       "      <th>0</th>\n",
       "      <td>Super built-up  Area</td>\n",
       "      <td>Not Available</td>\n",
       "      <td>electronic city phase ii</td>\n",
       "      <td>2.0</td>\n",
       "      <td>coomee</td>\n",
       "      <td>1056</td>\n",
       "      <td>2.0</td>\n",
       "      <td>1.0</td>\n",
       "      <td>39.07</td>\n",
       "      <td>train</td>\n",
       "      <td>1</td>\n",
       "      <td>1056.0</td>\n",
       "      <td>0</td>\n",
       "      <td>0</td>\n",
       "      <td>0</td>\n",
       "      <td>1</td>\n",
       "      <td>0</td>\n",
       "      <td>1</td>\n",
       "      <td>0</td>\n",
       "    </tr>\n",
       "    <tr>\n",
       "      <th>1</th>\n",
       "      <td>Plot  Area</td>\n",
       "      <td>Ready To Move</td>\n",
       "      <td>chikka tirupathi</td>\n",
       "      <td>4.0</td>\n",
       "      <td>theanmp</td>\n",
       "      <td>2600</td>\n",
       "      <td>5.0</td>\n",
       "      <td>3.0</td>\n",
       "      <td>120.00</td>\n",
       "      <td>train</td>\n",
       "      <td>1</td>\n",
       "      <td>2600.0</td>\n",
       "      <td>0</td>\n",
       "      <td>0</td>\n",
       "      <td>1</td>\n",
       "      <td>0</td>\n",
       "      <td>0</td>\n",
       "      <td>0</td>\n",
       "      <td>1</td>\n",
       "    </tr>\n",
       "    <tr>\n",
       "      <th>2</th>\n",
       "      <td>Built-up  Area</td>\n",
       "      <td>Ready To Move</td>\n",
       "      <td>uttarahalli</td>\n",
       "      <td>3.0</td>\n",
       "      <td>no_society</td>\n",
       "      <td>1440</td>\n",
       "      <td>2.0</td>\n",
       "      <td>3.0</td>\n",
       "      <td>62.00</td>\n",
       "      <td>train</td>\n",
       "      <td>0</td>\n",
       "      <td>1440.0</td>\n",
       "      <td>1</td>\n",
       "      <td>0</td>\n",
       "      <td>0</td>\n",
       "      <td>0</td>\n",
       "      <td>0</td>\n",
       "      <td>0</td>\n",
       "      <td>1</td>\n",
       "    </tr>\n",
       "    <tr>\n",
       "      <th>3</th>\n",
       "      <td>Super built-up  Area</td>\n",
       "      <td>Ready To Move</td>\n",
       "      <td>lingadheeranahalli</td>\n",
       "      <td>3.0</td>\n",
       "      <td>soiewre</td>\n",
       "      <td>1521</td>\n",
       "      <td>3.0</td>\n",
       "      <td>1.0</td>\n",
       "      <td>95.00</td>\n",
       "      <td>train</td>\n",
       "      <td>1</td>\n",
       "      <td>1521.0</td>\n",
       "      <td>0</td>\n",
       "      <td>0</td>\n",
       "      <td>0</td>\n",
       "      <td>1</td>\n",
       "      <td>0</td>\n",
       "      <td>0</td>\n",
       "      <td>1</td>\n",
       "    </tr>\n",
       "    <tr>\n",
       "      <th>4</th>\n",
       "      <td>Super built-up  Area</td>\n",
       "      <td>Ready To Move</td>\n",
       "      <td>kothanur</td>\n",
       "      <td>2.0</td>\n",
       "      <td>no_society</td>\n",
       "      <td>1200</td>\n",
       "      <td>2.0</td>\n",
       "      <td>1.0</td>\n",
       "      <td>51.00</td>\n",
       "      <td>train</td>\n",
       "      <td>0</td>\n",
       "      <td>1200.0</td>\n",
       "      <td>0</td>\n",
       "      <td>0</td>\n",
       "      <td>0</td>\n",
       "      <td>1</td>\n",
       "      <td>0</td>\n",
       "      <td>0</td>\n",
       "      <td>1</td>\n",
       "    </tr>\n",
       "  </tbody>\n",
       "</table>\n",
       "</div>"
      ],
      "text/plain": [
       "              area_type   availability                  location  size  \\\n",
       "0  Super built-up  Area  Not Available  electronic city phase ii   2.0   \n",
       "1            Plot  Area  Ready To Move          chikka tirupathi   4.0   \n",
       "2        Built-up  Area  Ready To Move               uttarahalli   3.0   \n",
       "3  Super built-up  Area  Ready To Move        lingadheeranahalli   3.0   \n",
       "4  Super built-up  Area  Ready To Move                  kothanur   2.0   \n",
       "\n",
       "      society total_sqft  bath  balcony   price source  belongs_to_society  \\\n",
       "0      coomee       1056   2.0      1.0   39.07  train                   1   \n",
       "1     theanmp       2600   5.0      3.0  120.00  train                   1   \n",
       "2  no_society       1440   2.0      3.0   62.00  train                   0   \n",
       "3     soiewre       1521   3.0      1.0   95.00  train                   1   \n",
       "4  no_society       1200   2.0      1.0   51.00  train                   0   \n",
       "\n",
       "   total_area  area_type_Built-up  Area  area_type_Carpet  Area  \\\n",
       "0      1056.0                         0                       0   \n",
       "1      2600.0                         0                       0   \n",
       "2      1440.0                         1                       0   \n",
       "3      1521.0                         0                       0   \n",
       "4      1200.0                         0                       0   \n",
       "\n",
       "   area_type_Plot  Area  area_type_Super built-up  Area  \\\n",
       "0                     0                               1   \n",
       "1                     1                               0   \n",
       "2                     0                               0   \n",
       "3                     0                               1   \n",
       "4                     0                               1   \n",
       "\n",
       "   availability_Immediate Possession  availability_Not Available  \\\n",
       "0                                  0                           1   \n",
       "1                                  0                           0   \n",
       "2                                  0                           0   \n",
       "3                                  0                           0   \n",
       "4                                  0                           0   \n",
       "\n",
       "   availability_Ready To Move  \n",
       "0                           0  \n",
       "1                           1  \n",
       "2                           1  \n",
       "3                           1  \n",
       "4                           1  "
      ]
     },
     "execution_count": 59,
     "metadata": {},
     "output_type": "execute_result"
    }
   ],
   "source": [
    "train_df=fulldata.loc[fulldata[\"source\"]==\"train\"]\n",
    "test_df=fulldata.loc[fulldata[\"source\"]==\"test\"]\n",
    "train_df.head()"
   ]
  },
  {
   "cell_type": "markdown",
   "metadata": {},
   "source": [
    "## Missing Values"
   ]
  },
  {
   "cell_type": "code",
   "execution_count": 48,
   "metadata": {},
   "outputs": [
    {
     "data": {
      "text/html": [
       "<div>\n",
       "<style scoped>\n",
       "    .dataframe tbody tr th:only-of-type {\n",
       "        vertical-align: middle;\n",
       "    }\n",
       "\n",
       "    .dataframe tbody tr th {\n",
       "        vertical-align: top;\n",
       "    }\n",
       "\n",
       "    .dataframe thead th {\n",
       "        text-align: right;\n",
       "    }\n",
       "</style>\n",
       "<table border=\"1\" class=\"dataframe\">\n",
       "  <thead>\n",
       "    <tr style=\"text-align: right;\">\n",
       "      <th></th>\n",
       "      <th>Percent</th>\n",
       "      <th>Count</th>\n",
       "    </tr>\n",
       "  </thead>\n",
       "  <tbody>\n",
       "    <tr>\n",
       "      <th>balcony</th>\n",
       "      <td>4.572072</td>\n",
       "      <td>609</td>\n",
       "    </tr>\n",
       "    <tr>\n",
       "      <th>bath</th>\n",
       "      <td>0.548048</td>\n",
       "      <td>73</td>\n",
       "    </tr>\n",
       "    <tr>\n",
       "      <th>size</th>\n",
       "      <td>0.120120</td>\n",
       "      <td>16</td>\n",
       "    </tr>\n",
       "  </tbody>\n",
       "</table>\n",
       "</div>"
      ],
      "text/plain": [
       "          Percent  Count\n",
       "balcony  4.572072    609\n",
       "bath     0.548048     73\n",
       "size     0.120120     16"
      ]
     },
     "execution_count": 48,
     "metadata": {},
     "output_type": "execute_result"
    },
    {
     "data": {
      "text/html": [
       "<div>\n",
       "<style scoped>\n",
       "    .dataframe tbody tr th:only-of-type {\n",
       "        vertical-align: middle;\n",
       "    }\n",
       "\n",
       "    .dataframe tbody tr th {\n",
       "        vertical-align: top;\n",
       "    }\n",
       "\n",
       "    .dataframe thead th {\n",
       "        text-align: right;\n",
       "    }\n",
       "</style>\n",
       "<table border=\"1\" class=\"dataframe\">\n",
       "  <thead>\n",
       "    <tr style=\"text-align: right;\">\n",
       "      <th></th>\n",
       "      <th>Percent</th>\n",
       "      <th>Count</th>\n",
       "    </tr>\n",
       "  </thead>\n",
       "  <tbody>\n",
       "    <tr>\n",
       "      <th>price</th>\n",
       "      <td>100.000000</td>\n",
       "      <td>1480</td>\n",
       "    </tr>\n",
       "    <tr>\n",
       "      <th>balcony</th>\n",
       "      <td>4.662162</td>\n",
       "      <td>69</td>\n",
       "    </tr>\n",
       "    <tr>\n",
       "      <th>bath</th>\n",
       "      <td>0.472973</td>\n",
       "      <td>7</td>\n",
       "    </tr>\n",
       "    <tr>\n",
       "      <th>size</th>\n",
       "      <td>0.135135</td>\n",
       "      <td>2</td>\n",
       "    </tr>\n",
       "  </tbody>\n",
       "</table>\n",
       "</div>"
      ],
      "text/plain": [
       "            Percent  Count\n",
       "price    100.000000   1480\n",
       "balcony    4.662162     69\n",
       "bath       0.472973      7\n",
       "size       0.135135      2"
      ]
     },
     "execution_count": 48,
     "metadata": {},
     "output_type": "execute_result"
    }
   ],
   "source": [
    "show_missing_count(train_df)\n",
    "show_missing_count(test_df)"
   ]
  },
  {
   "cell_type": "code",
   "execution_count": 57,
   "metadata": {},
   "outputs": [
    {
     "data": {
      "text/plain": [
       "0    2.0\n",
       "dtype: float64"
      ]
     },
     "execution_count": 57,
     "metadata": {},
     "output_type": "execute_result"
    },
    {
     "data": {
      "text/plain": [
       "0    1.0\n",
       "dtype: float64"
      ]
     },
     "execution_count": 57,
     "metadata": {},
     "output_type": "execute_result"
    }
   ],
   "source": [
    "train_df[\"balcony\"].mode()\n",
    "test_df[\"balcony\"].mode()"
   ]
  },
  {
   "cell_type": "code",
   "execution_count": 60,
   "metadata": {},
   "outputs": [
    {
     "name": "stderr",
     "output_type": "stream",
     "text": [
      "C:\\ProgramData\\Anaconda3\\lib\\site-packages\\pandas\\core\\generic.py:6245: SettingWithCopyWarning: \n",
      "A value is trying to be set on a copy of a slice from a DataFrame\n",
      "\n",
      "See the caveats in the documentation: https://pandas.pydata.org/pandas-docs/stable/user_guide/indexing.html#returning-a-view-versus-a-copy\n",
      "  self._update_inplace(new_data)\n"
     ]
    }
   ],
   "source": [
    "train_df[\"balcony\"].fillna(2,inplace=True)\n",
    "test_df[\"balcony\"].fillna(1,inplace=True)"
   ]
  },
  {
   "cell_type": "code",
   "execution_count": 65,
   "metadata": {},
   "outputs": [
    {
     "data": {
      "text/plain": [
       "count    13247.000000\n",
       "mean         2.692610\n",
       "std          1.341458\n",
       "min          1.000000\n",
       "25%          2.000000\n",
       "50%          2.000000\n",
       "75%          3.000000\n",
       "max         40.000000\n",
       "Name: bath, dtype: float64"
      ]
     },
     "execution_count": 65,
     "metadata": {},
     "output_type": "execute_result"
    },
    {
     "data": {
      "text/plain": [
       "count    1473.000000\n",
       "mean        2.753564\n",
       "std         1.365218\n",
       "min         1.000000\n",
       "25%         2.000000\n",
       "50%         2.000000\n",
       "75%         3.000000\n",
       "max        16.000000\n",
       "Name: bath, dtype: float64"
      ]
     },
     "execution_count": 65,
     "metadata": {},
     "output_type": "execute_result"
    },
    {
     "data": {
      "text/plain": [
       "0    2.0\n",
       "dtype: float64"
      ]
     },
     "execution_count": 65,
     "metadata": {},
     "output_type": "execute_result"
    },
    {
     "data": {
      "text/plain": [
       "0    2.0\n",
       "dtype: float64"
      ]
     },
     "execution_count": 65,
     "metadata": {},
     "output_type": "execute_result"
    }
   ],
   "source": [
    "train_df[\"bath\"].describe()\n",
    "test_df[\"bath\"].describe()\n",
    "train_df[\"bath\"].mode()\n",
    "test_df[\"bath\"].mode()"
   ]
  },
  {
   "cell_type": "code",
   "execution_count": 66,
   "metadata": {},
   "outputs": [
    {
     "name": "stderr",
     "output_type": "stream",
     "text": [
      "C:\\ProgramData\\Anaconda3\\lib\\site-packages\\pandas\\core\\generic.py:6245: SettingWithCopyWarning: \n",
      "A value is trying to be set on a copy of a slice from a DataFrame\n",
      "\n",
      "See the caveats in the documentation: https://pandas.pydata.org/pandas-docs/stable/user_guide/indexing.html#returning-a-view-versus-a-copy\n",
      "  self._update_inplace(new_data)\n"
     ]
    }
   ],
   "source": [
    "train_df[\"bath\"].fillna(2,inplace=True)\n",
    "test_df[\"bath\"].fillna(2,inplace=True)"
   ]
  },
  {
   "cell_type": "code",
   "execution_count": 68,
   "metadata": {},
   "outputs": [
    {
     "data": {
      "text/plain": [
       "count    13304.000000\n",
       "mean         2.803743\n",
       "std          1.294974\n",
       "min          1.000000\n",
       "25%          2.000000\n",
       "50%          3.000000\n",
       "75%          3.000000\n",
       "max         43.000000\n",
       "Name: size, dtype: float64"
      ]
     },
     "execution_count": 68,
     "metadata": {},
     "output_type": "execute_result"
    },
    {
     "data": {
      "text/plain": [
       "count    1478.000000\n",
       "mean        2.884980\n",
       "std         1.355159\n",
       "min         1.000000\n",
       "25%         2.000000\n",
       "50%         3.000000\n",
       "75%         3.000000\n",
       "max        16.000000\n",
       "Name: size, dtype: float64"
      ]
     },
     "execution_count": 68,
     "metadata": {},
     "output_type": "execute_result"
    },
    {
     "data": {
      "text/plain": [
       "0    2.0\n",
       "dtype: float64"
      ]
     },
     "execution_count": 68,
     "metadata": {},
     "output_type": "execute_result"
    },
    {
     "data": {
      "text/plain": [
       "0    2.0\n",
       "dtype: float64"
      ]
     },
     "execution_count": 68,
     "metadata": {},
     "output_type": "execute_result"
    }
   ],
   "source": [
    "train_df[\"size\"].describe()\n",
    "test_df[\"size\"].describe()\n",
    "train_df[\"size\"].mode()\n",
    "test_df[\"size\"].mode()"
   ]
  },
  {
   "cell_type": "code",
   "execution_count": 69,
   "metadata": {},
   "outputs": [
    {
     "name": "stderr",
     "output_type": "stream",
     "text": [
      "C:\\ProgramData\\Anaconda3\\lib\\site-packages\\pandas\\core\\generic.py:6245: SettingWithCopyWarning: \n",
      "A value is trying to be set on a copy of a slice from a DataFrame\n",
      "\n",
      "See the caveats in the documentation: https://pandas.pydata.org/pandas-docs/stable/user_guide/indexing.html#returning-a-view-versus-a-copy\n",
      "  self._update_inplace(new_data)\n"
     ]
    }
   ],
   "source": [
    "train_df[\"size\"].fillna(2,inplace=True)\n",
    "test_df[\"size\"].fillna(2,inplace=True)"
   ]
  },
  {
   "cell_type": "code",
   "execution_count": 70,
   "metadata": {},
   "outputs": [
    {
     "data": {
      "text/html": [
       "<div>\n",
       "<style scoped>\n",
       "    .dataframe tbody tr th:only-of-type {\n",
       "        vertical-align: middle;\n",
       "    }\n",
       "\n",
       "    .dataframe tbody tr th {\n",
       "        vertical-align: top;\n",
       "    }\n",
       "\n",
       "    .dataframe thead th {\n",
       "        text-align: right;\n",
       "    }\n",
       "</style>\n",
       "<table border=\"1\" class=\"dataframe\">\n",
       "  <thead>\n",
       "    <tr style=\"text-align: right;\">\n",
       "      <th></th>\n",
       "      <th>Percent</th>\n",
       "      <th>Count</th>\n",
       "    </tr>\n",
       "  </thead>\n",
       "  <tbody>\n",
       "  </tbody>\n",
       "</table>\n",
       "</div>"
      ],
      "text/plain": [
       "Empty DataFrame\n",
       "Columns: [Percent, Count]\n",
       "Index: []"
      ]
     },
     "execution_count": 70,
     "metadata": {},
     "output_type": "execute_result"
    },
    {
     "data": {
      "text/html": [
       "<div>\n",
       "<style scoped>\n",
       "    .dataframe tbody tr th:only-of-type {\n",
       "        vertical-align: middle;\n",
       "    }\n",
       "\n",
       "    .dataframe tbody tr th {\n",
       "        vertical-align: top;\n",
       "    }\n",
       "\n",
       "    .dataframe thead th {\n",
       "        text-align: right;\n",
       "    }\n",
       "</style>\n",
       "<table border=\"1\" class=\"dataframe\">\n",
       "  <thead>\n",
       "    <tr style=\"text-align: right;\">\n",
       "      <th></th>\n",
       "      <th>Percent</th>\n",
       "      <th>Count</th>\n",
       "    </tr>\n",
       "  </thead>\n",
       "  <tbody>\n",
       "    <tr>\n",
       "      <th>price</th>\n",
       "      <td>100.0</td>\n",
       "      <td>1480</td>\n",
       "    </tr>\n",
       "  </tbody>\n",
       "</table>\n",
       "</div>"
      ],
      "text/plain": [
       "       Percent  Count\n",
       "price    100.0   1480"
      ]
     },
     "execution_count": 70,
     "metadata": {},
     "output_type": "execute_result"
    }
   ],
   "source": [
    "show_missing_count(train_df)\n",
    "show_missing_count(test_df)"
   ]
  },
  {
   "cell_type": "code",
   "execution_count": 71,
   "metadata": {},
   "outputs": [],
   "source": [
    "pickle.dump(train_df,open('train_df.pk', 'wb'))\n",
    "pickle.dump(test_df,open('test_df.pk', 'wb'))"
   ]
  },
  {
   "cell_type": "code",
   "execution_count": 17,
   "metadata": {},
   "outputs": [],
   "source": [
    "with open('train_df.pk','rb') as f:\n",
    "    train_df = pickle.load(f)\n",
    "\n",
    "with open('test_df.pk','rb') as f:\n",
    "    test_df = pickle.load(f)    "
   ]
  },
  {
   "cell_type": "markdown",
   "metadata": {},
   "source": [
    "## EDA"
   ]
  },
  {
   "cell_type": "code",
   "execution_count": 162,
   "metadata": {},
   "outputs": [
    {
     "data": {
      "text/plain": [
       "<matplotlib.axes._subplots.AxesSubplot at 0x2f3d2d2b2c8>"
      ]
     },
     "execution_count": 162,
     "metadata": {},
     "output_type": "execute_result"
    },
    {
     "data": {
      "image/png": "[encoded data removed]",
      "text/plain": [
       "<Figure size 432x288 with 1 Axes>"
      ]
     },
     "metadata": {
      "needs_background": "light"
     },
     "output_type": "display_data"
    }
   ],
   "source": [
    "train_df[\"area_type\"].hist()"
   ]
  },
  {
   "cell_type": "code",
   "execution_count": 163,
   "metadata": {},
   "outputs": [
    {
     "data": {
      "text/plain": [
       "<matplotlib.axes._subplots.AxesSubplot at 0x2f3d2d83248>"
      ]
     },
     "execution_count": 163,
     "metadata": {},
     "output_type": "execute_result"
    },
    {
     "data": {
      "image/png": "[encoded data removed]",
      "text/plain": [
       "<Figure size 432x288 with 1 Axes>"
      ]
     },
     "metadata": {
      "needs_background": "light"
     },
     "output_type": "display_data"
    }
   ],
   "source": [
    "train_df[\"availability\"].hist()"
   ]
  },
  {
   "cell_type": "code",
   "execution_count": 166,
   "metadata": {},
   "outputs": [
    {
     "data": {
      "text/plain": [
       "<matplotlib.axes._subplots.AxesSubplot at 0x2f3cf48a8c8>"
      ]
     },
     "execution_count": 166,
     "metadata": {},
     "output_type": "execute_result"
    },
    {
     "data": {
      "image/png": "[encoded data removed]",
      "text/plain": [
       "<Figure size 432x288 with 1 Axes>"
      ]
     },
     "metadata": {
      "needs_background": "light"
     },
     "output_type": "display_data"
    }
   ],
   "source": [
    "train_df[\"size\"].hist(bins=50)\t#bedroom count"
   ]
  },
  {
   "cell_type": "code",
   "execution_count": 5,
   "metadata": {},
   "outputs": [
    {
     "data": {
      "text/plain": [
       "<matplotlib.axes._subplots.AxesSubplot at 0x2a07a3d4ac8>"
      ]
     },
     "execution_count": 5,
     "metadata": {},
     "output_type": "execute_result"
    },
    {
     "data": {
      "image/png": "[encoded data removed]",
      "text/plain": [
       "<Figure size 432x288 with 1 Axes>"
      ]
     },
     "metadata": {
      "needs_background": "light"
     },
     "output_type": "display_data"
    }
   ],
   "source": [
    "train_df.boxplot(column=\"size\")"
   ]
  },
  {
   "cell_type": "markdown",
   "metadata": {},
   "source": [
    "##### Drop data with high bedroom numbers"
   ]
  },
  {
   "cell_type": "code",
   "execution_count": 8,
   "metadata": {},
   "outputs": [
    {
     "data": {
      "text/html": [
       "<div>\n",
       "<style scoped>\n",
       "    .dataframe tbody tr th:only-of-type {\n",
       "        vertical-align: middle;\n",
       "    }\n",
       "\n",
       "    .dataframe tbody tr th {\n",
       "        vertical-align: top;\n",
       "    }\n",
       "\n",
       "    .dataframe thead th {\n",
       "        text-align: right;\n",
       "    }\n",
       "</style>\n",
       "<table border=\"1\" class=\"dataframe\">\n",
       "  <thead>\n",
       "    <tr style=\"text-align: right;\">\n",
       "      <th></th>\n",
       "      <th>area_type</th>\n",
       "      <th>availability</th>\n",
       "      <th>location</th>\n",
       "      <th>size</th>\n",
       "      <th>society</th>\n",
       "      <th>total_sqft</th>\n",
       "      <th>bath</th>\n",
       "      <th>balcony</th>\n",
       "      <th>price</th>\n",
       "      <th>source</th>\n",
       "      <th>belongs_to_society</th>\n",
       "      <th>total_area</th>\n",
       "      <th>area_type_Built-up  Area</th>\n",
       "      <th>area_type_Carpet  Area</th>\n",
       "      <th>area_type_Plot  Area</th>\n",
       "      <th>area_type_Super built-up  Area</th>\n",
       "      <th>availability_Immediate Possession</th>\n",
       "      <th>availability_Not Available</th>\n",
       "      <th>availability_Ready To Move</th>\n",
       "    </tr>\n",
       "  </thead>\n",
       "  <tbody>\n",
       "    <tr>\n",
       "      <th>1718</th>\n",
       "      <td>Super built-up  Area</td>\n",
       "      <td>Ready To Move</td>\n",
       "      <td>2electronic city phase ii</td>\n",
       "      <td>27.0</td>\n",
       "      <td>no_society</td>\n",
       "      <td>8000</td>\n",
       "      <td>27.0</td>\n",
       "      <td>0.0</td>\n",
       "      <td>230.0</td>\n",
       "      <td>train</td>\n",
       "      <td>0</td>\n",
       "      <td>8000.0</td>\n",
       "      <td>0</td>\n",
       "      <td>0</td>\n",
       "      <td>0</td>\n",
       "      <td>1</td>\n",
       "      <td>0</td>\n",
       "      <td>0</td>\n",
       "      <td>1</td>\n",
       "    </tr>\n",
       "    <tr>\n",
       "      <th>4684</th>\n",
       "      <td>Plot  Area</td>\n",
       "      <td>Ready To Move</td>\n",
       "      <td>munnekollal</td>\n",
       "      <td>43.0</td>\n",
       "      <td>no_society</td>\n",
       "      <td>2400</td>\n",
       "      <td>40.0</td>\n",
       "      <td>0.0</td>\n",
       "      <td>660.0</td>\n",
       "      <td>train</td>\n",
       "      <td>0</td>\n",
       "      <td>2400.0</td>\n",
       "      <td>0</td>\n",
       "      <td>0</td>\n",
       "      <td>1</td>\n",
       "      <td>0</td>\n",
       "      <td>0</td>\n",
       "      <td>0</td>\n",
       "      <td>1</td>\n",
       "    </tr>\n",
       "  </tbody>\n",
       "</table>\n",
       "</div>"
      ],
      "text/plain": [
       "                 area_type   availability                   location  size  \\\n",
       "1718  Super built-up  Area  Ready To Move  2electronic city phase ii  27.0   \n",
       "4684            Plot  Area  Ready To Move                munnekollal  43.0   \n",
       "\n",
       "         society total_sqft  bath  balcony  price source  belongs_to_society  \\\n",
       "1718  no_society       8000  27.0      0.0  230.0  train                   0   \n",
       "4684  no_society       2400  40.0      0.0  660.0  train                   0   \n",
       "\n",
       "      total_area  area_type_Built-up  Area  area_type_Carpet  Area  \\\n",
       "1718      8000.0                         0                       0   \n",
       "4684      2400.0                         0                       0   \n",
       "\n",
       "      area_type_Plot  Area  area_type_Super built-up  Area  \\\n",
       "1718                     0                               1   \n",
       "4684                     1                               0   \n",
       "\n",
       "      availability_Immediate Possession  availability_Not Available  \\\n",
       "1718                                  0                           0   \n",
       "4684                                  0                           0   \n",
       "\n",
       "      availability_Ready To Move  \n",
       "1718                           1  \n",
       "4684                           1  "
      ]
     },
     "execution_count": 8,
     "metadata": {},
     "output_type": "execute_result"
    }
   ],
   "source": [
    "train_df[train_df[\"size\"]>20]"
   ]
  },
  {
   "cell_type": "code",
   "execution_count": 11,
   "metadata": {},
   "outputs": [
    {
     "data": {
      "text/plain": [
       "<matplotlib.collections.PathCollection at 0x2a07a941188>"
      ]
     },
     "execution_count": 11,
     "metadata": {},
     "output_type": "execute_result"
    },
    {
     "data": {
      "image/png": "[encoded data removed]",
      "text/plain": [
       "<Figure size 432x288 with 1 Axes>"
      ]
     },
     "metadata": {
      "needs_background": "light"
     },
     "output_type": "display_data"
    }
   ],
   "source": [
    "plt.scatter(train_df[\"size\"],train_df[\"price\"])"
   ]
  },
  {
   "cell_type": "code",
   "execution_count": 18,
   "metadata": {},
   "outputs": [],
   "source": [
    "train_df=train_df[train_df[\"size\"]<20]"
   ]
  },
  {
   "cell_type": "code",
   "execution_count": 87,
   "metadata": {},
   "outputs": [
    {
     "data": {
      "text/plain": [
       "<matplotlib.axes._subplots.AxesSubplot at 0x2a07fe16148>"
      ]
     },
     "execution_count": 87,
     "metadata": {},
     "output_type": "execute_result"
    },
    {
     "data": {
      "image/png": "[encoded data removed]",
      "text/plain": [
       "<Figure size 432x288 with 1 Axes>"
      ]
     },
     "metadata": {
      "needs_background": "light"
     },
     "output_type": "display_data"
    }
   ],
   "source": [
    "train_df[\"size\"].hist(bins=50)\t#bedroom count\n",
    "# Check with power transform later"
   ]
  },
  {
   "cell_type": "code",
   "execution_count": 88,
   "metadata": {},
   "outputs": [
    {
     "data": {
      "text/plain": [
       "(array([6.550e+02, 0.000e+00, 5.543e+03, 0.000e+00, 4.855e+03, 1.417e+03,\n",
       "        5.770e+02, 1.880e+02, 7.200e+01, 5.000e+00]),\n",
       " array([-2.52354907, -1.85488128, -1.18621349, -0.5175457 ,  0.15112209,\n",
       "         0.81978987,  1.48845766,  2.15712545,  2.82579324,  3.49446103,\n",
       "         4.16312882]),\n",
       " <a list of 10 Patch objects>)"
      ]
     },
     "execution_count": 88,
     "metadata": {},
     "output_type": "execute_result"
    },
    {
     "data": {
      "image/png": "[encoded data removed]",
      "text/plain": [
       "<Figure size 432x288 with 1 Axes>"
      ]
     },
     "metadata": {
      "needs_background": "light"
     },
     "output_type": "display_data"
    }
   ],
   "source": [
    "# pt=PowerTransformer()\n",
    "# plt.hist(pt.fit_transform(train_df[\"size\"].values.reshape(-1, 1)))"
   ]
  },
  {
   "cell_type": "code",
   "execution_count": 19,
   "metadata": {},
   "outputs": [
    {
     "data": {
      "text/plain": [
       "<matplotlib.axes._subplots.AxesSubplot at 0x2a0776fbf08>"
      ]
     },
     "execution_count": 19,
     "metadata": {},
     "output_type": "execute_result"
    },
    {
     "data": {
      "image/png": "[encoded data removed]",
      "text/plain": [
       "<Figure size 432x288 with 1 Axes>"
      ]
     },
     "metadata": {
      "needs_background": "light"
     },
     "output_type": "display_data"
    }
   ],
   "source": [
    "train_df[\"balcony\"].hist(bins=50)"
   ]
  },
  {
   "cell_type": "code",
   "execution_count": 90,
   "metadata": {},
   "outputs": [
    {
     "data": {
      "text/plain": [
       "<matplotlib.axes._subplots.AxesSubplot at 0x2a0010014c8>"
      ]
     },
     "execution_count": 90,
     "metadata": {},
     "output_type": "execute_result"
    },
    {
     "data": {
      "image/png": "[encoded data removed]",
      "text/plain": [
       "<Figure size 432x288 with 1 Axes>"
      ]
     },
     "metadata": {
      "needs_background": "light"
     },
     "output_type": "display_data"
    }
   ],
   "source": [
    "train_df[\"bath\"].hist(log=False,bins=50)"
   ]
  },
  {
   "cell_type": "markdown",
   "metadata": {},
   "source": [
    "##### Drop data with high area"
   ]
  },
  {
   "cell_type": "code",
   "execution_count": 32,
   "metadata": {},
   "outputs": [
    {
     "data": {
      "text/plain": [
       "<matplotlib.axes._subplots.AxesSubplot at 0x2a07e185cc8>"
      ]
     },
     "execution_count": 32,
     "metadata": {},
     "output_type": "execute_result"
    },
    {
     "data": {
      "image/png": "[encoded data removed]",
      "text/plain": [
       "<Figure size 432x288 with 1 Axes>"
      ]
     },
     "metadata": {
      "needs_background": "light"
     },
     "output_type": "display_data"
    }
   ],
   "source": [
    "train_df[\"total_area\"].hist(bins=100,log=True)"
   ]
  },
  {
   "cell_type": "code",
   "execution_count": 39,
   "metadata": {},
   "outputs": [
    {
     "data": {
      "text/plain": [
       "1086     1306799.70\n",
       "648      1123031.25\n",
       "7001      653400.00\n",
       "7607      653399.85\n",
       "11615     261359.94\n",
       "            ...    \n",
       "1122          24.00\n",
       "1020          15.00\n",
       "349           11.00\n",
       "4972           5.00\n",
       "4086           1.00\n",
       "Name: total_area, Length: 13318, dtype: float64"
      ]
     },
     "execution_count": 39,
     "metadata": {},
     "output_type": "execute_result"
    }
   ],
   "source": [
    "train_df[\"total_area\"].sort_values()[::-1]"
   ]
  },
  {
   "cell_type": "code",
   "execution_count": 42,
   "metadata": {},
   "outputs": [
    {
     "data": {
      "text/html": [
       "<div>\n",
       "<style scoped>\n",
       "    .dataframe tbody tr th:only-of-type {\n",
       "        vertical-align: middle;\n",
       "    }\n",
       "\n",
       "    .dataframe tbody tr th {\n",
       "        vertical-align: top;\n",
       "    }\n",
       "\n",
       "    .dataframe thead th {\n",
       "        text-align: right;\n",
       "    }\n",
       "</style>\n",
       "<table border=\"1\" class=\"dataframe\">\n",
       "  <thead>\n",
       "    <tr style=\"text-align: right;\">\n",
       "      <th></th>\n",
       "      <th>area_type</th>\n",
       "      <th>availability</th>\n",
       "      <th>location</th>\n",
       "      <th>size</th>\n",
       "      <th>society</th>\n",
       "      <th>total_sqft</th>\n",
       "      <th>bath</th>\n",
       "      <th>balcony</th>\n",
       "      <th>price</th>\n",
       "      <th>source</th>\n",
       "      <th>belongs_to_society</th>\n",
       "      <th>total_area</th>\n",
       "      <th>area_type_Built-up  Area</th>\n",
       "      <th>area_type_Carpet  Area</th>\n",
       "      <th>area_type_Plot  Area</th>\n",
       "      <th>area_type_Super built-up  Area</th>\n",
       "      <th>availability_Immediate Possession</th>\n",
       "      <th>availability_Not Available</th>\n",
       "      <th>availability_Ready To Move</th>\n",
       "    </tr>\n",
       "  </thead>\n",
       "  <tbody>\n",
       "    <tr>\n",
       "      <th>648</th>\n",
       "      <td>Built-up  Area</td>\n",
       "      <td>Ready To Move</td>\n",
       "      <td>arekere</td>\n",
       "      <td>9.0</td>\n",
       "      <td>no_society</td>\n",
       "      <td>4125Perch</td>\n",
       "      <td>9.0</td>\n",
       "      <td>2.0</td>\n",
       "      <td>265.0</td>\n",
       "      <td>train</td>\n",
       "      <td>0</td>\n",
       "      <td>1.123031e+06</td>\n",
       "      <td>1</td>\n",
       "      <td>0</td>\n",
       "      <td>0</td>\n",
       "      <td>0</td>\n",
       "      <td>0</td>\n",
       "      <td>0</td>\n",
       "      <td>1</td>\n",
       "    </tr>\n",
       "    <tr>\n",
       "      <th>1019</th>\n",
       "      <td>Plot  Area</td>\n",
       "      <td>Not Available</td>\n",
       "      <td>marathi layout</td>\n",
       "      <td>1.0</td>\n",
       "      <td>no_society</td>\n",
       "      <td>5.31Acres</td>\n",
       "      <td>1.0</td>\n",
       "      <td>0.0</td>\n",
       "      <td>110.0</td>\n",
       "      <td>train</td>\n",
       "      <td>0</td>\n",
       "      <td>2.313035e+05</td>\n",
       "      <td>0</td>\n",
       "      <td>0</td>\n",
       "      <td>1</td>\n",
       "      <td>0</td>\n",
       "      <td>0</td>\n",
       "      <td>1</td>\n",
       "      <td>0</td>\n",
       "    </tr>\n",
       "    <tr>\n",
       "      <th>1086</th>\n",
       "      <td>Plot  Area</td>\n",
       "      <td>Not Available</td>\n",
       "      <td>narasapura</td>\n",
       "      <td>2.0</td>\n",
       "      <td>no_society</td>\n",
       "      <td>30Acres</td>\n",
       "      <td>2.0</td>\n",
       "      <td>2.0</td>\n",
       "      <td>29.5</td>\n",
       "      <td>train</td>\n",
       "      <td>0</td>\n",
       "      <td>1.306800e+06</td>\n",
       "      <td>0</td>\n",
       "      <td>0</td>\n",
       "      <td>1</td>\n",
       "      <td>0</td>\n",
       "      <td>0</td>\n",
       "      <td>1</td>\n",
       "      <td>0</td>\n",
       "    </tr>\n",
       "    <tr>\n",
       "      <th>7001</th>\n",
       "      <td>Plot  Area</td>\n",
       "      <td>Ready To Move</td>\n",
       "      <td>thyagaraja nagar</td>\n",
       "      <td>8.0</td>\n",
       "      <td>no_society</td>\n",
       "      <td>1500Cents</td>\n",
       "      <td>6.0</td>\n",
       "      <td>2.0</td>\n",
       "      <td>290.0</td>\n",
       "      <td>train</td>\n",
       "      <td>0</td>\n",
       "      <td>6.534000e+05</td>\n",
       "      <td>0</td>\n",
       "      <td>0</td>\n",
       "      <td>1</td>\n",
       "      <td>0</td>\n",
       "      <td>0</td>\n",
       "      <td>0</td>\n",
       "      <td>1</td>\n",
       "    </tr>\n",
       "    <tr>\n",
       "      <th>7607</th>\n",
       "      <td>Plot  Area</td>\n",
       "      <td>Ready To Move</td>\n",
       "      <td>bommenahalli</td>\n",
       "      <td>3.0</td>\n",
       "      <td>prood g</td>\n",
       "      <td>15Acres</td>\n",
       "      <td>3.0</td>\n",
       "      <td>1.0</td>\n",
       "      <td>217.0</td>\n",
       "      <td>train</td>\n",
       "      <td>1</td>\n",
       "      <td>6.533998e+05</td>\n",
       "      <td>0</td>\n",
       "      <td>0</td>\n",
       "      <td>1</td>\n",
       "      <td>0</td>\n",
       "      <td>0</td>\n",
       "      <td>0</td>\n",
       "      <td>1</td>\n",
       "    </tr>\n",
       "    <tr>\n",
       "      <th>11615</th>\n",
       "      <td>Plot  Area</td>\n",
       "      <td>Ready To Move</td>\n",
       "      <td>arudi</td>\n",
       "      <td>3.0</td>\n",
       "      <td>no_society</td>\n",
       "      <td>6Acres</td>\n",
       "      <td>2.0</td>\n",
       "      <td>0.0</td>\n",
       "      <td>80.0</td>\n",
       "      <td>train</td>\n",
       "      <td>0</td>\n",
       "      <td>2.613599e+05</td>\n",
       "      <td>0</td>\n",
       "      <td>0</td>\n",
       "      <td>1</td>\n",
       "      <td>0</td>\n",
       "      <td>0</td>\n",
       "      <td>0</td>\n",
       "      <td>1</td>\n",
       "    </tr>\n",
       "  </tbody>\n",
       "</table>\n",
       "</div>"
      ],
      "text/plain": [
       "            area_type   availability          location  size     society  \\\n",
       "648    Built-up  Area  Ready To Move           arekere   9.0  no_society   \n",
       "1019       Plot  Area  Not Available    marathi layout   1.0  no_society   \n",
       "1086       Plot  Area  Not Available        narasapura   2.0  no_society   \n",
       "7001       Plot  Area  Ready To Move  thyagaraja nagar   8.0  no_society   \n",
       "7607       Plot  Area  Ready To Move      bommenahalli   3.0     prood g   \n",
       "11615      Plot  Area  Ready To Move             arudi   3.0  no_society   \n",
       "\n",
       "      total_sqft  bath  balcony  price source  belongs_to_society  \\\n",
       "648    4125Perch   9.0      2.0  265.0  train                   0   \n",
       "1019   5.31Acres   1.0      0.0  110.0  train                   0   \n",
       "1086     30Acres   2.0      2.0   29.5  train                   0   \n",
       "7001   1500Cents   6.0      2.0  290.0  train                   0   \n",
       "7607     15Acres   3.0      1.0  217.0  train                   1   \n",
       "11615     6Acres   2.0      0.0   80.0  train                   0   \n",
       "\n",
       "         total_area  area_type_Built-up  Area  area_type_Carpet  Area  \\\n",
       "648    1.123031e+06                         1                       0   \n",
       "1019   2.313035e+05                         0                       0   \n",
       "1086   1.306800e+06                         0                       0   \n",
       "7001   6.534000e+05                         0                       0   \n",
       "7607   6.533998e+05                         0                       0   \n",
       "11615  2.613599e+05                         0                       0   \n",
       "\n",
       "       area_type_Plot  Area  area_type_Super built-up  Area  \\\n",
       "648                       0                               0   \n",
       "1019                      1                               0   \n",
       "1086                      1                               0   \n",
       "7001                      1                               0   \n",
       "7607                      1                               0   \n",
       "11615                     1                               0   \n",
       "\n",
       "       availability_Immediate Possession  availability_Not Available  \\\n",
       "648                                    0                           0   \n",
       "1019                                   0                           1   \n",
       "1086                                   0                           1   \n",
       "7001                                   0                           0   \n",
       "7607                                   0                           0   \n",
       "11615                                  0                           0   \n",
       "\n",
       "       availability_Ready To Move  \n",
       "648                             1  \n",
       "1019                            0  \n",
       "1086                            0  \n",
       "7001                            1  \n",
       "7607                            1  \n",
       "11615                           1  "
      ]
     },
     "execution_count": 42,
     "metadata": {},
     "output_type": "execute_result"
    }
   ],
   "source": [
    "train_df[train_df[\"total_area\"]>100000]"
   ]
  },
  {
   "cell_type": "code",
   "execution_count": 43,
   "metadata": {},
   "outputs": [
    {
     "data": {
      "text/plain": [
       "<matplotlib.axes._subplots.AxesSubplot at 0x2a07e2c0a88>"
      ]
     },
     "execution_count": 43,
     "metadata": {},
     "output_type": "execute_result"
    },
    {
     "data": {
      "image/png": "[encoded data removed]",
      "text/plain": [
       "<Figure size 432x288 with 1 Axes>"
      ]
     },
     "metadata": {
      "needs_background": "light"
     },
     "output_type": "display_data"
    }
   ],
   "source": [
    "train_df.boxplot(column=\"total_area\")"
   ]
  },
  {
   "cell_type": "code",
   "execution_count": 44,
   "metadata": {},
   "outputs": [],
   "source": [
    "train_df=train_df[train_df[\"total_area\"]<100000]"
   ]
  },
  {
   "cell_type": "code",
   "execution_count": 70,
   "metadata": {},
   "outputs": [
    {
     "data": {
      "text/plain": [
       "<matplotlib.axes._subplots.AxesSubplot at 0x2a07f64d548>"
      ]
     },
     "execution_count": 70,
     "metadata": {},
     "output_type": "execute_result"
    },
    {
     "data": {
      "image/png": "[encoded data removed]",
      "text/plain": [
       "<Figure size 432x288 with 1 Axes>"
      ]
     },
     "metadata": {
      "needs_background": "light"
     },
     "output_type": "display_data"
    }
   ],
   "source": [
    "train_df[\"total_area\"].hist(bins=100,log=True)"
   ]
  },
  {
   "cell_type": "code",
   "execution_count": 71,
   "metadata": {},
   "outputs": [],
   "source": [
    "area_power_transformer = PowerTransformer()"
   ]
  },
  {
   "cell_type": "code",
   "execution_count": 77,
   "metadata": {},
   "outputs": [],
   "source": [
    "train_df[\"total_area_power_transformed\"] = area_power_transformer.fit_transform(train_df[\"total_area\"].values.reshape(-1, 1))"
   ]
  },
  {
   "cell_type": "code",
   "execution_count": 79,
   "metadata": {},
   "outputs": [],
   "source": [
    "test_df[\"total_area_power_transformed\"]=area_power_transformer.transform(test_df[\"total_area\"].values.reshape(-1, 1))"
   ]
  },
  {
   "cell_type": "code",
   "execution_count": 80,
   "metadata": {},
   "outputs": [
    {
     "data": {
      "image/png": "[encoded data removed]",
      "text/plain": [
       "<Figure size 432x288 with 1 Axes>"
      ]
     },
     "metadata": {
      "needs_background": "light"
     },
     "output_type": "display_data"
    }
   ],
   "source": [
    "plt.hist(test_df[\"total_area_power_transformed\"],bins=50);"
   ]
  },
  {
   "cell_type": "code",
   "execution_count": 49,
   "metadata": {},
   "outputs": [
    {
     "data": {
      "text/plain": [
       "<matplotlib.axes._subplots.AxesSubplot at 0x2a07ea59888>"
      ]
     },
     "execution_count": 49,
     "metadata": {},
     "output_type": "execute_result"
    },
    {
     "data": {
      "image/png": "[encoded data removed]",
      "text/plain": [
       "<Figure size 432x288 with 1 Axes>"
      ]
     },
     "metadata": {
      "needs_background": "light"
     },
     "output_type": "display_data"
    }
   ],
   "source": [
    "train_df[\"price\"].hist(bins=50,log=False)"
   ]
  },
  {
   "cell_type": "code",
   "execution_count": 63,
   "metadata": {},
   "outputs": [],
   "source": [
    "# pt=PowerTransformer()\n",
    "\n",
    "# test_power=pt.fit_transform(X=train_df[\"price\"].values.reshape(-1, 1))\n",
    "\n",
    "# plt.hist(test_power,bins=50);"
   ]
  },
  {
   "cell_type": "code",
   "execution_count": 83,
   "metadata": {},
   "outputs": [
    {
     "data": {
      "text/html": [
       "<div>\n",
       "<style scoped>\n",
       "    .dataframe tbody tr th:only-of-type {\n",
       "        vertical-align: middle;\n",
       "    }\n",
       "\n",
       "    .dataframe tbody tr th {\n",
       "        vertical-align: top;\n",
       "    }\n",
       "\n",
       "    .dataframe thead th {\n",
       "        text-align: right;\n",
       "    }\n",
       "</style>\n",
       "<table border=\"1\" class=\"dataframe\">\n",
       "  <thead>\n",
       "    <tr style=\"text-align: right;\">\n",
       "      <th></th>\n",
       "      <th>area_type</th>\n",
       "      <th>availability</th>\n",
       "      <th>location</th>\n",
       "      <th>size</th>\n",
       "      <th>society</th>\n",
       "      <th>total_sqft</th>\n",
       "      <th>bath</th>\n",
       "      <th>balcony</th>\n",
       "      <th>price</th>\n",
       "      <th>source</th>\n",
       "      <th>belongs_to_society</th>\n",
       "      <th>total_area</th>\n",
       "      <th>area_type_Built-up  Area</th>\n",
       "      <th>area_type_Carpet  Area</th>\n",
       "      <th>area_type_Plot  Area</th>\n",
       "      <th>area_type_Super built-up  Area</th>\n",
       "      <th>availability_Immediate Possession</th>\n",
       "      <th>availability_Not Available</th>\n",
       "      <th>availability_Ready To Move</th>\n",
       "      <th>total_area_power_transformed</th>\n",
       "    </tr>\n",
       "  </thead>\n",
       "  <tbody>\n",
       "    <tr>\n",
       "      <th>9686</th>\n",
       "      <td>Plot  Area</td>\n",
       "      <td>Ready To Move</td>\n",
       "      <td>electronic city</td>\n",
       "      <td>5.0</td>\n",
       "      <td>no_society</td>\n",
       "      <td>717</td>\n",
       "      <td>5.0</td>\n",
       "      <td>1.0</td>\n",
       "      <td>78.0</td>\n",
       "      <td>train</td>\n",
       "      <td>0</td>\n",
       "      <td>717.0</td>\n",
       "      <td>0</td>\n",
       "      <td>0</td>\n",
       "      <td>1</td>\n",
       "      <td>0</td>\n",
       "      <td>0</td>\n",
       "      <td>0</td>\n",
       "      <td>1</td>\n",
       "      <td>-1.415581</td>\n",
       "    </tr>\n",
       "    <tr>\n",
       "      <th>4751</th>\n",
       "      <td>Super built-up  Area</td>\n",
       "      <td>Ready To Move</td>\n",
       "      <td>dodda nekkundi</td>\n",
       "      <td>3.0</td>\n",
       "      <td>brity u</td>\n",
       "      <td>1252</td>\n",
       "      <td>2.0</td>\n",
       "      <td>1.0</td>\n",
       "      <td>71.0</td>\n",
       "      <td>train</td>\n",
       "      <td>1</td>\n",
       "      <td>1252.0</td>\n",
       "      <td>0</td>\n",
       "      <td>0</td>\n",
       "      <td>0</td>\n",
       "      <td>1</td>\n",
       "      <td>0</td>\n",
       "      <td>0</td>\n",
       "      <td>1</td>\n",
       "      <td>-0.198406</td>\n",
       "    </tr>\n",
       "    <tr>\n",
       "      <th>210</th>\n",
       "      <td>Super built-up  Area</td>\n",
       "      <td>Not Available</td>\n",
       "      <td>1st block jayanagar</td>\n",
       "      <td>4.0</td>\n",
       "      <td>no_society</td>\n",
       "      <td>2850</td>\n",
       "      <td>4.0</td>\n",
       "      <td>1.0</td>\n",
       "      <td>428.0</td>\n",
       "      <td>train</td>\n",
       "      <td>0</td>\n",
       "      <td>2850.0</td>\n",
       "      <td>0</td>\n",
       "      <td>0</td>\n",
       "      <td>0</td>\n",
       "      <td>1</td>\n",
       "      <td>0</td>\n",
       "      <td>1</td>\n",
       "      <td>0</td>\n",
       "      <td>1.523526</td>\n",
       "    </tr>\n",
       "    <tr>\n",
       "      <th>7952</th>\n",
       "      <td>Super built-up  Area</td>\n",
       "      <td>Not Available</td>\n",
       "      <td>hebbal</td>\n",
       "      <td>3.0</td>\n",
       "      <td>snontle</td>\n",
       "      <td>2600</td>\n",
       "      <td>3.0</td>\n",
       "      <td>2.0</td>\n",
       "      <td>199.0</td>\n",
       "      <td>train</td>\n",
       "      <td>1</td>\n",
       "      <td>2600.0</td>\n",
       "      <td>0</td>\n",
       "      <td>0</td>\n",
       "      <td>0</td>\n",
       "      <td>1</td>\n",
       "      <td>0</td>\n",
       "      <td>1</td>\n",
       "      <td>0</td>\n",
       "      <td>1.335635</td>\n",
       "    </tr>\n",
       "    <tr>\n",
       "      <th>3940</th>\n",
       "      <td>Super built-up  Area</td>\n",
       "      <td>Ready To Move</td>\n",
       "      <td>kasturi nagar</td>\n",
       "      <td>4.0</td>\n",
       "      <td>radenta</td>\n",
       "      <td>1896</td>\n",
       "      <td>3.0</td>\n",
       "      <td>1.0</td>\n",
       "      <td>125.0</td>\n",
       "      <td>train</td>\n",
       "      <td>1</td>\n",
       "      <td>1896.0</td>\n",
       "      <td>0</td>\n",
       "      <td>0</td>\n",
       "      <td>0</td>\n",
       "      <td>1</td>\n",
       "      <td>0</td>\n",
       "      <td>0</td>\n",
       "      <td>1</td>\n",
       "      <td>0.681223</td>\n",
       "    </tr>\n",
       "  </tbody>\n",
       "</table>\n",
       "</div>"
      ],
      "text/plain": [
       "                 area_type   availability             location  size  \\\n",
       "9686            Plot  Area  Ready To Move      electronic city   5.0   \n",
       "4751  Super built-up  Area  Ready To Move       dodda nekkundi   3.0   \n",
       "210   Super built-up  Area  Not Available  1st block jayanagar   4.0   \n",
       "7952  Super built-up  Area  Not Available               hebbal   3.0   \n",
       "3940  Super built-up  Area  Ready To Move        kasturi nagar   4.0   \n",
       "\n",
       "         society total_sqft  bath  balcony  price source  belongs_to_society  \\\n",
       "9686  no_society        717   5.0      1.0   78.0  train                   0   \n",
       "4751     brity u       1252   2.0      1.0   71.0  train                   1   \n",
       "210   no_society       2850   4.0      1.0  428.0  train                   0   \n",
       "7952     snontle       2600   3.0      2.0  199.0  train                   1   \n",
       "3940     radenta       1896   3.0      1.0  125.0  train                   1   \n",
       "\n",
       "      total_area  area_type_Built-up  Area  area_type_Carpet  Area  \\\n",
       "9686       717.0                         0                       0   \n",
       "4751      1252.0                         0                       0   \n",
       "210       2850.0                         0                       0   \n",
       "7952      2600.0                         0                       0   \n",
       "3940      1896.0                         0                       0   \n",
       "\n",
       "      area_type_Plot  Area  area_type_Super built-up  Area  \\\n",
       "9686                     1                               0   \n",
       "4751                     0                               1   \n",
       "210                      0                               1   \n",
       "7952                     0                               1   \n",
       "3940                     0                               1   \n",
       "\n",
       "      availability_Immediate Possession  availability_Not Available  \\\n",
       "9686                                  0                           0   \n",
       "4751                                  0                           0   \n",
       "210                                   0                           1   \n",
       "7952                                  0                           1   \n",
       "3940                                  0                           0   \n",
       "\n",
       "      availability_Ready To Move  total_area_power_transformed  \n",
       "9686                           1                     -1.415581  \n",
       "4751                           1                     -0.198406  \n",
       "210                            0                      1.523526  \n",
       "7952                           0                      1.335635  \n",
       "3940                           1                      0.681223  "
      ]
     },
     "execution_count": 83,
     "metadata": {},
     "output_type": "execute_result"
    }
   ],
   "source": [
    "train_df.sample(5)"
   ]
  },
  {
   "cell_type": "code",
   "execution_count": 89,
   "metadata": {},
   "outputs": [],
   "source": [
    "pickle.dump(train_df,open('train_df2.pk', 'wb'))\n",
    "pickle.dump(test_df,open('test_df2.pk', 'wb'))"
   ]
  },
  {
   "cell_type": "markdown",
   "metadata": {},
   "source": [
    "## Categorical Features More Cleaning"
   ]
  },
  {
   "cell_type": "code",
   "execution_count": 109,
   "metadata": {},
   "outputs": [
    {
     "data": {
      "text/plain": [
       "whitefield                       543\n",
       "sarjapur road                    407\n",
       "electronic city                  304\n",
       "kanakpura road                   273\n",
       "thanisandra                      237\n",
       "                                ... \n",
       "vikram nagar                       1\n",
       "sathanur                           1\n",
       "t c palya main road                1\n",
       "ckikkakammana halli                1\n",
       "asha township off hennur road      1\n",
       "Name: location, Length: 1268, dtype: int64"
      ]
     },
     "execution_count": 109,
     "metadata": {},
     "output_type": "execute_result"
    },
    {
     "data": {
      "text/plain": [
       "whitefield                 51\n",
       "thanisandra                43\n",
       "sarjapur road              41\n",
       "electronic city            35\n",
       "kanakpura road             26\n",
       "                           ..\n",
       "devanahalli int airport     1\n",
       "lakshmi layout              1\n",
       "aga abbas ali road          1\n",
       "padarayana pura             1\n",
       "kallumantapa                1\n",
       "Name: location, Length: 488, dtype: int64"
      ]
     },
     "execution_count": 109,
     "metadata": {},
     "output_type": "execute_result"
    }
   ],
   "source": [
    "train_df[\"location\"].value_counts()\n",
    "test_df[\"location\"].value_counts()"
   ]
  },
  {
   "cell_type": "code",
   "execution_count": 111,
   "metadata": {},
   "outputs": [],
   "source": [
    "train_location_df=value_counts_df(train_df,\"location\").reset_index()"
   ]
  },
  {
   "cell_type": "code",
   "execution_count": 118,
   "metadata": {},
   "outputs": [],
   "source": [
    "uncommon_locations=train_location_df[train_location_df[\"count\"]<10][\"location\"]"
   ]
  },
  {
   "cell_type": "code",
   "execution_count": 126,
   "metadata": {},
   "outputs": [
    {
     "data": {
      "text/plain": [
       "array(['ittamadu', 'kudlu main road', 'mathikere', ...,\n",
       "       't c palya main road', 'ckikkakammana halli',\n",
       "       'asha township off hennur road'], dtype=object)"
      ]
     },
     "execution_count": 126,
     "metadata": {},
     "output_type": "execute_result"
    }
   ],
   "source": [
    "uncommon_locations.values"
   ]
  },
  {
   "cell_type": "code",
   "execution_count": 129,
   "metadata": {},
   "outputs": [],
   "source": [
    "train_df[\"location\"]=train_df[\"location\"].replace(uncommon_locations.values,\"other\")"
   ]
  },
  {
   "cell_type": "code",
   "execution_count": 130,
   "metadata": {},
   "outputs": [
    {
     "data": {
      "text/plain": [
       "no_society    5495\n",
       "grrvagr         80\n",
       "prarepa         76\n",
       "sryalan         59\n",
       "prtates         59\n",
       "              ... \n",
       "akave e          1\n",
       "apavea           1\n",
       "reyle l          1\n",
       "sapazta          1\n",
       "p num p          1\n",
       "Name: society, Length: 2686, dtype: int64"
      ]
     },
     "execution_count": 130,
     "metadata": {},
     "output_type": "execute_result"
    }
   ],
   "source": [
    "train_df[\"society\"].value_counts()"
   ]
  },
  {
   "cell_type": "code",
   "execution_count": 131,
   "metadata": {},
   "outputs": [],
   "source": [
    "train_society_df=value_counts_df(train_df,\"society\").reset_index()"
   ]
  },
  {
   "cell_type": "code",
   "execution_count": 135,
   "metadata": {},
   "outputs": [],
   "source": [
    "uncommon_society=train_society_df[train_society_df[\"count\"]<6][\"society\"]\n",
    "# train_society_df[train_society_df[\"count\"]>5]"
   ]
  },
  {
   "cell_type": "code",
   "execution_count": 136,
   "metadata": {},
   "outputs": [],
   "source": [
    "train_df[\"society\"]=train_df[\"society\"].replace(uncommon_society.values,\"other\")"
   ]
  },
  {
   "cell_type": "code",
   "execution_count": 138,
   "metadata": {},
   "outputs": [],
   "source": [
    "pickle.dump(train_df,open('train_df3.pk', 'wb'))"
   ]
  },
  {
   "cell_type": "markdown",
   "metadata": {},
   "source": [
    "## Prepare Data for Model"
   ]
  },
  {
   "cell_type": "code",
   "execution_count": 140,
   "metadata": {},
   "outputs": [
    {
     "data": {
      "text/plain": [
       "Index(['area_type', 'availability', 'location', 'size', 'society',\n",
       "       'total_sqft', 'bath', 'balcony', 'price', 'source',\n",
       "       'belongs_to_society', 'total_area', 'area_type_Built-up  Area',\n",
       "       'area_type_Carpet  Area', 'area_type_Plot  Area',\n",
       "       'area_type_Super built-up  Area', 'availability_Immediate Possession',\n",
       "       'availability_Not Available', 'availability_Ready To Move',\n",
       "       'total_area_power_transformed'],\n",
       "      dtype='object')"
      ]
     },
     "execution_count": 140,
     "metadata": {},
     "output_type": "execute_result"
    }
   ],
   "source": [
    "train_df.columns"
   ]
  },
  {
   "cell_type": "code",
   "execution_count": 182,
   "metadata": {},
   "outputs": [],
   "source": [
    "to_drop=['area_type', 'availability', 'total_sqft', 'source',\"price\",'total_area_power_transformed']"
   ]
  },
  {
   "cell_type": "code",
   "execution_count": 183,
   "metadata": {},
   "outputs": [],
   "source": [
    "categorical_features=[\"society\",\"location\"]"
   ]
  },
  {
   "cell_type": "code",
   "execution_count": 184,
   "metadata": {},
   "outputs": [],
   "source": [
    "y=train_df[\"price\"]\n",
    "X=train_df.drop(to_drop,axis=1)\n",
    "X_final=test_df.drop(to_drop,axis=1)"
   ]
  },
  {
   "cell_type": "code",
   "execution_count": 185,
   "metadata": {},
   "outputs": [
    {
     "data": {
      "text/html": [
       "<div>\n",
       "<style scoped>\n",
       "    .dataframe tbody tr th:only-of-type {\n",
       "        vertical-align: middle;\n",
       "    }\n",
       "\n",
       "    .dataframe tbody tr th {\n",
       "        vertical-align: top;\n",
       "    }\n",
       "\n",
       "    .dataframe thead th {\n",
       "        text-align: right;\n",
       "    }\n",
       "</style>\n",
       "<table border=\"1\" class=\"dataframe\">\n",
       "  <thead>\n",
       "    <tr style=\"text-align: right;\">\n",
       "      <th></th>\n",
       "      <th>location</th>\n",
       "      <th>size</th>\n",
       "      <th>society</th>\n",
       "      <th>bath</th>\n",
       "      <th>balcony</th>\n",
       "      <th>belongs_to_society</th>\n",
       "      <th>total_area</th>\n",
       "      <th>area_type_Built-up  Area</th>\n",
       "      <th>area_type_Carpet  Area</th>\n",
       "      <th>area_type_Plot  Area</th>\n",
       "      <th>area_type_Super built-up  Area</th>\n",
       "      <th>availability_Immediate Possession</th>\n",
       "      <th>availability_Not Available</th>\n",
       "      <th>availability_Ready To Move</th>\n",
       "    </tr>\n",
       "  </thead>\n",
       "  <tbody>\n",
       "    <tr>\n",
       "      <th>0</th>\n",
       "      <td>electronic city phase ii</td>\n",
       "      <td>2.0</td>\n",
       "      <td>other</td>\n",
       "      <td>2.0</td>\n",
       "      <td>1.0</td>\n",
       "      <td>1</td>\n",
       "      <td>1056.0</td>\n",
       "      <td>0</td>\n",
       "      <td>0</td>\n",
       "      <td>0</td>\n",
       "      <td>1</td>\n",
       "      <td>0</td>\n",
       "      <td>1</td>\n",
       "      <td>0</td>\n",
       "    </tr>\n",
       "    <tr>\n",
       "      <th>1</th>\n",
       "      <td>chikka tirupathi</td>\n",
       "      <td>4.0</td>\n",
       "      <td>theanmp</td>\n",
       "      <td>5.0</td>\n",
       "      <td>3.0</td>\n",
       "      <td>1</td>\n",
       "      <td>2600.0</td>\n",
       "      <td>0</td>\n",
       "      <td>0</td>\n",
       "      <td>1</td>\n",
       "      <td>0</td>\n",
       "      <td>0</td>\n",
       "      <td>0</td>\n",
       "      <td>1</td>\n",
       "    </tr>\n",
       "    <tr>\n",
       "      <th>2</th>\n",
       "      <td>uttarahalli</td>\n",
       "      <td>3.0</td>\n",
       "      <td>no_society</td>\n",
       "      <td>2.0</td>\n",
       "      <td>3.0</td>\n",
       "      <td>0</td>\n",
       "      <td>1440.0</td>\n",
       "      <td>1</td>\n",
       "      <td>0</td>\n",
       "      <td>0</td>\n",
       "      <td>0</td>\n",
       "      <td>0</td>\n",
       "      <td>0</td>\n",
       "      <td>1</td>\n",
       "    </tr>\n",
       "    <tr>\n",
       "      <th>3</th>\n",
       "      <td>lingadheeranahalli</td>\n",
       "      <td>3.0</td>\n",
       "      <td>soiewre</td>\n",
       "      <td>3.0</td>\n",
       "      <td>1.0</td>\n",
       "      <td>1</td>\n",
       "      <td>1521.0</td>\n",
       "      <td>0</td>\n",
       "      <td>0</td>\n",
       "      <td>0</td>\n",
       "      <td>1</td>\n",
       "      <td>0</td>\n",
       "      <td>0</td>\n",
       "      <td>1</td>\n",
       "    </tr>\n",
       "    <tr>\n",
       "      <th>4</th>\n",
       "      <td>kothanur</td>\n",
       "      <td>2.0</td>\n",
       "      <td>no_society</td>\n",
       "      <td>2.0</td>\n",
       "      <td>1.0</td>\n",
       "      <td>0</td>\n",
       "      <td>1200.0</td>\n",
       "      <td>0</td>\n",
       "      <td>0</td>\n",
       "      <td>0</td>\n",
       "      <td>1</td>\n",
       "      <td>0</td>\n",
       "      <td>0</td>\n",
       "      <td>1</td>\n",
       "    </tr>\n",
       "  </tbody>\n",
       "</table>\n",
       "</div>"
      ],
      "text/plain": [
       "                   location  size     society  bath  balcony  \\\n",
       "0  electronic city phase ii   2.0       other   2.0      1.0   \n",
       "1          chikka tirupathi   4.0     theanmp   5.0      3.0   \n",
       "2               uttarahalli   3.0  no_society   2.0      3.0   \n",
       "3        lingadheeranahalli   3.0     soiewre   3.0      1.0   \n",
       "4                  kothanur   2.0  no_society   2.0      1.0   \n",
       "\n",
       "   belongs_to_society  total_area  area_type_Built-up  Area  \\\n",
       "0                   1      1056.0                         0   \n",
       "1                   1      2600.0                         0   \n",
       "2                   0      1440.0                         1   \n",
       "3                   1      1521.0                         0   \n",
       "4                   0      1200.0                         0   \n",
       "\n",
       "   area_type_Carpet  Area  area_type_Plot  Area  \\\n",
       "0                       0                     0   \n",
       "1                       0                     1   \n",
       "2                       0                     0   \n",
       "3                       0                     0   \n",
       "4                       0                     0   \n",
       "\n",
       "   area_type_Super built-up  Area  availability_Immediate Possession  \\\n",
       "0                               1                                  0   \n",
       "1                               0                                  0   \n",
       "2                               0                                  0   \n",
       "3                               1                                  0   \n",
       "4                               1                                  0   \n",
       "\n",
       "   availability_Not Available  availability_Ready To Move  \n",
       "0                           1                           0  \n",
       "1                           0                           1  \n",
       "2                           0                           1  \n",
       "3                           0                           1  \n",
       "4                           0                           1  "
      ]
     },
     "execution_count": 185,
     "metadata": {},
     "output_type": "execute_result"
    },
    {
     "data": {
      "text/html": [
       "<div>\n",
       "<style scoped>\n",
       "    .dataframe tbody tr th:only-of-type {\n",
       "        vertical-align: middle;\n",
       "    }\n",
       "\n",
       "    .dataframe tbody tr th {\n",
       "        vertical-align: top;\n",
       "    }\n",
       "\n",
       "    .dataframe thead th {\n",
       "        text-align: right;\n",
       "    }\n",
       "</style>\n",
       "<table border=\"1\" class=\"dataframe\">\n",
       "  <thead>\n",
       "    <tr style=\"text-align: right;\">\n",
       "      <th></th>\n",
       "      <th>location</th>\n",
       "      <th>size</th>\n",
       "      <th>society</th>\n",
       "      <th>bath</th>\n",
       "      <th>balcony</th>\n",
       "      <th>belongs_to_society</th>\n",
       "      <th>total_area</th>\n",
       "      <th>area_type_Built-up  Area</th>\n",
       "      <th>area_type_Carpet  Area</th>\n",
       "      <th>area_type_Plot  Area</th>\n",
       "      <th>area_type_Super built-up  Area</th>\n",
       "      <th>availability_Immediate Possession</th>\n",
       "      <th>availability_Not Available</th>\n",
       "      <th>availability_Ready To Move</th>\n",
       "    </tr>\n",
       "  </thead>\n",
       "  <tbody>\n",
       "    <tr>\n",
       "      <th>13320</th>\n",
       "      <td>brookefield</td>\n",
       "      <td>2.0</td>\n",
       "      <td>roeekbl</td>\n",
       "      <td>2.0</td>\n",
       "      <td>2.0</td>\n",
       "      <td>1</td>\n",
       "      <td>1225.0</td>\n",
       "      <td>0</td>\n",
       "      <td>0</td>\n",
       "      <td>0</td>\n",
       "      <td>1</td>\n",
       "      <td>0</td>\n",
       "      <td>0</td>\n",
       "      <td>1</td>\n",
       "    </tr>\n",
       "    <tr>\n",
       "      <th>13321</th>\n",
       "      <td>akshaya nagar</td>\n",
       "      <td>9.0</td>\n",
       "      <td>no_society</td>\n",
       "      <td>9.0</td>\n",
       "      <td>2.0</td>\n",
       "      <td>0</td>\n",
       "      <td>2400.0</td>\n",
       "      <td>0</td>\n",
       "      <td>0</td>\n",
       "      <td>1</td>\n",
       "      <td>0</td>\n",
       "      <td>0</td>\n",
       "      <td>0</td>\n",
       "      <td>1</td>\n",
       "    </tr>\n",
       "    <tr>\n",
       "      <th>13322</th>\n",
       "      <td>hennur road</td>\n",
       "      <td>4.0</td>\n",
       "      <td>saandtt</td>\n",
       "      <td>5.0</td>\n",
       "      <td>2.0</td>\n",
       "      <td>1</td>\n",
       "      <td>1650.0</td>\n",
       "      <td>0</td>\n",
       "      <td>0</td>\n",
       "      <td>1</td>\n",
       "      <td>0</td>\n",
       "      <td>0</td>\n",
       "      <td>1</td>\n",
       "      <td>0</td>\n",
       "    </tr>\n",
       "    <tr>\n",
       "      <th>13323</th>\n",
       "      <td>kodichikkanahalli</td>\n",
       "      <td>3.0</td>\n",
       "      <td>winerri</td>\n",
       "      <td>3.0</td>\n",
       "      <td>1.0</td>\n",
       "      <td>1</td>\n",
       "      <td>1322.0</td>\n",
       "      <td>0</td>\n",
       "      <td>0</td>\n",
       "      <td>0</td>\n",
       "      <td>1</td>\n",
       "      <td>0</td>\n",
       "      <td>0</td>\n",
       "      <td>1</td>\n",
       "    </tr>\n",
       "    <tr>\n",
       "      <th>13324</th>\n",
       "      <td>konanakunte</td>\n",
       "      <td>2.0</td>\n",
       "      <td>amagesa</td>\n",
       "      <td>2.0</td>\n",
       "      <td>1.0</td>\n",
       "      <td>1</td>\n",
       "      <td>1161.0</td>\n",
       "      <td>0</td>\n",
       "      <td>0</td>\n",
       "      <td>0</td>\n",
       "      <td>1</td>\n",
       "      <td>0</td>\n",
       "      <td>0</td>\n",
       "      <td>1</td>\n",
       "    </tr>\n",
       "  </tbody>\n",
       "</table>\n",
       "</div>"
      ],
      "text/plain": [
       "                location  size     society  bath  balcony  belongs_to_society  \\\n",
       "13320        brookefield   2.0     roeekbl   2.0      2.0                   1   \n",
       "13321      akshaya nagar   9.0  no_society   9.0      2.0                   0   \n",
       "13322        hennur road   4.0     saandtt   5.0      2.0                   1   \n",
       "13323  kodichikkanahalli   3.0     winerri   3.0      1.0                   1   \n",
       "13324        konanakunte   2.0     amagesa   2.0      1.0                   1   \n",
       "\n",
       "       total_area  area_type_Built-up  Area  area_type_Carpet  Area  \\\n",
       "13320      1225.0                         0                       0   \n",
       "13321      2400.0                         0                       0   \n",
       "13322      1650.0                         0                       0   \n",
       "13323      1322.0                         0                       0   \n",
       "13324      1161.0                         0                       0   \n",
       "\n",
       "       area_type_Plot  Area  area_type_Super built-up  Area  \\\n",
       "13320                     0                               1   \n",
       "13321                     1                               0   \n",
       "13322                     1                               0   \n",
       "13323                     0                               1   \n",
       "13324                     0                               1   \n",
       "\n",
       "       availability_Immediate Possession  availability_Not Available  \\\n",
       "13320                                  0                           0   \n",
       "13321                                  0                           0   \n",
       "13322                                  0                           1   \n",
       "13323                                  0                           0   \n",
       "13324                                  0                           0   \n",
       "\n",
       "       availability_Ready To Move  \n",
       "13320                           1  \n",
       "13321                           1  \n",
       "13322                           0  \n",
       "13323                           1  \n",
       "13324                           1  "
      ]
     },
     "execution_count": 185,
     "metadata": {},
     "output_type": "execute_result"
    }
   ],
   "source": [
    "X.head()\n",
    "X_final.head()"
   ]
  },
  {
   "cell_type": "code",
   "execution_count": 171,
   "metadata": {},
   "outputs": [],
   "source": [
    "X_train, X_test, y_train, y_test = train_test_split(X, y, test_size=0.33, random_state=seed)"
   ]
  },
  {
   "cell_type": "code",
   "execution_count": 172,
   "metadata": {},
   "outputs": [],
   "source": [
    "catboost_reg=CatBoostRegressor(cat_features=categorical_features)"
   ]
  },
  {
   "cell_type": "code",
   "execution_count": 173,
   "metadata": {},
   "outputs": [
    {
     "name": "stdout",
     "output_type": "stream",
     "text": [
      "Learning rate set to 0.057618\n",
      "0:\tlearn: 140.4832518\ttotal: 42.3ms\tremaining: 42.2s\n",
      "9:\tlearn: 116.1272035\ttotal: 268ms\tremaining: 26.5s\n",
      "18:\tlearn: 103.3891770\ttotal: 449ms\tremaining: 23.2s\n",
      "27:\tlearn: 95.7674749\ttotal: 610ms\tremaining: 21.2s\n",
      "36:\tlearn: 90.9396142\ttotal: 750ms\tremaining: 19.5s\n",
      "45:\tlearn: 88.0723257\ttotal: 874ms\tremaining: 18.1s\n",
      "54:\tlearn: 85.8195236\ttotal: 1.01s\tremaining: 17.3s\n",
      "63:\tlearn: 83.6755709\ttotal: 1.13s\tremaining: 16.5s\n",
      "72:\tlearn: 82.1451245\ttotal: 1.23s\tremaining: 15.6s\n",
      "81:\tlearn: 80.9944039\ttotal: 1.36s\tremaining: 15.3s\n",
      "90:\tlearn: 80.2211947\ttotal: 1.51s\tremaining: 15.1s\n",
      "99:\tlearn: 79.0229125\ttotal: 1.67s\tremaining: 15s\n",
      "108:\tlearn: 78.0474294\ttotal: 1.76s\tremaining: 14.4s\n",
      "117:\tlearn: 77.2751615\ttotal: 1.9s\tremaining: 14.2s\n",
      "126:\tlearn: 76.3520740\ttotal: 2.02s\tremaining: 13.9s\n",
      "135:\tlearn: 75.4834226\ttotal: 2.16s\tremaining: 13.7s\n",
      "144:\tlearn: 74.8157463\ttotal: 2.28s\tremaining: 13.5s\n",
      "153:\tlearn: 73.9176629\ttotal: 2.41s\tremaining: 13.2s\n",
      "162:\tlearn: 73.3394521\ttotal: 2.5s\tremaining: 12.9s\n",
      "171:\tlearn: 72.6804807\ttotal: 2.59s\tremaining: 12.5s\n",
      "180:\tlearn: 71.9974072\ttotal: 2.71s\tremaining: 12.2s\n",
      "189:\tlearn: 71.4740628\ttotal: 2.87s\tremaining: 12.2s\n",
      "198:\tlearn: 70.6211810\ttotal: 3s\tremaining: 12.1s\n",
      "207:\tlearn: 70.2542097\ttotal: 3.08s\tremaining: 11.7s\n",
      "216:\tlearn: 69.5915857\ttotal: 3.2s\tremaining: 11.6s\n",
      "225:\tlearn: 69.0703979\ttotal: 3.3s\tremaining: 11.3s\n",
      "234:\tlearn: 68.4780107\ttotal: 3.37s\tremaining: 11s\n",
      "243:\tlearn: 68.1198487\ttotal: 3.51s\tremaining: 10.9s\n",
      "252:\tlearn: 67.6876181\ttotal: 3.63s\tremaining: 10.7s\n",
      "261:\tlearn: 67.2349465\ttotal: 3.74s\tremaining: 10.5s\n",
      "270:\tlearn: 66.6790941\ttotal: 3.85s\tremaining: 10.4s\n",
      "279:\tlearn: 66.1534314\ttotal: 3.93s\tremaining: 10.1s\n",
      "288:\tlearn: 65.5976612\ttotal: 4.04s\tremaining: 9.95s\n",
      "297:\tlearn: 65.1551636\ttotal: 4.17s\tremaining: 9.82s\n",
      "306:\tlearn: 64.6598375\ttotal: 4.27s\tremaining: 9.64s\n",
      "315:\tlearn: 64.1784320\ttotal: 4.39s\tremaining: 9.51s\n",
      "324:\tlearn: 63.7753658\ttotal: 4.49s\tremaining: 9.32s\n",
      "333:\tlearn: 63.3444576\ttotal: 4.6s\tremaining: 9.18s\n",
      "342:\tlearn: 62.9065545\ttotal: 4.71s\tremaining: 9.02s\n",
      "351:\tlearn: 62.5267037\ttotal: 4.81s\tremaining: 8.85s\n",
      "360:\tlearn: 62.1139445\ttotal: 4.89s\tremaining: 8.66s\n",
      "369:\tlearn: 61.7476870\ttotal: 5.01s\tremaining: 8.53s\n",
      "378:\tlearn: 61.3844707\ttotal: 5.09s\tremaining: 8.33s\n",
      "387:\tlearn: 61.1335011\ttotal: 5.19s\tremaining: 8.19s\n",
      "396:\tlearn: 60.8190600\ttotal: 5.3s\tremaining: 8.04s\n",
      "405:\tlearn: 60.2809438\ttotal: 5.41s\tremaining: 7.92s\n",
      "414:\tlearn: 59.8862173\ttotal: 5.52s\tremaining: 7.78s\n",
      "423:\tlearn: 59.6670884\ttotal: 5.64s\tremaining: 7.66s\n",
      "432:\tlearn: 59.3965737\ttotal: 5.77s\tremaining: 7.55s\n",
      "441:\tlearn: 59.1303286\ttotal: 5.88s\tremaining: 7.42s\n",
      "450:\tlearn: 58.8979457\ttotal: 5.99s\tremaining: 7.29s\n",
      "459:\tlearn: 58.6306962\ttotal: 6.14s\tremaining: 7.21s\n",
      "468:\tlearn: 58.4640143\ttotal: 6.27s\tremaining: 7.09s\n",
      "477:\tlearn: 58.2065576\ttotal: 6.37s\tremaining: 6.95s\n",
      "486:\tlearn: 57.9817282\ttotal: 6.49s\tremaining: 6.84s\n",
      "495:\tlearn: 57.7616151\ttotal: 6.56s\tremaining: 6.67s\n",
      "504:\tlearn: 57.5366026\ttotal: 6.67s\tremaining: 6.54s\n",
      "513:\tlearn: 57.3290034\ttotal: 6.77s\tremaining: 6.4s\n",
      "522:\tlearn: 57.0848537\ttotal: 6.88s\tremaining: 6.27s\n",
      "531:\tlearn: 56.9366411\ttotal: 6.99s\tremaining: 6.14s\n",
      "540:\tlearn: 56.8212306\ttotal: 7.09s\tremaining: 6.01s\n",
      "549:\tlearn: 56.6537602\ttotal: 7.19s\tremaining: 5.88s\n",
      "558:\tlearn: 56.4907674\ttotal: 7.28s\tremaining: 5.74s\n",
      "567:\tlearn: 56.3231313\ttotal: 7.37s\tremaining: 5.61s\n",
      "576:\tlearn: 56.1477952\ttotal: 7.48s\tremaining: 5.48s\n",
      "585:\tlearn: 55.9755742\ttotal: 7.58s\tremaining: 5.36s\n",
      "594:\tlearn: 55.8712377\ttotal: 7.68s\tremaining: 5.23s\n",
      "603:\tlearn: 55.7142681\ttotal: 7.79s\tremaining: 5.11s\n",
      "612:\tlearn: 55.3867583\ttotal: 7.88s\tremaining: 4.98s\n",
      "621:\tlearn: 55.0262781\ttotal: 7.98s\tremaining: 4.85s\n",
      "630:\tlearn: 54.8268128\ttotal: 8.09s\tremaining: 4.73s\n",
      "639:\tlearn: 54.6195454\ttotal: 8.18s\tremaining: 4.6s\n",
      "648:\tlearn: 54.2808725\ttotal: 8.25s\tremaining: 4.46s\n",
      "657:\tlearn: 54.0645459\ttotal: 8.37s\tremaining: 4.35s\n",
      "666:\tlearn: 53.8515741\ttotal: 8.48s\tremaining: 4.23s\n",
      "675:\tlearn: 53.6394380\ttotal: 8.54s\tremaining: 4.09s\n",
      "684:\tlearn: 53.4258444\ttotal: 8.64s\tremaining: 3.97s\n",
      "693:\tlearn: 53.2093356\ttotal: 8.73s\tremaining: 3.85s\n",
      "702:\tlearn: 52.9909218\ttotal: 8.82s\tremaining: 3.73s\n",
      "711:\tlearn: 52.7048799\ttotal: 8.91s\tremaining: 3.6s\n",
      "720:\tlearn: 52.5687270\ttotal: 9.04s\tremaining: 3.5s\n",
      "729:\tlearn: 52.3711477\ttotal: 9.13s\tremaining: 3.38s\n",
      "738:\tlearn: 52.2125115\ttotal: 9.24s\tremaining: 3.26s\n",
      "747:\tlearn: 52.0836636\ttotal: 9.32s\tremaining: 3.14s\n",
      "756:\tlearn: 51.9140728\ttotal: 9.39s\tremaining: 3.01s\n",
      "765:\tlearn: 51.7900053\ttotal: 9.51s\tremaining: 2.91s\n",
      "774:\tlearn: 51.6717582\ttotal: 9.62s\tremaining: 2.79s\n",
      "783:\tlearn: 51.5694837\ttotal: 9.76s\tremaining: 2.69s\n",
      "792:\tlearn: 51.4844004\ttotal: 9.88s\tremaining: 2.58s\n",
      "801:\tlearn: 51.3751460\ttotal: 10s\tremaining: 2.47s\n",
      "810:\tlearn: 51.2655725\ttotal: 10.2s\tremaining: 2.37s\n",
      "819:\tlearn: 51.1696982\ttotal: 10.3s\tremaining: 2.27s\n",
      "828:\tlearn: 51.0400522\ttotal: 10.4s\tremaining: 2.15s\n",
      "837:\tlearn: 50.9595327\ttotal: 10.5s\tremaining: 2.04s\n",
      "846:\tlearn: 50.8144057\ttotal: 10.6s\tremaining: 1.92s\n",
      "855:\tlearn: 50.6974527\ttotal: 10.7s\tremaining: 1.81s\n",
      "864:\tlearn: 50.5269491\ttotal: 10.9s\tremaining: 1.69s\n",
      "873:\tlearn: 50.4092792\ttotal: 11s\tremaining: 1.58s\n",
      "882:\tlearn: 50.2586089\ttotal: 11.1s\tremaining: 1.47s\n",
      "891:\tlearn: 50.1771423\ttotal: 11.2s\tremaining: 1.36s\n",
      "900:\tlearn: 50.0725100\ttotal: 11.3s\tremaining: 1.24s\n",
      "909:\tlearn: 49.9428398\ttotal: 11.4s\tremaining: 1.13s\n",
      "918:\tlearn: 49.8062925\ttotal: 11.5s\tremaining: 1.02s\n",
      "927:\tlearn: 49.6905797\ttotal: 11.6s\tremaining: 902ms\n",
      "936:\tlearn: 49.5831386\ttotal: 11.7s\tremaining: 790ms\n",
      "945:\tlearn: 49.4516286\ttotal: 11.8s\tremaining: 676ms\n",
      "954:\tlearn: 49.3890909\ttotal: 11.9s\tremaining: 563ms\n",
      "963:\tlearn: 49.2847419\ttotal: 12s\tremaining: 449ms\n",
      "972:\tlearn: 49.1756718\ttotal: 12.2s\tremaining: 337ms\n",
      "981:\tlearn: 49.0709786\ttotal: 12.3s\tremaining: 225ms\n",
      "990:\tlearn: 48.9532249\ttotal: 12.4s\tremaining: 113ms\n",
      "999:\tlearn: 48.8752789\ttotal: 12.5s\tremaining: 0us\n"
     ]
    },
    {
     "data": {
      "text/plain": [
       "<catboost.core.CatBoostRegressor at 0x2a0029adfc8>"
      ]
     },
     "execution_count": 173,
     "metadata": {},
     "output_type": "execute_result"
    }
   ],
   "source": [
    "catboost_reg.fit(X_train,y_train,verbose=9)"
   ]
  },
  {
   "cell_type": "code",
   "execution_count": 174,
   "metadata": {},
   "outputs": [],
   "source": [
    "y_pred=catboost_reg.predict(X_test)"
   ]
  },
  {
   "cell_type": "code",
   "execution_count": 176,
   "metadata": {},
   "outputs": [
    {
     "data": {
      "text/plain": [
       "91.61583808209757"
      ]
     },
     "execution_count": 176,
     "metadata": {},
     "output_type": "execute_result"
    },
    {
     "data": {
      "text/plain": [
       "57.64941718315727"
      ]
     },
     "execution_count": 176,
     "metadata": {},
     "output_type": "execute_result"
    }
   ],
   "source": [
    "mean_squared_error(y_test,y_pred,squared=False)\n",
    "mean_squared_error(y_train,catboost_reg.predict(X_train),squared=False)"
   ]
  },
  {
   "cell_type": "code",
   "execution_count": 177,
   "metadata": {},
   "outputs": [
    {
     "name": "stderr",
     "output_type": "stream",
     "text": [
      "C:\\ProgramData\\Anaconda3\\lib\\site-packages\\ipykernel_launcher.py:1: RuntimeWarning: invalid value encountered in log10\n",
      "  \"\"\"Entry point for launching an IPython kernel.\n"
     ]
    },
    {
     "data": {
      "text/plain": [
       "0.8624095032347969"
      ]
     },
     "execution_count": 177,
     "metadata": {},
     "output_type": "execute_result"
    }
   ],
   "source": [
    "1 - np.sqrt(np.square(np.log10(y_pred +1) - np.log10(y_test +1)).mean())"
   ]
  },
  {
   "cell_type": "code",
   "execution_count": 186,
   "metadata": {},
   "outputs": [],
   "source": [
    "y_final=catboost_reg.predict(X_final)"
   ]
  },
  {
   "cell_type": "code",
   "execution_count": 188,
   "metadata": {},
   "outputs": [],
   "source": [
    "pd.Series(y_final).to_csv(\"final.csv\",index=False)"
   ]
  },
  {
   "cell_type": "code",
   "execution_count": null,
   "metadata": {},
   "outputs": [],
   "source": []
  }
 ],
 "metadata": {
  "kernelspec": {
   "display_name": "Python 3",
   "language": "python",
   "name": "python3"
  },
  "language_info": {
   "codemirror_mode": {
    "name": "ipython",
    "version": 3
   },
   "file_extension": ".py",
   "mimetype": "text/x-python",
   "name": "python",
   "nbconvert_exporter": "python",
   "pygments_lexer": "ipython3",
   "version": "3.7.6"
  }
 },
 "nbformat": 4,
 "nbformat_minor": 4
}
